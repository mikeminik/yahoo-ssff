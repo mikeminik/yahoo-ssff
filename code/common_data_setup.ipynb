{
 "cells": [
  {
   "cell_type": "code",
   "execution_count": 19,
   "id": "326bf1c1-1dd9-4605-8eee-34e3abd58705",
   "metadata": {},
   "outputs": [],
   "source": [
    "import os\n",
    "import sys\n",
    "from logging import DEBUG\n",
    "from pathlib import Path\n",
    "\n",
    "from dotenv import load_dotenv\n",
    "\n",
    "from yfpy import Data\n",
    "from yfpy.logger import get_logger\n",
    "\n",
    "import pandas as pd\n",
    "\n",
    "import json"
   ]
  },
  {
   "cell_type": "markdown",
   "id": "9cf01d5f-39d9-4d5d-93ac-fba9da52df2d",
   "metadata": {},
   "source": [
    "### Environment variables"
   ]
  },
  {
   "cell_type": "code",
   "execution_count": 20,
   "id": "b814f910-d376-45ba-8ace-73eca5305073",
   "metadata": {},
   "outputs": [],
   "source": [
    "project_dir = os.path.abspath('..')"
   ]
  },
  {
   "cell_type": "code",
   "execution_count": 21,
   "id": "58335f1e-9412-4e01-a2b1-ee0337bd37ed",
   "metadata": {},
   "outputs": [],
   "source": [
    "if not sys.path[0] == project_dir:\n",
    "    sys.path.insert(0, str(project_dir))"
   ]
  },
  {
   "cell_type": "code",
   "execution_count": 22,
   "id": "9980b8d8-eac7-4c46-a664-fed1c0b6011d",
   "metadata": {},
   "outputs": [
    {
     "data": {
      "text/plain": [
       "True"
      ]
     },
     "execution_count": 22,
     "metadata": {},
     "output_type": "execute_result"
    }
   ],
   "source": [
    "load_dotenv(dotenv_path=f\"{project_dir}/auth/.env\")"
   ]
  },
  {
   "cell_type": "markdown",
   "id": "978da8ce-0b69-4ded-8a62-5edacacc0071",
   "metadata": {},
   "source": [
    "### Set directories"
   ]
  },
  {
   "cell_type": "code",
   "execution_count": 23,
   "id": "7b1745fa-7a14-415a-8819-71cdff8cb5e2",
   "metadata": {},
   "outputs": [],
   "source": [
    "auth_dir = f\"{project_dir}/auth\""
   ]
  },
  {
   "cell_type": "code",
   "execution_count": 24,
   "id": "94c359dd-f7c4-4843-8b0d-b42180ec9292",
   "metadata": {},
   "outputs": [],
   "source": [
    "data_dir = f\"{project_dir}/data\""
   ]
  },
  {
   "cell_type": "code",
   "execution_count": 25,
   "id": "eac34d94-84c0-4de3-b701-738e3af554d9",
   "metadata": {},
   "outputs": [],
   "source": [
    "yfpy_data_dir = f\"{project_dir}/output\""
   ]
  },
  {
   "cell_type": "code",
   "execution_count": 26,
   "id": "e96e5229-f087-4746-94ac-6976149da222",
   "metadata": {},
   "outputs": [],
   "source": [
    "data = Data(yfpy_data_dir)"
   ]
  },
  {
   "cell_type": "markdown",
   "id": "12748849-4d54-4802-985d-6386acbc09d0",
   "metadata": {},
   "source": [
    "### Load and Create Common Data"
   ]
  },
  {
   "cell_type": "code",
   "execution_count": 27,
   "id": "cd1ac314-5dfd-41b0-8e90-cc1f06b020e5",
   "metadata": {},
   "outputs": [],
   "source": [
    "with open(f'{project_dir}/output/league_ids.json') as f:\n",
    "    league_ids = json.load(f)"
   ]
  },
  {
   "cell_type": "code",
   "execution_count": 28,
   "id": "0b034ee3-d422-47f0-baed-6fa0c81d2aa1",
   "metadata": {},
   "outputs": [],
   "source": [
    "game_keys = data.load('game_keys')"
   ]
  },
  {
   "cell_type": "code",
   "execution_count": null,
   "id": "61a02a91-342e-49c3-a22f-5bef43cc858b",
   "metadata": {},
   "outputs": [],
   "source": []
  },
  {
   "cell_type": "code",
   "execution_count": 29,
   "id": "a52787dd-b29e-4acc-925f-6e1697024330",
   "metadata": {},
   "outputs": [],
   "source": [
    "game_keys_list = []\n",
    "for game in game_keys:\n",
    "    entry = {'season': game.season, 'code': game.game_id}\n",
    "    game_keys_list.append(entry)"
   ]
  },
  {
   "cell_type": "code",
   "execution_count": 30,
   "id": "8cc5f7d2-c67b-4eac-9fc2-5b912bd6ee78",
   "metadata": {},
   "outputs": [],
   "source": [
    "game_keys_df = pd.DataFrame(game_keys_list)"
   ]
  },
  {
   "cell_type": "code",
   "execution_count": 31,
   "id": "5e9df040-e42d-4048-b2a7-a33f30bbb30f",
   "metadata": {},
   "outputs": [],
   "source": [
    "game_keys_df = game_keys_df[game_keys_df['season'] > 2014]"
   ]
  },
  {
   "cell_type": "code",
   "execution_count": 32,
   "id": "b0f5fa2a-5584-4ee9-9e0a-38a8d9b1baf7",
   "metadata": {},
   "outputs": [
    {
     "data": {
      "text/html": [
       "<div>\n",
       "<style scoped>\n",
       "    .dataframe tbody tr th:only-of-type {\n",
       "        vertical-align: middle;\n",
       "    }\n",
       "\n",
       "    .dataframe tbody tr th {\n",
       "        vertical-align: top;\n",
       "    }\n",
       "\n",
       "    .dataframe thead th {\n",
       "        text-align: right;\n",
       "    }\n",
       "</style>\n",
       "<table border=\"1\" class=\"dataframe\">\n",
       "  <thead>\n",
       "    <tr style=\"text-align: right;\">\n",
       "      <th></th>\n",
       "      <th>season</th>\n",
       "      <th>code</th>\n",
       "    </tr>\n",
       "  </thead>\n",
       "  <tbody>\n",
       "    <tr>\n",
       "      <th>16</th>\n",
       "      <td>2015</td>\n",
       "      <td>348</td>\n",
       "    </tr>\n",
       "    <tr>\n",
       "      <th>17</th>\n",
       "      <td>2016</td>\n",
       "      <td>359</td>\n",
       "    </tr>\n",
       "    <tr>\n",
       "      <th>18</th>\n",
       "      <td>2017</td>\n",
       "      <td>371</td>\n",
       "    </tr>\n",
       "    <tr>\n",
       "      <th>19</th>\n",
       "      <td>2018</td>\n",
       "      <td>380</td>\n",
       "    </tr>\n",
       "    <tr>\n",
       "      <th>20</th>\n",
       "      <td>2019</td>\n",
       "      <td>390</td>\n",
       "    </tr>\n",
       "    <tr>\n",
       "      <th>21</th>\n",
       "      <td>2020</td>\n",
       "      <td>399</td>\n",
       "    </tr>\n",
       "    <tr>\n",
       "      <th>22</th>\n",
       "      <td>2021</td>\n",
       "      <td>406</td>\n",
       "    </tr>\n",
       "    <tr>\n",
       "      <th>23</th>\n",
       "      <td>2022</td>\n",
       "      <td>414</td>\n",
       "    </tr>\n",
       "    <tr>\n",
       "      <th>24</th>\n",
       "      <td>2023</td>\n",
       "      <td>423</td>\n",
       "    </tr>\n",
       "  </tbody>\n",
       "</table>\n",
       "</div>"
      ],
      "text/plain": [
       "    season  code\n",
       "16    2015   348\n",
       "17    2016   359\n",
       "18    2017   371\n",
       "19    2018   380\n",
       "20    2019   390\n",
       "21    2020   399\n",
       "22    2021   406\n",
       "23    2022   414\n",
       "24    2023   423"
      ]
     },
     "execution_count": 32,
     "metadata": {},
     "output_type": "execute_result"
    }
   ],
   "source": [
    "game_keys_df"
   ]
  },
  {
   "cell_type": "code",
   "execution_count": null,
   "id": "1749d9f9-aa38-4f90-af3f-cda4570a8bf9",
   "metadata": {},
   "outputs": [],
   "source": []
  }
 ],
 "metadata": {
  "kernelspec": {
   "display_name": "Python 3 (ipykernel)",
   "language": "python",
   "name": "python3"
  },
  "language_info": {
   "codemirror_mode": {
    "name": "ipython",
    "version": 3
   },
   "file_extension": ".py",
   "mimetype": "text/x-python",
   "name": "python",
   "nbconvert_exporter": "python",
   "pygments_lexer": "ipython3",
   "version": "3.11.5"
  }
 },
 "nbformat": 4,
 "nbformat_minor": 5
}

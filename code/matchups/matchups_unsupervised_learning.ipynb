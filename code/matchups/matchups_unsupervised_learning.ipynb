{
 "cells": [
  {
   "cell_type": "code",
   "execution_count": 105,
   "id": "1f6d0578-0de2-4c9d-a501-84f2031ec2c3",
   "metadata": {},
   "outputs": [],
   "source": [
    "%run ../utils.ipynb"
   ]
  },
  {
   "cell_type": "code",
   "execution_count": 106,
   "id": "50ca7757-b6db-41d5-b391-085005044c3a",
   "metadata": {},
   "outputs": [],
   "source": [
    "from threadpoolctl import __version__"
   ]
  },
  {
   "cell_type": "code",
   "execution_count": 107,
   "id": "b5225e94-1df7-4db1-bf58-21983e66e35f",
   "metadata": {},
   "outputs": [
    {
     "data": {
      "text/plain": [
       "'3.2.0'"
      ]
     },
     "execution_count": 107,
     "metadata": {},
     "output_type": "execute_result"
    }
   ],
   "source": [
    "__version__"
   ]
  },
  {
   "cell_type": "code",
   "execution_count": 108,
   "id": "5b89c517-2150-4291-bcfb-a3bc13e550fe",
   "metadata": {},
   "outputs": [],
   "source": [
    "import pandas as pd\n",
    "import numpy as np\n",
    "\n",
    "from sklearn.cluster import KMeans, AgglomerativeClustering\n",
    "from sklearn.metrics import silhouette_score\n",
    "from sklearn.preprocessing import StandardScaler\n",
    "\n",
    "import matplotlib.pyplot as plt\n",
    "import seaborn as sns"
   ]
  },
  {
   "cell_type": "code",
   "execution_count": 109,
   "id": "dc233cbd-8338-409c-854c-eb59035eb8f5",
   "metadata": {},
   "outputs": [],
   "source": [
    "data_dir = f\"{project_dir}data\\\\matchup_player_data\\\\\""
   ]
  },
  {
   "cell_type": "code",
   "execution_count": 110,
   "id": "dbfbc5d3-7f7d-4ece-8d77-420ea874f13a",
   "metadata": {},
   "outputs": [],
   "source": [
    "df = pd.read_csv(data_dir + 'weekly_scoring_patterns.csv')"
   ]
  },
  {
   "cell_type": "code",
   "execution_count": 111,
   "id": "78f7b8b5-c9ac-4893-8bf0-e1c32acdae29",
   "metadata": {},
   "outputs": [],
   "source": [
    "df.set_index('season_week', inplace=True)"
   ]
  },
  {
   "cell_type": "code",
   "execution_count": 113,
   "id": "5e23091c-e940-4af5-a4fd-a75a03034f70",
   "metadata": {},
   "outputs": [
    {
     "data": {
      "text/plain": [
       "array(['WR', nan, 'RB', 'TE', 'WR,RB', 'RB,TE'], dtype=object)"
      ]
     },
     "execution_count": 113,
     "metadata": {},
     "output_type": "execute_result"
    }
   ],
   "source": [
    "df['W/R/T position'].unique()"
   ]
  },
  {
   "cell_type": "code",
   "execution_count": 76,
   "id": "94deaf3d-e060-40db-b61c-16f8e513ee97",
   "metadata": {},
   "outputs": [],
   "source": [
    "cols = [col for col in df.columns if 'percentage' in col]"
   ]
  },
  {
   "cell_type": "code",
   "execution_count": 77,
   "id": "25810f42-0065-4320-9fb8-e48a54393500",
   "metadata": {},
   "outputs": [],
   "source": [
    "cols = ['manager'] + cols"
   ]
  },
  {
   "cell_type": "code",
   "execution_count": 78,
   "id": "d0a05c75-703b-4fb3-86c9-2316c1f0522e",
   "metadata": {},
   "outputs": [],
   "source": [
    "df = df[df['manager'] != 'Big Rick']"
   ]
  },
  {
   "cell_type": "code",
   "execution_count": 79,
   "id": "c5a6ce6c-e7ec-4f5c-afa8-a0f2114a22f8",
   "metadata": {},
   "outputs": [],
   "source": [
    "df = df[cols]"
   ]
  },
  {
   "cell_type": "code",
   "execution_count": 80,
   "id": "3132e56a-9004-4e8e-8d10-e2143b72f19d",
   "metadata": {},
   "outputs": [],
   "source": [
    "df.drop(['BN_points_percentage'], axis = 1, inplace = True)"
   ]
  },
  {
   "cell_type": "code",
   "execution_count": 81,
   "id": "496f050f-02da-43af-8e89-d99841b6d46d",
   "metadata": {},
   "outputs": [],
   "source": [
    "X_mean = df.groupby('manager').agg(['mean'])"
   ]
  },
  {
   "cell_type": "code",
   "execution_count": 82,
   "id": "da192d72-41df-4243-8720-04e54b8883a1",
   "metadata": {},
   "outputs": [
    {
     "data": {
      "text/html": [
       "<div>\n",
       "<style scoped>\n",
       "    .dataframe tbody tr th:only-of-type {\n",
       "        vertical-align: middle;\n",
       "    }\n",
       "\n",
       "    .dataframe tbody tr th {\n",
       "        vertical-align: top;\n",
       "    }\n",
       "\n",
       "    .dataframe thead tr th {\n",
       "        text-align: left;\n",
       "    }\n",
       "\n",
       "    .dataframe thead tr:last-of-type th {\n",
       "        text-align: right;\n",
       "    }\n",
       "</style>\n",
       "<table border=\"1\" class=\"dataframe\">\n",
       "  <thead>\n",
       "    <tr>\n",
       "      <th></th>\n",
       "      <th>WR_points_percentage</th>\n",
       "      <th>RB_points_percentage</th>\n",
       "      <th>QB_points_percentage</th>\n",
       "      <th>TE_points_percentage</th>\n",
       "      <th>W/R/T_points_percentage</th>\n",
       "      <th>DEF_points_percentage</th>\n",
       "    </tr>\n",
       "    <tr>\n",
       "      <th></th>\n",
       "      <th>mean</th>\n",
       "      <th>mean</th>\n",
       "      <th>mean</th>\n",
       "      <th>mean</th>\n",
       "      <th>mean</th>\n",
       "      <th>mean</th>\n",
       "    </tr>\n",
       "    <tr>\n",
       "      <th>manager</th>\n",
       "      <th></th>\n",
       "      <th></th>\n",
       "      <th></th>\n",
       "      <th></th>\n",
       "      <th></th>\n",
       "      <th></th>\n",
       "    </tr>\n",
       "  </thead>\n",
       "  <tbody>\n",
       "    <tr>\n",
       "      <th>Buddy</th>\n",
       "      <td>0.230436</td>\n",
       "      <td>0.242643</td>\n",
       "      <td>0.168466</td>\n",
       "      <td>0.085253</td>\n",
       "      <td>0.089838</td>\n",
       "      <td>0.118037</td>\n",
       "    </tr>\n",
       "    <tr>\n",
       "      <th>Eric</th>\n",
       "      <td>0.272975</td>\n",
       "      <td>0.185834</td>\n",
       "      <td>0.151068</td>\n",
       "      <td>0.109758</td>\n",
       "      <td>0.084425</td>\n",
       "      <td>0.125523</td>\n",
       "    </tr>\n",
       "    <tr>\n",
       "      <th>Frags</th>\n",
       "      <td>0.250780</td>\n",
       "      <td>0.231504</td>\n",
       "      <td>0.166315</td>\n",
       "      <td>0.077207</td>\n",
       "      <td>0.084506</td>\n",
       "      <td>0.121195</td>\n",
       "    </tr>\n",
       "    <tr>\n",
       "      <th>Jake</th>\n",
       "      <td>0.250246</td>\n",
       "      <td>0.216538</td>\n",
       "      <td>0.162126</td>\n",
       "      <td>0.071749</td>\n",
       "      <td>0.105093</td>\n",
       "      <td>0.129436</td>\n",
       "    </tr>\n",
       "    <tr>\n",
       "      <th>Jones</th>\n",
       "      <td>0.228038</td>\n",
       "      <td>0.236771</td>\n",
       "      <td>0.172140</td>\n",
       "      <td>0.067521</td>\n",
       "      <td>0.093628</td>\n",
       "      <td>0.135000</td>\n",
       "    </tr>\n",
       "    <tr>\n",
       "      <th>Kyle</th>\n",
       "      <td>0.250599</td>\n",
       "      <td>0.234200</td>\n",
       "      <td>0.154730</td>\n",
       "      <td>0.081378</td>\n",
       "      <td>0.088313</td>\n",
       "      <td>0.129081</td>\n",
       "    </tr>\n",
       "    <tr>\n",
       "      <th>Lauren</th>\n",
       "      <td>0.227444</td>\n",
       "      <td>0.230276</td>\n",
       "      <td>0.165465</td>\n",
       "      <td>0.077783</td>\n",
       "      <td>0.094459</td>\n",
       "      <td>0.136592</td>\n",
       "    </tr>\n",
       "    <tr>\n",
       "      <th>Michael</th>\n",
       "      <td>0.261549</td>\n",
       "      <td>0.222997</td>\n",
       "      <td>0.159032</td>\n",
       "      <td>0.076210</td>\n",
       "      <td>0.082368</td>\n",
       "      <td>0.136428</td>\n",
       "    </tr>\n",
       "    <tr>\n",
       "      <th>Nate</th>\n",
       "      <td>0.242919</td>\n",
       "      <td>0.212061</td>\n",
       "      <td>0.157038</td>\n",
       "      <td>0.096226</td>\n",
       "      <td>0.089507</td>\n",
       "      <td>0.140233</td>\n",
       "    </tr>\n",
       "    <tr>\n",
       "      <th>Nick</th>\n",
       "      <td>0.239805</td>\n",
       "      <td>0.248376</td>\n",
       "      <td>0.153814</td>\n",
       "      <td>0.073446</td>\n",
       "      <td>0.088086</td>\n",
       "      <td>0.130334</td>\n",
       "    </tr>\n",
       "    <tr>\n",
       "      <th>Pat</th>\n",
       "      <td>0.250352</td>\n",
       "      <td>0.189140</td>\n",
       "      <td>0.180997</td>\n",
       "      <td>0.091159</td>\n",
       "      <td>0.084286</td>\n",
       "      <td>0.133621</td>\n",
       "    </tr>\n",
       "    <tr>\n",
       "      <th>Peter</th>\n",
       "      <td>0.232917</td>\n",
       "      <td>0.237926</td>\n",
       "      <td>0.153129</td>\n",
       "      <td>0.079043</td>\n",
       "      <td>0.100128</td>\n",
       "      <td>0.129623</td>\n",
       "    </tr>\n",
       "    <tr>\n",
       "      <th>Ricky</th>\n",
       "      <td>0.224932</td>\n",
       "      <td>0.244893</td>\n",
       "      <td>0.168056</td>\n",
       "      <td>0.083119</td>\n",
       "      <td>0.096277</td>\n",
       "      <td>0.120757</td>\n",
       "    </tr>\n",
       "    <tr>\n",
       "      <th>Tim</th>\n",
       "      <td>0.259688</td>\n",
       "      <td>0.215651</td>\n",
       "      <td>0.168614</td>\n",
       "      <td>0.063135</td>\n",
       "      <td>0.097314</td>\n",
       "      <td>0.138541</td>\n",
       "    </tr>\n",
       "  </tbody>\n",
       "</table>\n",
       "</div>"
      ],
      "text/plain": [
       "        WR_points_percentage RB_points_percentage QB_points_percentage  \\\n",
       "                        mean                 mean                 mean   \n",
       "manager                                                                  \n",
       "Buddy               0.230436             0.242643             0.168466   \n",
       "Eric                0.272975             0.185834             0.151068   \n",
       "Frags               0.250780             0.231504             0.166315   \n",
       "Jake                0.250246             0.216538             0.162126   \n",
       "Jones               0.228038             0.236771             0.172140   \n",
       "Kyle                0.250599             0.234200             0.154730   \n",
       "Lauren              0.227444             0.230276             0.165465   \n",
       "Michael             0.261549             0.222997             0.159032   \n",
       "Nate                0.242919             0.212061             0.157038   \n",
       "Nick                0.239805             0.248376             0.153814   \n",
       "Pat                 0.250352             0.189140             0.180997   \n",
       "Peter               0.232917             0.237926             0.153129   \n",
       "Ricky               0.224932             0.244893             0.168056   \n",
       "Tim                 0.259688             0.215651             0.168614   \n",
       "\n",
       "        TE_points_percentage W/R/T_points_percentage DEF_points_percentage  \n",
       "                        mean                    mean                  mean  \n",
       "manager                                                                     \n",
       "Buddy               0.085253                0.089838              0.118037  \n",
       "Eric                0.109758                0.084425              0.125523  \n",
       "Frags               0.077207                0.084506              0.121195  \n",
       "Jake                0.071749                0.105093              0.129436  \n",
       "Jones               0.067521                0.093628              0.135000  \n",
       "Kyle                0.081378                0.088313              0.129081  \n",
       "Lauren              0.077783                0.094459              0.136592  \n",
       "Michael             0.076210                0.082368              0.136428  \n",
       "Nate                0.096226                0.089507              0.140233  \n",
       "Nick                0.073446                0.088086              0.130334  \n",
       "Pat                 0.091159                0.084286              0.133621  \n",
       "Peter               0.079043                0.100128              0.129623  \n",
       "Ricky               0.083119                0.096277              0.120757  \n",
       "Tim                 0.063135                0.097314              0.138541  "
      ]
     },
     "execution_count": 82,
     "metadata": {},
     "output_type": "execute_result"
    }
   ],
   "source": [
    "X_mean"
   ]
  },
  {
   "cell_type": "code",
   "execution_count": 83,
   "id": "9341b8de-3a77-4ba4-9fae-318572fdc945",
   "metadata": {},
   "outputs": [
    {
     "name": "stderr",
     "output_type": "stream",
     "text": [
      "C:\\Users\\mikem\\anaconda3\\Lib\\site-packages\\sklearn\\utils\\validation.py:767: FutureWarning: is_sparse is deprecated and will be removed in a future version. Check `isinstance(dtype, pd.SparseDtype)` instead.\n",
      "  if not hasattr(array, \"sparse\") and array.dtypes.apply(is_sparse).any():\n",
      "C:\\Users\\mikem\\anaconda3\\Lib\\site-packages\\sklearn\\utils\\validation.py:605: FutureWarning: is_sparse is deprecated and will be removed in a future version. Check `isinstance(dtype, pd.SparseDtype)` instead.\n",
      "  if is_sparse(pd_dtype):\n",
      "C:\\Users\\mikem\\anaconda3\\Lib\\site-packages\\sklearn\\utils\\validation.py:614: FutureWarning: is_sparse is deprecated and will be removed in a future version. Check `isinstance(dtype, pd.SparseDtype)` instead.\n",
      "  if is_sparse(pd_dtype) or not is_extension_array_dtype(pd_dtype):\n",
      "C:\\Users\\mikem\\anaconda3\\Lib\\site-packages\\sklearn\\utils\\validation.py:767: FutureWarning: is_sparse is deprecated and will be removed in a future version. Check `isinstance(dtype, pd.SparseDtype)` instead.\n",
      "  if not hasattr(array, \"sparse\") and array.dtypes.apply(is_sparse).any():\n",
      "C:\\Users\\mikem\\anaconda3\\Lib\\site-packages\\sklearn\\utils\\validation.py:605: FutureWarning: is_sparse is deprecated and will be removed in a future version. Check `isinstance(dtype, pd.SparseDtype)` instead.\n",
      "  if is_sparse(pd_dtype):\n",
      "C:\\Users\\mikem\\anaconda3\\Lib\\site-packages\\sklearn\\utils\\validation.py:614: FutureWarning: is_sparse is deprecated and will be removed in a future version. Check `isinstance(dtype, pd.SparseDtype)` instead.\n",
      "  if is_sparse(pd_dtype) or not is_extension_array_dtype(pd_dtype):\n"
     ]
    }
   ],
   "source": [
    "sc = StandardScaler()\n",
    "X_mean_sc = sc.fit_transform(X_mean)"
   ]
  },
  {
   "cell_type": "code",
   "execution_count": null,
   "id": "41f40c4a-ed1e-4654-8a08-39c05c5fece9",
   "metadata": {},
   "outputs": [],
   "source": []
  },
  {
   "cell_type": "code",
   "execution_count": 84,
   "id": "a12b1b35-4f8a-4e67-b735-4b22907e0f68",
   "metadata": {},
   "outputs": [
    {
     "name": "stderr",
     "output_type": "stream",
     "text": [
      "C:\\Users\\mikem\\anaconda3\\Lib\\site-packages\\sklearn\\cluster\\_kmeans.py:870: FutureWarning: The default value of `n_init` will change from 10 to 'auto' in 1.4. Set the value of `n_init` explicitly to suppress the warning\n",
      "  warnings.warn(\n",
      "C:\\Users\\mikem\\anaconda3\\Lib\\site-packages\\sklearn\\cluster\\_kmeans.py:870: FutureWarning: The default value of `n_init` will change from 10 to 'auto' in 1.4. Set the value of `n_init` explicitly to suppress the warning\n",
      "  warnings.warn(\n",
      "C:\\Users\\mikem\\anaconda3\\Lib\\site-packages\\sklearn\\cluster\\_kmeans.py:870: FutureWarning: The default value of `n_init` will change from 10 to 'auto' in 1.4. Set the value of `n_init` explicitly to suppress the warning\n",
      "  warnings.warn(\n",
      "C:\\Users\\mikem\\anaconda3\\Lib\\site-packages\\sklearn\\cluster\\_kmeans.py:870: FutureWarning: The default value of `n_init` will change from 10 to 'auto' in 1.4. Set the value of `n_init` explicitly to suppress the warning\n",
      "  warnings.warn(\n",
      "C:\\Users\\mikem\\anaconda3\\Lib\\site-packages\\sklearn\\cluster\\_kmeans.py:870: FutureWarning: The default value of `n_init` will change from 10 to 'auto' in 1.4. Set the value of `n_init` explicitly to suppress the warning\n",
      "  warnings.warn(\n",
      "C:\\Users\\mikem\\anaconda3\\Lib\\site-packages\\sklearn\\cluster\\_kmeans.py:870: FutureWarning: The default value of `n_init` will change from 10 to 'auto' in 1.4. Set the value of `n_init` explicitly to suppress the warning\n",
      "  warnings.warn(\n",
      "C:\\Users\\mikem\\anaconda3\\Lib\\site-packages\\sklearn\\cluster\\_kmeans.py:870: FutureWarning: The default value of `n_init` will change from 10 to 'auto' in 1.4. Set the value of `n_init` explicitly to suppress the warning\n",
      "  warnings.warn(\n",
      "C:\\Users\\mikem\\anaconda3\\Lib\\site-packages\\sklearn\\cluster\\_kmeans.py:870: FutureWarning: The default value of `n_init` will change from 10 to 'auto' in 1.4. Set the value of `n_init` explicitly to suppress the warning\n",
      "  warnings.warn(\n",
      "C:\\Users\\mikem\\anaconda3\\Lib\\site-packages\\sklearn\\cluster\\_kmeans.py:870: FutureWarning: The default value of `n_init` will change from 10 to 'auto' in 1.4. Set the value of `n_init` explicitly to suppress the warning\n",
      "  warnings.warn(\n",
      "C:\\Users\\mikem\\anaconda3\\Lib\\site-packages\\sklearn\\cluster\\_kmeans.py:870: FutureWarning: The default value of `n_init` will change from 10 to 'auto' in 1.4. Set the value of `n_init` explicitly to suppress the warning\n",
      "  warnings.warn(\n"
     ]
    }
   ],
   "source": [
    "inertia = []\n",
    "for n in range(1,11):\n",
    "    km = KMeans(n_clusters=n, random_state=2024)\n",
    "    km.fit(X_mean_sc)\n",
    "    inertia.append(km.inertia_)"
   ]
  },
  {
   "cell_type": "code",
   "execution_count": 85,
   "id": "babad95d-5969-4919-97a1-34693786add7",
   "metadata": {},
   "outputs": [
    {
     "data": {
      "text/plain": [
       "[<matplotlib.lines.Line2D at 0x21219059310>]"
      ]
     },
     "execution_count": 85,
     "metadata": {},
     "output_type": "execute_result"
    },
    {
     "data": {
      "image/png": "[encoded data removed]",
      "text/plain": [
       "<Figure size 640x480 with 1 Axes>"
      ]
     },
     "metadata": {},
     "output_type": "display_data"
    }
   ],
   "source": [
    "plt.plot(inertia, marker='o')"
   ]
  },
  {
   "cell_type": "code",
   "execution_count": 86,
   "id": "b96ec2d3-3ddf-4b2a-9566-7a4f6f3fe923",
   "metadata": {},
   "outputs": [
    {
     "name": "stderr",
     "output_type": "stream",
     "text": [
      "C:\\Users\\mikem\\anaconda3\\Lib\\site-packages\\sklearn\\cluster\\_kmeans.py:870: FutureWarning: The default value of `n_init` will change from 10 to 'auto' in 1.4. Set the value of `n_init` explicitly to suppress the warning\n",
      "  warnings.warn(\n"
     ]
    },
    {
     "data": {
      "text/html": [
       "<style>#sk-container-id-6 {color: black;background-color: white;}#sk-container-id-6 pre{padding: 0;}#sk-container-id-6 div.sk-toggleable {background-color: white;}#sk-container-id-6 label.sk-toggleable__label {cursor: pointer;display: block;width: 100%;margin-bottom: 0;padding: 0.3em;box-sizing: border-box;text-align: center;}#sk-container-id-6 label.sk-toggleable__label-arrow:before {content: \"▸\";float: left;margin-right: 0.25em;color: #696969;}#sk-container-id-6 label.sk-toggleable__label-arrow:hover:before {color: black;}#sk-container-id-6 div.sk-estimator:hover label.sk-toggleable__label-arrow:before {color: black;}#sk-container-id-6 div.sk-toggleable__content {max-height: 0;max-width: 0;overflow: hidden;text-align: left;background-color: #f0f8ff;}#sk-container-id-6 div.sk-toggleable__content pre {margin: 0.2em;color: black;border-radius: 0.25em;background-color: #f0f8ff;}#sk-container-id-6 input.sk-toggleable__control:checked~div.sk-toggleable__content {max-height: 200px;max-width: 100%;overflow: auto;}#sk-container-id-6 input.sk-toggleable__control:checked~label.sk-toggleable__label-arrow:before {content: \"▾\";}#sk-container-id-6 div.sk-estimator input.sk-toggleable__control:checked~label.sk-toggleable__label {background-color: #d4ebff;}#sk-container-id-6 div.sk-label input.sk-toggleable__control:checked~label.sk-toggleable__label {background-color: #d4ebff;}#sk-container-id-6 input.sk-hidden--visually {border: 0;clip: rect(1px 1px 1px 1px);clip: rect(1px, 1px, 1px, 1px);height: 1px;margin: -1px;overflow: hidden;padding: 0;position: absolute;width: 1px;}#sk-container-id-6 div.sk-estimator {font-family: monospace;background-color: #f0f8ff;border: 1px dotted black;border-radius: 0.25em;box-sizing: border-box;margin-bottom: 0.5em;}#sk-container-id-6 div.sk-estimator:hover {background-color: #d4ebff;}#sk-container-id-6 div.sk-parallel-item::after {content: \"\";width: 100%;border-bottom: 1px solid gray;flex-grow: 1;}#sk-container-id-6 div.sk-label:hover label.sk-toggleable__label {background-color: #d4ebff;}#sk-container-id-6 div.sk-serial::before {content: \"\";position: absolute;border-left: 1px solid gray;box-sizing: border-box;top: 0;bottom: 0;left: 50%;z-index: 0;}#sk-container-id-6 div.sk-serial {display: flex;flex-direction: column;align-items: center;background-color: white;padding-right: 0.2em;padding-left: 0.2em;position: relative;}#sk-container-id-6 div.sk-item {position: relative;z-index: 1;}#sk-container-id-6 div.sk-parallel {display: flex;align-items: stretch;justify-content: center;background-color: white;position: relative;}#sk-container-id-6 div.sk-item::before, #sk-container-id-6 div.sk-parallel-item::before {content: \"\";position: absolute;border-left: 1px solid gray;box-sizing: border-box;top: 0;bottom: 0;left: 50%;z-index: -1;}#sk-container-id-6 div.sk-parallel-item {display: flex;flex-direction: column;z-index: 1;position: relative;background-color: white;}#sk-container-id-6 div.sk-parallel-item:first-child::after {align-self: flex-end;width: 50%;}#sk-container-id-6 div.sk-parallel-item:last-child::after {align-self: flex-start;width: 50%;}#sk-container-id-6 div.sk-parallel-item:only-child::after {width: 0;}#sk-container-id-6 div.sk-dashed-wrapped {border: 1px dashed gray;margin: 0 0.4em 0.5em 0.4em;box-sizing: border-box;padding-bottom: 0.4em;background-color: white;}#sk-container-id-6 div.sk-label label {font-family: monospace;font-weight: bold;display: inline-block;line-height: 1.2em;}#sk-container-id-6 div.sk-label-container {text-align: center;}#sk-container-id-6 div.sk-container {/* jupyter's `normalize.less` sets `[hidden] { display: none; }` but bootstrap.min.css set `[hidden] { display: none !important; }` so we also need the `!important` here to be able to override the default hidden behavior on the sphinx rendered scikit-learn.org. See: https://github.com/scikit-learn/scikit-learn/issues/21755 */display: inline-block !important;position: relative;}#sk-container-id-6 div.sk-text-repr-fallback {display: none;}</style><div id=\"sk-container-id-6\" class=\"sk-top-container\"><div class=\"sk-text-repr-fallback\"><pre>KMeans(n_clusters=5, random_state=2024)</pre><b>In a Jupyter environment, please rerun this cell to show the HTML representation or trust the notebook. <br />On GitHub, the HTML representation is unable to render, please try loading this page with nbviewer.org.</b></div><div class=\"sk-container\" hidden><div class=\"sk-item\"><div class=\"sk-estimator sk-toggleable\"><input class=\"sk-toggleable__control sk-hidden--visually\" id=\"sk-estimator-id-6\" type=\"checkbox\" checked><label for=\"sk-estimator-id-6\" class=\"sk-toggleable__label sk-toggleable__label-arrow\">KMeans</label><div class=\"sk-toggleable__content\"><pre>KMeans(n_clusters=5, random_state=2024)</pre></div></div></div></div></div>"
      ],
      "text/plain": [
       "KMeans(n_clusters=5, random_state=2024)"
      ]
     },
     "execution_count": 86,
     "metadata": {},
     "output_type": "execute_result"
    }
   ],
   "source": [
    "    km = KMeans(n_clusters=5, random_state=2024)\n",
    "    km.fit(X_mean_sc)"
   ]
  },
  {
   "cell_type": "code",
   "execution_count": 87,
   "id": "6b092e40-9089-48c4-aead-3a46d0ccf53c",
   "metadata": {},
   "outputs": [
    {
     "data": {
      "text/plain": [
       "array([0, 3, 4, 2, 2, 4, 2, 4, 1, 4, 1, 2, 0, 2])"
      ]
     },
     "execution_count": 87,
     "metadata": {},
     "output_type": "execute_result"
    }
   ],
   "source": [
    "km.labels_"
   ]
  },
  {
   "cell_type": "code",
   "execution_count": 88,
   "id": "e6c9acb0-8480-46c0-ae8a-240835ce2a1a",
   "metadata": {},
   "outputs": [],
   "source": [
    "X_mean['cluster'] = km.labels_"
   ]
  },
  {
   "cell_type": "code",
   "execution_count": 89,
   "id": "a0d22b1b-d9a0-400a-954d-b6b16fbcfa2a",
   "metadata": {},
   "outputs": [
    {
     "data": {
      "text/html": [
       "<div>\n",
       "<style scoped>\n",
       "    .dataframe tbody tr th:only-of-type {\n",
       "        vertical-align: middle;\n",
       "    }\n",
       "\n",
       "    .dataframe tbody tr th {\n",
       "        vertical-align: top;\n",
       "    }\n",
       "\n",
       "    .dataframe thead tr th {\n",
       "        text-align: left;\n",
       "    }\n",
       "\n",
       "    .dataframe thead tr:last-of-type th {\n",
       "        text-align: right;\n",
       "    }\n",
       "</style>\n",
       "<table border=\"1\" class=\"dataframe\">\n",
       "  <thead>\n",
       "    <tr>\n",
       "      <th></th>\n",
       "      <th>WR_points_percentage</th>\n",
       "      <th>RB_points_percentage</th>\n",
       "      <th>QB_points_percentage</th>\n",
       "      <th>TE_points_percentage</th>\n",
       "      <th>W/R/T_points_percentage</th>\n",
       "      <th>DEF_points_percentage</th>\n",
       "      <th>cluster</th>\n",
       "    </tr>\n",
       "    <tr>\n",
       "      <th></th>\n",
       "      <th>mean</th>\n",
       "      <th>mean</th>\n",
       "      <th>mean</th>\n",
       "      <th>mean</th>\n",
       "      <th>mean</th>\n",
       "      <th>mean</th>\n",
       "      <th></th>\n",
       "    </tr>\n",
       "    <tr>\n",
       "      <th>manager</th>\n",
       "      <th></th>\n",
       "      <th></th>\n",
       "      <th></th>\n",
       "      <th></th>\n",
       "      <th></th>\n",
       "      <th></th>\n",
       "      <th></th>\n",
       "    </tr>\n",
       "  </thead>\n",
       "  <tbody>\n",
       "    <tr>\n",
       "      <th>Buddy</th>\n",
       "      <td>0.230436</td>\n",
       "      <td>0.242643</td>\n",
       "      <td>0.168466</td>\n",
       "      <td>0.085253</td>\n",
       "      <td>0.089838</td>\n",
       "      <td>0.118037</td>\n",
       "      <td>0</td>\n",
       "    </tr>\n",
       "    <tr>\n",
       "      <th>Ricky</th>\n",
       "      <td>0.224932</td>\n",
       "      <td>0.244893</td>\n",
       "      <td>0.168056</td>\n",
       "      <td>0.083119</td>\n",
       "      <td>0.096277</td>\n",
       "      <td>0.120757</td>\n",
       "      <td>0</td>\n",
       "    </tr>\n",
       "    <tr>\n",
       "      <th>Nate</th>\n",
       "      <td>0.242919</td>\n",
       "      <td>0.212061</td>\n",
       "      <td>0.157038</td>\n",
       "      <td>0.096226</td>\n",
       "      <td>0.089507</td>\n",
       "      <td>0.140233</td>\n",
       "      <td>1</td>\n",
       "    </tr>\n",
       "    <tr>\n",
       "      <th>Pat</th>\n",
       "      <td>0.250352</td>\n",
       "      <td>0.189140</td>\n",
       "      <td>0.180997</td>\n",
       "      <td>0.091159</td>\n",
       "      <td>0.084286</td>\n",
       "      <td>0.133621</td>\n",
       "      <td>1</td>\n",
       "    </tr>\n",
       "    <tr>\n",
       "      <th>Jake</th>\n",
       "      <td>0.250246</td>\n",
       "      <td>0.216538</td>\n",
       "      <td>0.162126</td>\n",
       "      <td>0.071749</td>\n",
       "      <td>0.105093</td>\n",
       "      <td>0.129436</td>\n",
       "      <td>2</td>\n",
       "    </tr>\n",
       "    <tr>\n",
       "      <th>Jones</th>\n",
       "      <td>0.228038</td>\n",
       "      <td>0.236771</td>\n",
       "      <td>0.172140</td>\n",
       "      <td>0.067521</td>\n",
       "      <td>0.093628</td>\n",
       "      <td>0.135000</td>\n",
       "      <td>2</td>\n",
       "    </tr>\n",
       "    <tr>\n",
       "      <th>Lauren</th>\n",
       "      <td>0.227444</td>\n",
       "      <td>0.230276</td>\n",
       "      <td>0.165465</td>\n",
       "      <td>0.077783</td>\n",
       "      <td>0.094459</td>\n",
       "      <td>0.136592</td>\n",
       "      <td>2</td>\n",
       "    </tr>\n",
       "    <tr>\n",
       "      <th>Peter</th>\n",
       "      <td>0.232917</td>\n",
       "      <td>0.237926</td>\n",
       "      <td>0.153129</td>\n",
       "      <td>0.079043</td>\n",
       "      <td>0.100128</td>\n",
       "      <td>0.129623</td>\n",
       "      <td>2</td>\n",
       "    </tr>\n",
       "    <tr>\n",
       "      <th>Tim</th>\n",
       "      <td>0.259688</td>\n",
       "      <td>0.215651</td>\n",
       "      <td>0.168614</td>\n",
       "      <td>0.063135</td>\n",
       "      <td>0.097314</td>\n",
       "      <td>0.138541</td>\n",
       "      <td>2</td>\n",
       "    </tr>\n",
       "    <tr>\n",
       "      <th>Eric</th>\n",
       "      <td>0.272975</td>\n",
       "      <td>0.185834</td>\n",
       "      <td>0.151068</td>\n",
       "      <td>0.109758</td>\n",
       "      <td>0.084425</td>\n",
       "      <td>0.125523</td>\n",
       "      <td>3</td>\n",
       "    </tr>\n",
       "    <tr>\n",
       "      <th>Frags</th>\n",
       "      <td>0.250780</td>\n",
       "      <td>0.231504</td>\n",
       "      <td>0.166315</td>\n",
       "      <td>0.077207</td>\n",
       "      <td>0.084506</td>\n",
       "      <td>0.121195</td>\n",
       "      <td>4</td>\n",
       "    </tr>\n",
       "    <tr>\n",
       "      <th>Kyle</th>\n",
       "      <td>0.250599</td>\n",
       "      <td>0.234200</td>\n",
       "      <td>0.154730</td>\n",
       "      <td>0.081378</td>\n",
       "      <td>0.088313</td>\n",
       "      <td>0.129081</td>\n",
       "      <td>4</td>\n",
       "    </tr>\n",
       "    <tr>\n",
       "      <th>Michael</th>\n",
       "      <td>0.261549</td>\n",
       "      <td>0.222997</td>\n",
       "      <td>0.159032</td>\n",
       "      <td>0.076210</td>\n",
       "      <td>0.082368</td>\n",
       "      <td>0.136428</td>\n",
       "      <td>4</td>\n",
       "    </tr>\n",
       "    <tr>\n",
       "      <th>Nick</th>\n",
       "      <td>0.239805</td>\n",
       "      <td>0.248376</td>\n",
       "      <td>0.153814</td>\n",
       "      <td>0.073446</td>\n",
       "      <td>0.088086</td>\n",
       "      <td>0.130334</td>\n",
       "      <td>4</td>\n",
       "    </tr>\n",
       "  </tbody>\n",
       "</table>\n",
       "</div>"
      ],
      "text/plain": [
       "        WR_points_percentage RB_points_percentage QB_points_percentage  \\\n",
       "                        mean                 mean                 mean   \n",
       "manager                                                                  \n",
       "Buddy               0.230436             0.242643             0.168466   \n",
       "Ricky               0.224932             0.244893             0.168056   \n",
       "Nate                0.242919             0.212061             0.157038   \n",
       "Pat                 0.250352             0.189140             0.180997   \n",
       "Jake                0.250246             0.216538             0.162126   \n",
       "Jones               0.228038             0.236771             0.172140   \n",
       "Lauren              0.227444             0.230276             0.165465   \n",
       "Peter               0.232917             0.237926             0.153129   \n",
       "Tim                 0.259688             0.215651             0.168614   \n",
       "Eric                0.272975             0.185834             0.151068   \n",
       "Frags               0.250780             0.231504             0.166315   \n",
       "Kyle                0.250599             0.234200             0.154730   \n",
       "Michael             0.261549             0.222997             0.159032   \n",
       "Nick                0.239805             0.248376             0.153814   \n",
       "\n",
       "        TE_points_percentage W/R/T_points_percentage DEF_points_percentage  \\\n",
       "                        mean                    mean                  mean   \n",
       "manager                                                                      \n",
       "Buddy               0.085253                0.089838              0.118037   \n",
       "Ricky               0.083119                0.096277              0.120757   \n",
       "Nate                0.096226                0.089507              0.140233   \n",
       "Pat                 0.091159                0.084286              0.133621   \n",
       "Jake                0.071749                0.105093              0.129436   \n",
       "Jones               0.067521                0.093628              0.135000   \n",
       "Lauren              0.077783                0.094459              0.136592   \n",
       "Peter               0.079043                0.100128              0.129623   \n",
       "Tim                 0.063135                0.097314              0.138541   \n",
       "Eric                0.109758                0.084425              0.125523   \n",
       "Frags               0.077207                0.084506              0.121195   \n",
       "Kyle                0.081378                0.088313              0.129081   \n",
       "Michael             0.076210                0.082368              0.136428   \n",
       "Nick                0.073446                0.088086              0.130334   \n",
       "\n",
       "        cluster  \n",
       "                 \n",
       "manager          \n",
       "Buddy         0  \n",
       "Ricky         0  \n",
       "Nate          1  \n",
       "Pat           1  \n",
       "Jake          2  \n",
       "Jones         2  \n",
       "Lauren        2  \n",
       "Peter         2  \n",
       "Tim           2  \n",
       "Eric          3  \n",
       "Frags         4  \n",
       "Kyle          4  \n",
       "Michael       4  \n",
       "Nick          4  "
      ]
     },
     "execution_count": 89,
     "metadata": {},
     "output_type": "execute_result"
    }
   ],
   "source": [
    "X.sort_values('cluster')"
   ]
  },
  {
   "cell_type": "code",
   "execution_count": 90,
   "id": "c8c4e24c-020a-48b9-aca1-91471afef595",
   "metadata": {},
   "outputs": [],
   "source": [
    "# sns.heatmap(X.drop('cluster', axis=1), cmap='coolwarm', annot=True)"
   ]
  },
  {
   "cell_type": "code",
   "execution_count": 91,
   "id": "69f21ebd-e6b0-42f3-a35d-45230bba88a8",
   "metadata": {},
   "outputs": [],
   "source": [
    "sc_df = pd.DataFrame(X_mean_sc)\n",
    "sc_df.set_index(X.index, inplace=True)\n",
    "sc_df['cluster'] = km.labels_"
   ]
  },
  {
   "cell_type": "code",
   "execution_count": 92,
   "id": "e39411cc-b737-4989-8d8c-03f2926a6d10",
   "metadata": {},
   "outputs": [],
   "source": [
    "sc_df.rename({0: 'WR_average_pts_z',\n",
    "             1: 'RB_average_pts_z',\n",
    "             2: 'QB_average_pts_z',\n",
    "             3: 'TE_average_pts_z',\n",
    "             4: 'W/R/T_average_pts_z',\n",
    "             5: 'DEF_average_pts_z'}, axis =1, inplace=True)"
   ]
  },
  {
   "cell_type": "code",
   "execution_count": 93,
   "id": "4c7975d4-96bd-4584-ba1a-50de9f8e04c7",
   "metadata": {},
   "outputs": [],
   "source": [
    "sc_df = sc_df.sort_values('cluster')"
   ]
  },
  {
   "cell_type": "code",
   "execution_count": 94,
   "id": "c992bcf5-2db9-4a4e-8501-4f4e4b919b46",
   "metadata": {},
   "outputs": [
    {
     "data": {
      "text/html": [
       "<div>\n",
       "<style scoped>\n",
       "    .dataframe tbody tr th:only-of-type {\n",
       "        vertical-align: middle;\n",
       "    }\n",
       "\n",
       "    .dataframe tbody tr th {\n",
       "        vertical-align: top;\n",
       "    }\n",
       "\n",
       "    .dataframe thead th {\n",
       "        text-align: right;\n",
       "    }\n",
       "</style>\n",
       "<table border=\"1\" class=\"dataframe\">\n",
       "  <thead>\n",
       "    <tr style=\"text-align: right;\">\n",
       "      <th></th>\n",
       "      <th>WR_average_pts_z</th>\n",
       "      <th>RB_average_pts_z</th>\n",
       "      <th>QB_average_pts_z</th>\n",
       "      <th>TE_average_pts_z</th>\n",
       "      <th>W/R/T_average_pts_z</th>\n",
       "      <th>DEF_average_pts_z</th>\n",
       "      <th>cluster</th>\n",
       "    </tr>\n",
       "    <tr>\n",
       "      <th>manager</th>\n",
       "      <th></th>\n",
       "      <th></th>\n",
       "      <th></th>\n",
       "      <th></th>\n",
       "      <th></th>\n",
       "      <th></th>\n",
       "      <th></th>\n",
       "    </tr>\n",
       "  </thead>\n",
       "  <tbody>\n",
       "    <tr>\n",
       "      <th>Buddy</th>\n",
       "      <td>-0.996886</td>\n",
       "      <td>0.951080</td>\n",
       "      <td>0.670148</td>\n",
       "      <td>0.373300</td>\n",
       "      <td>-0.225216</td>\n",
       "      <td>-1.835095</td>\n",
       "      <td>0</td>\n",
       "    </tr>\n",
       "    <tr>\n",
       "      <th>Ricky</th>\n",
       "      <td>-1.387706</td>\n",
       "      <td>1.071829</td>\n",
       "      <td>0.620624</td>\n",
       "      <td>0.189124</td>\n",
       "      <td>0.765328</td>\n",
       "      <td>-1.428481</td>\n",
       "      <td>0</td>\n",
       "    </tr>\n",
       "    <tr>\n",
       "      <th>Nate</th>\n",
       "      <td>-0.110665</td>\n",
       "      <td>-0.689592</td>\n",
       "      <td>-0.712735</td>\n",
       "      <td>1.320296</td>\n",
       "      <td>-0.276139</td>\n",
       "      <td>1.482400</td>\n",
       "      <td>1</td>\n",
       "    </tr>\n",
       "    <tr>\n",
       "      <th>Pat</th>\n",
       "      <td>0.417136</td>\n",
       "      <td>-1.919311</td>\n",
       "      <td>2.186620</td>\n",
       "      <td>0.882945</td>\n",
       "      <td>-1.079354</td>\n",
       "      <td>0.494186</td>\n",
       "      <td>1</td>\n",
       "    </tr>\n",
       "    <tr>\n",
       "      <th>Jake</th>\n",
       "      <td>0.409571</td>\n",
       "      <td>-0.449430</td>\n",
       "      <td>-0.097031</td>\n",
       "      <td>-0.792113</td>\n",
       "      <td>2.121664</td>\n",
       "      <td>-0.131250</td>\n",
       "      <td>2</td>\n",
       "    </tr>\n",
       "    <tr>\n",
       "      <th>Jones</th>\n",
       "      <td>-1.167131</td>\n",
       "      <td>0.636045</td>\n",
       "      <td>1.114739</td>\n",
       "      <td>-1.157024</td>\n",
       "      <td>0.357792</td>\n",
       "      <td>0.700320</td>\n",
       "      <td>2</td>\n",
       "    </tr>\n",
       "    <tr>\n",
       "      <th>Lauren</th>\n",
       "      <td>-1.209308</td>\n",
       "      <td>0.287626</td>\n",
       "      <td>0.307005</td>\n",
       "      <td>-0.271401</td>\n",
       "      <td>0.485693</td>\n",
       "      <td>0.938322</td>\n",
       "      <td>2</td>\n",
       "    </tr>\n",
       "    <tr>\n",
       "      <th>Peter</th>\n",
       "      <td>-0.820722</td>\n",
       "      <td>0.698041</td>\n",
       "      <td>-1.185739</td>\n",
       "      <td>-0.162623</td>\n",
       "      <td>1.357832</td>\n",
       "      <td>-0.103332</td>\n",
       "      <td>2</td>\n",
       "    </tr>\n",
       "    <tr>\n",
       "      <th>Tim</th>\n",
       "      <td>1.079916</td>\n",
       "      <td>-0.496998</td>\n",
       "      <td>0.688116</td>\n",
       "      <td>-1.535511</td>\n",
       "      <td>0.924879</td>\n",
       "      <td>1.229564</td>\n",
       "      <td>2</td>\n",
       "    </tr>\n",
       "    <tr>\n",
       "      <th>Eric</th>\n",
       "      <td>2.023309</td>\n",
       "      <td>-2.096651</td>\n",
       "      <td>-1.435202</td>\n",
       "      <td>2.488120</td>\n",
       "      <td>-1.057959</td>\n",
       "      <td>-0.716113</td>\n",
       "      <td>3</td>\n",
       "    </tr>\n",
       "    <tr>\n",
       "      <th>Frags</th>\n",
       "      <td>0.447490</td>\n",
       "      <td>0.353480</td>\n",
       "      <td>0.409868</td>\n",
       "      <td>-0.321114</td>\n",
       "      <td>-1.045542</td>\n",
       "      <td>-1.362968</td>\n",
       "      <td>4</td>\n",
       "    </tr>\n",
       "    <tr>\n",
       "      <th>Kyle</th>\n",
       "      <td>0.434637</td>\n",
       "      <td>0.498116</td>\n",
       "      <td>-0.992028</td>\n",
       "      <td>0.038843</td>\n",
       "      <td>-0.459774</td>\n",
       "      <td>-0.184333</td>\n",
       "      <td>4</td>\n",
       "    </tr>\n",
       "    <tr>\n",
       "      <th>Michael</th>\n",
       "      <td>1.212066</td>\n",
       "      <td>-0.102887</td>\n",
       "      <td>-0.471460</td>\n",
       "      <td>-0.407139</td>\n",
       "      <td>-1.374503</td>\n",
       "      <td>0.913795</td>\n",
       "      <td>4</td>\n",
       "    </tr>\n",
       "    <tr>\n",
       "      <th>Nick</th>\n",
       "      <td>-0.331707</td>\n",
       "      <td>1.258651</td>\n",
       "      <td>-1.102926</td>\n",
       "      <td>-0.645703</td>\n",
       "      <td>-0.494700</td>\n",
       "      <td>0.002986</td>\n",
       "      <td>4</td>\n",
       "    </tr>\n",
       "  </tbody>\n",
       "</table>\n",
       "</div>"
      ],
      "text/plain": [
       "         WR_average_pts_z  RB_average_pts_z  QB_average_pts_z  \\\n",
       "manager                                                         \n",
       "Buddy           -0.996886          0.951080          0.670148   \n",
       "Ricky           -1.387706          1.071829          0.620624   \n",
       "Nate            -0.110665         -0.689592         -0.712735   \n",
       "Pat              0.417136         -1.919311          2.186620   \n",
       "Jake             0.409571         -0.449430         -0.097031   \n",
       "Jones           -1.167131          0.636045          1.114739   \n",
       "Lauren          -1.209308          0.287626          0.307005   \n",
       "Peter           -0.820722          0.698041         -1.185739   \n",
       "Tim              1.079916         -0.496998          0.688116   \n",
       "Eric             2.023309         -2.096651         -1.435202   \n",
       "Frags            0.447490          0.353480          0.409868   \n",
       "Kyle             0.434637          0.498116         -0.992028   \n",
       "Michael          1.212066         -0.102887         -0.471460   \n",
       "Nick            -0.331707          1.258651         -1.102926   \n",
       "\n",
       "         TE_average_pts_z  W/R/T_average_pts_z  DEF_average_pts_z  cluster  \n",
       "manager                                                                     \n",
       "Buddy            0.373300            -0.225216          -1.835095        0  \n",
       "Ricky            0.189124             0.765328          -1.428481        0  \n",
       "Nate             1.320296            -0.276139           1.482400        1  \n",
       "Pat              0.882945            -1.079354           0.494186        1  \n",
       "Jake            -0.792113             2.121664          -0.131250        2  \n",
       "Jones           -1.157024             0.357792           0.700320        2  \n",
       "Lauren          -0.271401             0.485693           0.938322        2  \n",
       "Peter           -0.162623             1.357832          -0.103332        2  \n",
       "Tim             -1.535511             0.924879           1.229564        2  \n",
       "Eric             2.488120            -1.057959          -0.716113        3  \n",
       "Frags           -0.321114            -1.045542          -1.362968        4  \n",
       "Kyle             0.038843            -0.459774          -0.184333        4  \n",
       "Michael         -0.407139            -1.374503           0.913795        4  \n",
       "Nick            -0.645703            -0.494700           0.002986        4  "
      ]
     },
     "execution_count": 94,
     "metadata": {},
     "output_type": "execute_result"
    }
   ],
   "source": [
    "sc_df"
   ]
  },
  {
   "cell_type": "code",
   "execution_count": 95,
   "id": "08f66009-a62b-4146-9a82-afff3a9fffb2",
   "metadata": {},
   "outputs": [
    {
     "name": "stderr",
     "output_type": "stream",
     "text": [
      "[2024-01-15 13:42:21,665 DEBUG] [matplotlib.colorbar.colorbar._get_ticker_locator_formatter] locator: <matplotlib.ticker.AutoLocator object at 0x00000212192C5350>\n",
      "[2024-01-15 13:42:21,665 DEBUG] [matplotlib.colorbar.colorbar._get_ticker_locator_formatter] locator: <matplotlib.ticker.AutoLocator object at 0x00000212192C5350>\n"
     ]
    },
    {
     "data": {
      "image/png": "[encoded data removed]",
      "text/plain": [
       "<Figure size 640x480 with 2 Axes>"
      ]
     },
     "metadata": {},
     "output_type": "display_data"
    }
   ],
   "source": [
    "sns.heatmap(sc_df.drop('cluster', axis=1), cmap='coolwarm', annot=True);"
   ]
  },
  {
   "cell_type": "code",
   "execution_count": 97,
   "id": "dde299a5-7d49-4020-bd2d-1fca1884afcc",
   "metadata": {},
   "outputs": [],
   "source": [
    "ac = AgglomerativeClustering(4)"
   ]
  },
  {
   "cell_type": "code",
   "execution_count": 98,
   "id": "afc86893-ce81-40ea-b2c6-985957d19c15",
   "metadata": {},
   "outputs": [
    {
     "name": "stderr",
     "output_type": "stream",
     "text": [
      "C:\\Users\\mikem\\anaconda3\\Lib\\site-packages\\sklearn\\utils\\validation.py:767: FutureWarning: is_sparse is deprecated and will be removed in a future version. Check `isinstance(dtype, pd.SparseDtype)` instead.\n",
      "  if not hasattr(array, \"sparse\") and array.dtypes.apply(is_sparse).any():\n",
      "C:\\Users\\mikem\\anaconda3\\Lib\\site-packages\\sklearn\\utils\\validation.py:605: FutureWarning: is_sparse is deprecated and will be removed in a future version. Check `isinstance(dtype, pd.SparseDtype)` instead.\n",
      "  if is_sparse(pd_dtype):\n",
      "C:\\Users\\mikem\\anaconda3\\Lib\\site-packages\\sklearn\\utils\\validation.py:614: FutureWarning: is_sparse is deprecated and will be removed in a future version. Check `isinstance(dtype, pd.SparseDtype)` instead.\n",
      "  if is_sparse(pd_dtype) or not is_extension_array_dtype(pd_dtype):\n"
     ]
    },
    {
     "data": {
      "text/html": [
       "<style>#sk-container-id-7 {color: black;background-color: white;}#sk-container-id-7 pre{padding: 0;}#sk-container-id-7 div.sk-toggleable {background-color: white;}#sk-container-id-7 label.sk-toggleable__label {cursor: pointer;display: block;width: 100%;margin-bottom: 0;padding: 0.3em;box-sizing: border-box;text-align: center;}#sk-container-id-7 label.sk-toggleable__label-arrow:before {content: \"▸\";float: left;margin-right: 0.25em;color: #696969;}#sk-container-id-7 label.sk-toggleable__label-arrow:hover:before {color: black;}#sk-container-id-7 div.sk-estimator:hover label.sk-toggleable__label-arrow:before {color: black;}#sk-container-id-7 div.sk-toggleable__content {max-height: 0;max-width: 0;overflow: hidden;text-align: left;background-color: #f0f8ff;}#sk-container-id-7 div.sk-toggleable__content pre {margin: 0.2em;color: black;border-radius: 0.25em;background-color: #f0f8ff;}#sk-container-id-7 input.sk-toggleable__control:checked~div.sk-toggleable__content {max-height: 200px;max-width: 100%;overflow: auto;}#sk-container-id-7 input.sk-toggleable__control:checked~label.sk-toggleable__label-arrow:before {content: \"▾\";}#sk-container-id-7 div.sk-estimator input.sk-toggleable__control:checked~label.sk-toggleable__label {background-color: #d4ebff;}#sk-container-id-7 div.sk-label input.sk-toggleable__control:checked~label.sk-toggleable__label {background-color: #d4ebff;}#sk-container-id-7 input.sk-hidden--visually {border: 0;clip: rect(1px 1px 1px 1px);clip: rect(1px, 1px, 1px, 1px);height: 1px;margin: -1px;overflow: hidden;padding: 0;position: absolute;width: 1px;}#sk-container-id-7 div.sk-estimator {font-family: monospace;background-color: #f0f8ff;border: 1px dotted black;border-radius: 0.25em;box-sizing: border-box;margin-bottom: 0.5em;}#sk-container-id-7 div.sk-estimator:hover {background-color: #d4ebff;}#sk-container-id-7 div.sk-parallel-item::after {content: \"\";width: 100%;border-bottom: 1px solid gray;flex-grow: 1;}#sk-container-id-7 div.sk-label:hover label.sk-toggleable__label {background-color: #d4ebff;}#sk-container-id-7 div.sk-serial::before {content: \"\";position: absolute;border-left: 1px solid gray;box-sizing: border-box;top: 0;bottom: 0;left: 50%;z-index: 0;}#sk-container-id-7 div.sk-serial {display: flex;flex-direction: column;align-items: center;background-color: white;padding-right: 0.2em;padding-left: 0.2em;position: relative;}#sk-container-id-7 div.sk-item {position: relative;z-index: 1;}#sk-container-id-7 div.sk-parallel {display: flex;align-items: stretch;justify-content: center;background-color: white;position: relative;}#sk-container-id-7 div.sk-item::before, #sk-container-id-7 div.sk-parallel-item::before {content: \"\";position: absolute;border-left: 1px solid gray;box-sizing: border-box;top: 0;bottom: 0;left: 50%;z-index: -1;}#sk-container-id-7 div.sk-parallel-item {display: flex;flex-direction: column;z-index: 1;position: relative;background-color: white;}#sk-container-id-7 div.sk-parallel-item:first-child::after {align-self: flex-end;width: 50%;}#sk-container-id-7 div.sk-parallel-item:last-child::after {align-self: flex-start;width: 50%;}#sk-container-id-7 div.sk-parallel-item:only-child::after {width: 0;}#sk-container-id-7 div.sk-dashed-wrapped {border: 1px dashed gray;margin: 0 0.4em 0.5em 0.4em;box-sizing: border-box;padding-bottom: 0.4em;background-color: white;}#sk-container-id-7 div.sk-label label {font-family: monospace;font-weight: bold;display: inline-block;line-height: 1.2em;}#sk-container-id-7 div.sk-label-container {text-align: center;}#sk-container-id-7 div.sk-container {/* jupyter's `normalize.less` sets `[hidden] { display: none; }` but bootstrap.min.css set `[hidden] { display: none !important; }` so we also need the `!important` here to be able to override the default hidden behavior on the sphinx rendered scikit-learn.org. See: https://github.com/scikit-learn/scikit-learn/issues/21755 */display: inline-block !important;position: relative;}#sk-container-id-7 div.sk-text-repr-fallback {display: none;}</style><div id=\"sk-container-id-7\" class=\"sk-top-container\"><div class=\"sk-text-repr-fallback\"><pre>AgglomerativeClustering(n_clusters=4)</pre><b>In a Jupyter environment, please rerun this cell to show the HTML representation or trust the notebook. <br />On GitHub, the HTML representation is unable to render, please try loading this page with nbviewer.org.</b></div><div class=\"sk-container\" hidden><div class=\"sk-item\"><div class=\"sk-estimator sk-toggleable\"><input class=\"sk-toggleable__control sk-hidden--visually\" id=\"sk-estimator-id-7\" type=\"checkbox\" checked><label for=\"sk-estimator-id-7\" class=\"sk-toggleable__label sk-toggleable__label-arrow\">AgglomerativeClustering</label><div class=\"sk-toggleable__content\"><pre>AgglomerativeClustering(n_clusters=4)</pre></div></div></div></div></div>"
      ],
      "text/plain": [
       "AgglomerativeClustering(n_clusters=4)"
      ]
     },
     "execution_count": 98,
     "metadata": {},
     "output_type": "execute_result"
    }
   ],
   "source": [
    "ac.fit(X_mean)"
   ]
  },
  {
   "cell_type": "code",
   "execution_count": 104,
   "id": "42c2eb8e-8d35-478d-a4cd-2abd2798a8b6",
   "metadata": {},
   "outputs": [
    {
     "data": {
      "text/html": [
       "<div>\n",
       "<style scoped>\n",
       "    .dataframe tbody tr th:only-of-type {\n",
       "        vertical-align: middle;\n",
       "    }\n",
       "\n",
       "    .dataframe tbody tr th {\n",
       "        vertical-align: top;\n",
       "    }\n",
       "\n",
       "    .dataframe thead th {\n",
       "        text-align: right;\n",
       "    }\n",
       "</style>\n",
       "<table border=\"1\" class=\"dataframe\">\n",
       "  <thead>\n",
       "    <tr style=\"text-align: right;\">\n",
       "      <th></th>\n",
       "      <th>0</th>\n",
       "    </tr>\n",
       "    <tr>\n",
       "      <th>manager</th>\n",
       "      <th></th>\n",
       "    </tr>\n",
       "  </thead>\n",
       "  <tbody>\n",
       "    <tr>\n",
       "      <th>Eric</th>\n",
       "      <td>0</td>\n",
       "    </tr>\n",
       "    <tr>\n",
       "      <th>Frags</th>\n",
       "      <td>0</td>\n",
       "    </tr>\n",
       "    <tr>\n",
       "      <th>Kyle</th>\n",
       "      <td>0</td>\n",
       "    </tr>\n",
       "    <tr>\n",
       "      <th>Michael</th>\n",
       "      <td>0</td>\n",
       "    </tr>\n",
       "    <tr>\n",
       "      <th>Nick</th>\n",
       "      <td>0</td>\n",
       "    </tr>\n",
       "    <tr>\n",
       "      <th>Nate</th>\n",
       "      <td>1</td>\n",
       "    </tr>\n",
       "    <tr>\n",
       "      <th>Pat</th>\n",
       "      <td>1</td>\n",
       "    </tr>\n",
       "    <tr>\n",
       "      <th>Jake</th>\n",
       "      <td>2</td>\n",
       "    </tr>\n",
       "    <tr>\n",
       "      <th>Jones</th>\n",
       "      <td>2</td>\n",
       "    </tr>\n",
       "    <tr>\n",
       "      <th>Lauren</th>\n",
       "      <td>2</td>\n",
       "    </tr>\n",
       "    <tr>\n",
       "      <th>Peter</th>\n",
       "      <td>2</td>\n",
       "    </tr>\n",
       "    <tr>\n",
       "      <th>Tim</th>\n",
       "      <td>2</td>\n",
       "    </tr>\n",
       "    <tr>\n",
       "      <th>Buddy</th>\n",
       "      <td>3</td>\n",
       "    </tr>\n",
       "    <tr>\n",
       "      <th>Ricky</th>\n",
       "      <td>3</td>\n",
       "    </tr>\n",
       "  </tbody>\n",
       "</table>\n",
       "</div>"
      ],
      "text/plain": [
       "         0\n",
       "manager   \n",
       "Eric     0\n",
       "Frags    0\n",
       "Kyle     0\n",
       "Michael  0\n",
       "Nick     0\n",
       "Nate     1\n",
       "Pat      1\n",
       "Jake     2\n",
       "Jones    2\n",
       "Lauren   2\n",
       "Peter    2\n",
       "Tim      2\n",
       "Buddy    3\n",
       "Ricky    3"
      ]
     },
     "execution_count": 104,
     "metadata": {},
     "output_type": "execute_result"
    }
   ],
   "source": [
    "pd.DataFrame(ac.labels_, index=X_mean.index).sort_values(0)"
   ]
  },
  {
   "cell_type": "code",
   "execution_count": null,
   "id": "cb30575a-6e9e-4e13-b0ca-5fca5ba598a5",
   "metadata": {},
   "outputs": [],
   "source": [
    "pd.DataFrame"
   ]
  }
 ],
 "metadata": {
  "kernelspec": {
   "display_name": "Python 3 (ipykernel)",
   "language": "python",
   "name": "python3"
  },
  "language_info": {
   "codemirror_mode": {
    "name": "ipython",
    "version": 3
   },
   "file_extension": ".py",
   "mimetype": "text/x-python",
   "name": "python",
   "nbconvert_exporter": "python",
   "pygments_lexer": "ipython3",
   "version": "3.11.5"
  }
 },
 "nbformat": 4,
 "nbformat_minor": 5
}

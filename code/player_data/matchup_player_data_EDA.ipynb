{
 "cells": [
  {
   "cell_type": "code",
   "execution_count": 210,
   "id": "0b260b74-03df-4d51-937b-715f86297a18",
   "metadata": {},
   "outputs": [],
   "source": [
    "%run ../utils.ipynb"
   ]
  },
  {
   "cell_type": "code",
   "execution_count": 211,
   "id": "1474ed83-df13-43d7-b211-7a4476056a08",
   "metadata": {},
   "outputs": [],
   "source": [
    "\n",
    "import pandas as pd\n",
    "import numpy as np\n",
    "import matplotlib.pyplot as plt\n",
    "import seaborn as sns\n",
    "from ipywidgets import interact\n",
    "\n",
    "import logging"
   ]
  },
  {
   "cell_type": "code",
   "execution_count": 212,
   "id": "d83da63d-24e9-4143-bbed-62bc1861eaa2",
   "metadata": {},
   "outputs": [],
   "source": [
    "plt.set_loglevel('WARNING')"
   ]
  },
  {
   "cell_type": "code",
   "execution_count": 213,
   "id": "226cdd50-1b77-4377-b0c5-66434d100338",
   "metadata": {},
   "outputs": [],
   "source": [
    "mlogger = logging.getLogger('matplotlib')\n",
    "mlogger.setLevel(logging.WARNING)"
   ]
  },
  {
   "cell_type": "code",
   "execution_count": 214,
   "id": "08664dec-af71-4af9-845a-dbae1fef53ca",
   "metadata": {},
   "outputs": [],
   "source": [
    "masks = {\n",
    "        '2015': df['season'] == 2015,\n",
    "        '2016': df['season'] == 2016,\n",
    "        '2017': df['season'] == 2017,\n",
    "        '2018': df['season'] == 2018,\n",
    "        '2019': df['season'] == 2019,\n",
    "        '2020': df['season'] == 2020,\n",
    "        '2021': df['season'] == 2021,\n",
    "        '2022': df['season'] == 2022,\n",
    "        '2023': df['season'] == 2023\n",
    "        }"
   ]
  },
  {
   "cell_type": "code",
   "execution_count": 215,
   "id": "95a478aa-2fa4-4429-b44a-e6cc2b6336ec",
   "metadata": {},
   "outputs": [],
   "source": [
    "data_dir = f\"{project_dir}\\\\data\\\\matchup_player_data\\\\\""
   ]
  },
  {
   "cell_type": "code",
   "execution_count": 216,
   "id": "63f6b319-240e-49e7-8da9-e57a53ab62e1",
   "metadata": {},
   "outputs": [],
   "source": [
    "df = pd.read_csv(data_dir+'matchup_player_data_through_2023.csv')"
   ]
  },
  {
   "cell_type": "code",
   "execution_count": 217,
   "id": "0164af60-f969-41ac-aa64-171e53b9f312",
   "metadata": {},
   "outputs": [
    {
     "data": {
      "text/plain": [
       "(2058, 58)"
      ]
     },
     "execution_count": 217,
     "metadata": {},
     "output_type": "execute_result"
    }
   ],
   "source": [
    "df.shape"
   ]
  },
  {
   "cell_type": "code",
   "execution_count": 218,
   "id": "0cde6d84-9fca-474d-ab4b-92267b79e0d9",
   "metadata": {},
   "outputs": [
    {
     "data": {
      "text/plain": [
       "Index(['QB', 'QB_player_key', 'QB_points', 'WR1', 'WR1_player_key',\n",
       "       'WR1_points', 'WR2', 'WR2_player_key', 'WR2_points', 'RB1',\n",
       "       'RB1_player_key', 'RB1_points', 'RB2', 'RB2_player_key', 'RB2_points',\n",
       "       'TE', 'TE_player_key', 'TE_points', 'W/R/T', 'W/R/T_player_key',\n",
       "       'W/R/T_points', 'BN1', 'BN1_player_key', 'BN1_points', 'BN2',\n",
       "       'BN2_player_key', 'BN2_points', 'BN3', 'BN3_player_key', 'BN3_points',\n",
       "       'BN4', 'BN4_player_key', 'BN4_points', 'BN5', 'BN5_player_key',\n",
       "       'BN5_points', 'K', 'K_player_key', 'K_points', 'DEF', 'DEF_player_key',\n",
       "       'DEF_points', 'BN6', 'BN6_points', 'team_name', 'manager', 'week',\n",
       "       'BN6_player_key', 'season', 'BN7', 'BN7_player_key', 'BN7_points',\n",
       "       'WR3', 'WR3_player_key', 'WR3_points', 'IR', 'IR_player_key',\n",
       "       'IR_points'],\n",
       "      dtype='object')"
      ]
     },
     "execution_count": 218,
     "metadata": {},
     "output_type": "execute_result"
    }
   ],
   "source": [
    "df.columns"
   ]
  },
  {
   "cell_type": "code",
   "execution_count": 225,
   "id": "c4d61db9-e2e0-4b77-85ef-7eda2b0141a0",
   "metadata": {},
   "outputs": [],
   "source": [
    "df['season'] = pd.to_datetime(df['season'], format=\"%Y\")"
   ]
  },
  {
   "cell_type": "code",
   "execution_count": 219,
   "id": "ceca5f7e-c6a9-455e-8af1-3d766ba7266d",
   "metadata": {},
   "outputs": [],
   "source": [
    "position_columns = ['QB',\n",
    "                   'WR1',\n",
    "                   'WR2',\n",
    "                   'WR3',\n",
    "                   'RB1',\n",
    "                   'RB2',\n",
    "                   'TE',\n",
    "                   'W/R/T'\n",
    "                   ]\n",
    "points_columns = [ x + '_points' for x in position_columns]    "
   ]
  },
  {
   "cell_type": "code",
   "execution_count": 220,
   "id": "bff04b73-ae0c-40f9-b77e-993abedf90bb",
   "metadata": {},
   "outputs": [
    {
     "data": {
      "text/html": [
       "<div>\n",
       "<style scoped>\n",
       "    .dataframe tbody tr th:only-of-type {\n",
       "        vertical-align: middle;\n",
       "    }\n",
       "\n",
       "    .dataframe tbody tr th {\n",
       "        vertical-align: top;\n",
       "    }\n",
       "\n",
       "    .dataframe thead th {\n",
       "        text-align: right;\n",
       "    }\n",
       "</style>\n",
       "<table border=\"1\" class=\"dataframe\">\n",
       "  <thead>\n",
       "    <tr style=\"text-align: right;\">\n",
       "      <th></th>\n",
       "      <th>QB</th>\n",
       "      <th>QB_points</th>\n",
       "      <th>week</th>\n",
       "      <th>season</th>\n",
       "    </tr>\n",
       "  </thead>\n",
       "  <tbody>\n",
       "    <tr>\n",
       "      <th>987</th>\n",
       "      <td>Aaron Rodgers</td>\n",
       "      <td>43.76</td>\n",
       "      <td>7</td>\n",
       "      <td>2019</td>\n",
       "    </tr>\n",
       "  </tbody>\n",
       "</table>\n",
       "</div>"
      ],
      "text/plain": [
       "                QB  QB_points  week  season\n",
       "987  Aaron Rodgers      43.76     7    2019"
      ]
     },
     "execution_count": 220,
     "metadata": {},
     "output_type": "execute_result"
    }
   ],
   "source": [
    "df.loc[df['QB_points'] == df['QB_points'].max(), ['QB', 'QB_points', 'week','season']]"
   ]
  },
  {
   "cell_type": "code",
   "execution_count": 221,
   "id": "f7b22f38-0a1b-4971-ab89-c625e9ba8ff4",
   "metadata": {},
   "outputs": [],
   "source": [
    "season_dfs = { k : df[v] for k,v in masks.items()}"
   ]
  },
  {
   "cell_type": "code",
   "execution_count": null,
   "id": "9d81e9ab-c2fa-4105-b59b-b8392a3e420c",
   "metadata": {},
   "outputs": [],
   "source": []
  },
  {
   "cell_type": "code",
   "execution_count": null,
   "id": "f029b863-bd3d-4cfa-921d-4c3886831b1b",
   "metadata": {},
   "outputs": [],
   "source": []
  },
  {
   "cell_type": "code",
   "execution_count": 233,
   "id": "3db83a07-3084-4d47-9220-c634f0fb6a65",
   "metadata": {},
   "outputs": [
    {
     "data": {
      "application/vnd.jupyter.widget-view+json": {
       "model_id": "f7aecc71b5824fb5a4a8add2501e605a",
       "version_major": 2,
       "version_minor": 0
      },
      "text/plain": [
       "interactive(children=(Dropdown(description='pos', options=('QB', 'WR1', 'WR2', 'WR3', 'RB1', 'RB2', 'TE', 'W/R…"
      ]
     },
     "metadata": {},
     "output_type": "display_data"
    }
   ],
   "source": [
    "@interact\n",
    "\n",
    "def position_over_time_plt( pos = position_columns ):\n",
    "    points_col = pos+'_points'\n",
    "    filtered_df = df.loc[ :, [pos, 'season', points_col]]\n",
    "    \n",
    "    plt.figure(figsize=(10,10))\n",
    "    sns.boxplot(data=df, x = 'season', y = points_col, hue= 'season', legend=False);\n",
    "    "
   ]
  },
  {
   "cell_type": "code",
   "execution_count": 223,
   "id": "c50ee85e-b8b0-446d-9097-804841d1d531",
   "metadata": {},
   "outputs": [
    {
     "data": {
      "text/html": [
       "<div>\n",
       "<style scoped>\n",
       "    .dataframe tbody tr th:only-of-type {\n",
       "        vertical-align: middle;\n",
       "    }\n",
       "\n",
       "    .dataframe tbody tr th {\n",
       "        vertical-align: top;\n",
       "    }\n",
       "\n",
       "    .dataframe thead th {\n",
       "        text-align: right;\n",
       "    }\n",
       "</style>\n",
       "<table border=\"1\" class=\"dataframe\">\n",
       "  <thead>\n",
       "    <tr style=\"text-align: right;\">\n",
       "      <th></th>\n",
       "      <th>count</th>\n",
       "      <th>mean</th>\n",
       "      <th>std</th>\n",
       "      <th>min</th>\n",
       "      <th>25%</th>\n",
       "      <th>50%</th>\n",
       "      <th>75%</th>\n",
       "      <th>max</th>\n",
       "    </tr>\n",
       "    <tr>\n",
       "      <th>manager</th>\n",
       "      <th></th>\n",
       "      <th></th>\n",
       "      <th></th>\n",
       "      <th></th>\n",
       "      <th></th>\n",
       "      <th></th>\n",
       "      <th></th>\n",
       "      <th></th>\n",
       "    </tr>\n",
       "  </thead>\n",
       "  <tbody>\n",
       "    <tr>\n",
       "      <th>Big Rick</th>\n",
       "      <td>16.0</td>\n",
       "      <td>16.038125</td>\n",
       "      <td>7.222801</td>\n",
       "      <td>-0.03</td>\n",
       "      <td>13.4675</td>\n",
       "      <td>18.815</td>\n",
       "      <td>19.9025</td>\n",
       "      <td>27.77</td>\n",
       "    </tr>\n",
       "    <tr>\n",
       "      <th>Buddy</th>\n",
       "      <td>147.0</td>\n",
       "      <td>18.015238</td>\n",
       "      <td>8.461334</td>\n",
       "      <td>0.00</td>\n",
       "      <td>11.8700</td>\n",
       "      <td>17.280</td>\n",
       "      <td>22.9850</td>\n",
       "      <td>43.76</td>\n",
       "    </tr>\n",
       "    <tr>\n",
       "      <th>Eric</th>\n",
       "      <td>147.0</td>\n",
       "      <td>15.719320</td>\n",
       "      <td>9.417570</td>\n",
       "      <td>-7.83</td>\n",
       "      <td>10.6100</td>\n",
       "      <td>15.180</td>\n",
       "      <td>21.6900</td>\n",
       "      <td>41.82</td>\n",
       "    </tr>\n",
       "    <tr>\n",
       "      <th>Frags</th>\n",
       "      <td>147.0</td>\n",
       "      <td>16.645918</td>\n",
       "      <td>7.761891</td>\n",
       "      <td>-0.23</td>\n",
       "      <td>11.7500</td>\n",
       "      <td>16.370</td>\n",
       "      <td>21.4400</td>\n",
       "      <td>38.10</td>\n",
       "    </tr>\n",
       "    <tr>\n",
       "      <th>Jake</th>\n",
       "      <td>147.0</td>\n",
       "      <td>17.012109</td>\n",
       "      <td>8.252643</td>\n",
       "      <td>-0.48</td>\n",
       "      <td>10.9500</td>\n",
       "      <td>17.100</td>\n",
       "      <td>22.7050</td>\n",
       "      <td>40.93</td>\n",
       "    </tr>\n",
       "    <tr>\n",
       "      <th>Jones</th>\n",
       "      <td>147.0</td>\n",
       "      <td>18.520272</td>\n",
       "      <td>8.469762</td>\n",
       "      <td>0.00</td>\n",
       "      <td>12.6900</td>\n",
       "      <td>18.020</td>\n",
       "      <td>24.1250</td>\n",
       "      <td>41.88</td>\n",
       "    </tr>\n",
       "    <tr>\n",
       "      <th>Kyle</th>\n",
       "      <td>147.0</td>\n",
       "      <td>16.890272</td>\n",
       "      <td>7.771029</td>\n",
       "      <td>-3.00</td>\n",
       "      <td>11.1000</td>\n",
       "      <td>16.540</td>\n",
       "      <td>21.5900</td>\n",
       "      <td>40.06</td>\n",
       "    </tr>\n",
       "    <tr>\n",
       "      <th>Lauren</th>\n",
       "      <td>147.0</td>\n",
       "      <td>16.669932</td>\n",
       "      <td>8.271044</td>\n",
       "      <td>0.00</td>\n",
       "      <td>11.0700</td>\n",
       "      <td>16.100</td>\n",
       "      <td>22.4250</td>\n",
       "      <td>39.88</td>\n",
       "    </tr>\n",
       "    <tr>\n",
       "      <th>Michael</th>\n",
       "      <td>147.0</td>\n",
       "      <td>16.948027</td>\n",
       "      <td>7.810023</td>\n",
       "      <td>-1.30</td>\n",
       "      <td>12.0950</td>\n",
       "      <td>16.670</td>\n",
       "      <td>22.1050</td>\n",
       "      <td>37.92</td>\n",
       "    </tr>\n",
       "    <tr>\n",
       "      <th>Nate</th>\n",
       "      <td>131.0</td>\n",
       "      <td>16.654733</td>\n",
       "      <td>8.297715</td>\n",
       "      <td>-2.17</td>\n",
       "      <td>11.1500</td>\n",
       "      <td>16.370</td>\n",
       "      <td>22.0600</td>\n",
       "      <td>43.46</td>\n",
       "    </tr>\n",
       "    <tr>\n",
       "      <th>Nick</th>\n",
       "      <td>147.0</td>\n",
       "      <td>16.648231</td>\n",
       "      <td>8.032578</td>\n",
       "      <td>0.00</td>\n",
       "      <td>10.6700</td>\n",
       "      <td>15.880</td>\n",
       "      <td>22.3400</td>\n",
       "      <td>39.33</td>\n",
       "    </tr>\n",
       "    <tr>\n",
       "      <th>Pat</th>\n",
       "      <td>147.0</td>\n",
       "      <td>19.059252</td>\n",
       "      <td>7.667672</td>\n",
       "      <td>0.00</td>\n",
       "      <td>13.9300</td>\n",
       "      <td>18.900</td>\n",
       "      <td>23.6650</td>\n",
       "      <td>39.66</td>\n",
       "    </tr>\n",
       "    <tr>\n",
       "      <th>Peter</th>\n",
       "      <td>147.0</td>\n",
       "      <td>16.829252</td>\n",
       "      <td>7.663494</td>\n",
       "      <td>-1.76</td>\n",
       "      <td>11.6450</td>\n",
       "      <td>16.200</td>\n",
       "      <td>21.5900</td>\n",
       "      <td>38.48</td>\n",
       "    </tr>\n",
       "    <tr>\n",
       "      <th>Ricky</th>\n",
       "      <td>147.0</td>\n",
       "      <td>19.488844</td>\n",
       "      <td>7.635501</td>\n",
       "      <td>1.84</td>\n",
       "      <td>15.0250</td>\n",
       "      <td>19.770</td>\n",
       "      <td>24.7150</td>\n",
       "      <td>36.64</td>\n",
       "    </tr>\n",
       "    <tr>\n",
       "      <th>Tim</th>\n",
       "      <td>147.0</td>\n",
       "      <td>18.320680</td>\n",
       "      <td>8.633135</td>\n",
       "      <td>0.00</td>\n",
       "      <td>12.0800</td>\n",
       "      <td>18.170</td>\n",
       "      <td>24.1200</td>\n",
       "      <td>40.00</td>\n",
       "    </tr>\n",
       "  </tbody>\n",
       "</table>\n",
       "</div>"
      ],
      "text/plain": [
       "          count       mean       std   min      25%     50%      75%    max\n",
       "manager                                                                    \n",
       "Big Rick   16.0  16.038125  7.222801 -0.03  13.4675  18.815  19.9025  27.77\n",
       "Buddy     147.0  18.015238  8.461334  0.00  11.8700  17.280  22.9850  43.76\n",
       "Eric      147.0  15.719320  9.417570 -7.83  10.6100  15.180  21.6900  41.82\n",
       "Frags     147.0  16.645918  7.761891 -0.23  11.7500  16.370  21.4400  38.10\n",
       "Jake      147.0  17.012109  8.252643 -0.48  10.9500  17.100  22.7050  40.93\n",
       "Jones     147.0  18.520272  8.469762  0.00  12.6900  18.020  24.1250  41.88\n",
       "Kyle      147.0  16.890272  7.771029 -3.00  11.1000  16.540  21.5900  40.06\n",
       "Lauren    147.0  16.669932  8.271044  0.00  11.0700  16.100  22.4250  39.88\n",
       "Michael   147.0  16.948027  7.810023 -1.30  12.0950  16.670  22.1050  37.92\n",
       "Nate      131.0  16.654733  8.297715 -2.17  11.1500  16.370  22.0600  43.46\n",
       "Nick      147.0  16.648231  8.032578  0.00  10.6700  15.880  22.3400  39.33\n",
       "Pat       147.0  19.059252  7.667672  0.00  13.9300  18.900  23.6650  39.66\n",
       "Peter     147.0  16.829252  7.663494 -1.76  11.6450  16.200  21.5900  38.48\n",
       "Ricky     147.0  19.488844  7.635501  1.84  15.0250  19.770  24.7150  36.64\n",
       "Tim       147.0  18.320680  8.633135  0.00  12.0800  18.170  24.1200  40.00"
      ]
     },
     "execution_count": 223,
     "metadata": {},
     "output_type": "execute_result"
    }
   ],
   "source": [
    "df.groupby('manager')['QB_points'].describe()"
   ]
  },
  {
   "cell_type": "code",
   "execution_count": 226,
   "id": "5cf56d33-c956-4a4d-b412-5fafc89df92f",
   "metadata": {},
   "outputs": [
    {
     "data": {
      "application/vnd.jupyter.widget-view+json": {
       "model_id": "a2b916d9373240de85e8de798af17e3c",
       "version_major": 2,
       "version_minor": 0
      },
      "text/plain": [
       "interactive(children=(Dropdown(description='manager', options=('Ricky', 'Peter', 'Tim', 'Big Rick', 'Michael',…"
      ]
     },
     "metadata": {},
     "output_type": "display_data"
    }
   ],
   "source": [
    "@interact\n",
    "\n",
    "def position_points_explorer(manager = df['manager'].unique(), pos = position_columns, season = df['season'].unique()):\n",
    "    \"\"\"\n",
    "    Paints an interactive lollipop chart for given weekly player data allowing for selections by manager, position, and season\n",
    "    \n",
    "    \"\"\"\n",
    "    # filter the dataframe by selected manager and season, with values as selected position and points\n",
    "    # for example, this df might look like: manager Michael, season 2018 columns QB & QB_points \n",
    "    filtered_df = df[(df['manager'] == manager) & (df['season'] == season)][[pos, pos+'_points']]\n",
    "    filtered_df.reset_index(inplace=True)\n",
    "\n",
    "    # average for the season for that position, used as reference horizontal line in chart\n",
    "    league_average = df[df['season'] == season][pos+'_points'].mean()\n",
    "    \n",
    "    # RGB color array, sufficiently different from eachother to make reading easier\n",
    "    label_colors = [(0.0, 0.286, 0.572),\n",
    "                    (0.0, 0.619, 0.450),\n",
    "                    (0.6, 0.8, 0.196),\n",
    "                    (1.0, 0.6, 0.6),\n",
    "                    (1.0, 0.8, 0.0),\n",
    "                    (1.0, 0.6, 0.0),\n",
    "                    (0.901, 0.098, 0.294),\n",
    "                    (0.6, 0.0, 0.6),\n",
    "                    (1.0, 0.4, 1.0),\n",
    "                    (1.0, 0.8, 0.6),\n",
    "                    (0.6, 0.4, 0.2),\n",
    "                    (0.588, 0.588, 0.588),\n",
    "                    (0.4, 0.6, 0.8),\n",
    "                    (0.6, 0.8, 1.0),\n",
    "                    (0.8, 0.6, 1.0)]\n",
    "    \n",
    "    # establish weeks to serve as x axis \n",
    "    weeks = range(1, len(filtered_df.index) + 1)\n",
    "\n",
    "    # result would indicate the df is empty - meaning the manager didn't appear in the selected season, \n",
    "    if not len(filtered_df.index):\n",
    "        return \"It appears the selected manager did not play in this season!\"\n",
    "        \n",
    "    # establish figure and draw horizontal line representing season average\n",
    "    plt.figure(figsize=(10,8))\n",
    "    plt.hlines(league_average, 0, weeks[-1],linestyles='dotted', color='r', alpha = 0.5, label = f'{season} League Average')\n",
    "\n",
    "    # loop responsible for charting individual scatter points and lines\n",
    "    \n",
    "    color_index = 0\n",
    "    for player in filtered_df[pos].unique():\n",
    "        # find the weeks for each player that filled the position over the course of the season played \n",
    "        weeks_played = filtered_df[filtered_df[pos] == player].index\n",
    "\n",
    "        # chart only points and lines relevant to the player in this loop \n",
    "        plt.scatter(x = weeks_played, y = filtered_df[filtered_df[pos] == player][pos+'_points'], label = player, \\\n",
    "                    color=label_colors[color_index], s=75)\n",
    "        # chart corresponding vertical lines (the lollipop \"stick\") using league average as reference point\n",
    "        plt.vlines(x = weeks_played,\n",
    "                   ymin = league_average,\n",
    "                   ymax= filtered_df[filtered_df[pos] == player][pos+'_points'],\n",
    "                  colors = label_colors[color_index])\n",
    "        color_index+=1\n",
    "\n",
    "    # additional figure elements\n",
    "    plt.grid(visible=True, axis='y', alpha=0.3)\n",
    "    plt.title(f\"{pos} position for {manager}, {season} Season\")\n",
    "    plt.xlabel('Week', size=12)\n",
    "    plt.ylabel('Points Scored')\n",
    "    plt.ylim(-10, 50)\n",
    "    plt.legend()\n",
    "    plt.show()"
   ]
  },
  {
   "cell_type": "code",
   "execution_count": null,
   "id": "229c37b2-00d8-4393-9a14-51545094153b",
   "metadata": {},
   "outputs": [],
   "source": []
  }
 ],
 "metadata": {
  "kernelspec": {
   "display_name": "Python 3 (ipykernel)",
   "language": "python",
   "name": "python3"
  },
  "language_info": {
   "codemirror_mode": {
    "name": "ipython",
    "version": 3
   },
   "file_extension": ".py",
   "mimetype": "text/x-python",
   "name": "python",
   "nbconvert_exporter": "python",
   "pygments_lexer": "ipython3",
   "version": "3.11.5"
  }
 },
 "nbformat": 4,
 "nbformat_minor": 5
}

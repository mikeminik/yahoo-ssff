{
 "cells": [
  {
   "cell_type": "code",
   "execution_count": 12,
   "id": "1474ed83-df13-43d7-b211-7a4476056a08",
   "metadata": {},
   "outputs": [],
   "source": [
    "import pandas as pd\n",
    "import numpy as np\n",
    "import matplotlib.pyplot as plt\n",
    "import seaborn as sns\n",
    "from ipywidgets import interact"
   ]
  },
  {
   "cell_type": "code",
   "execution_count": 9,
   "id": "95a478aa-2fa4-4429-b44a-e6cc2b6336ec",
   "metadata": {},
   "outputs": [],
   "source": [
    "loc = \"../../data/matchup_player_data/\""
   ]
  },
  {
   "cell_type": "code",
   "execution_count": 10,
   "id": "63f6b319-240e-49e7-8da9-e57a53ab62e1",
   "metadata": {},
   "outputs": [],
   "source": [
    "df = pd.read_csv(loc+'2018_weekly_roster_stats.csv')"
   ]
  },
  {
   "cell_type": "code",
   "execution_count": 11,
   "id": "0164af60-f969-41ac-aa64-171e53b9f312",
   "metadata": {},
   "outputs": [
    {
     "data": {
      "text/plain": [
       "(210, 51)"
      ]
     },
     "execution_count": 11,
     "metadata": {},
     "output_type": "execute_result"
    }
   ],
   "source": [
    "df.shape"
   ]
  },
  {
   "cell_type": "code",
   "execution_count": 11,
   "id": "0cde6d84-9fca-474d-ab4b-92267b79e0d9",
   "metadata": {},
   "outputs": [
    {
     "data": {
      "text/plain": [
       "Index(['QB', 'QB_player_key', 'QB_points', 'WR1', 'WR1_player_key',\n",
       "       'WR1_points', 'WR2', 'WR2_player_key', 'WR2_points', 'RB1',\n",
       "       'RB1_player_key', 'RB1_points', 'RB2', 'RB2_player_key', 'RB2_points',\n",
       "       'TE', 'TE_player_key', 'TE_points', 'W/R/T', 'W/R/T_player_key',\n",
       "       'W/R/T_points', 'BN1', 'BN1_player_key', 'BN1_points', 'BN2',\n",
       "       'BN2_player_key', 'BN2_points', 'BN3', 'BN3_player_key', 'BN3_points',\n",
       "       'BN4', 'BN4_player_key', 'BN4_points', 'K', 'K_player_key', 'K_points',\n",
       "       'DEF', 'DEF_player_key', 'DEF_points', 'BN5', 'BN5_player_key',\n",
       "       'BN5_points', 'BN6', 'BN6_points', 'team_name', 'manager', 'week',\n",
       "       'BN6_player_key', 'BN7', 'BN7_player_key', 'BN7_points'],\n",
       "      dtype='object')"
      ]
     },
     "execution_count": 11,
     "metadata": {},
     "output_type": "execute_result"
    }
   ],
   "source": [
    "df.columns"
   ]
  },
  {
   "cell_type": "code",
   "execution_count": 14,
   "id": "ceca5f7e-c6a9-455e-8af1-3d766ba7266d",
   "metadata": {},
   "outputs": [],
   "source": [
    "position_columns = ['QB',\n",
    "                   'WR1',\n",
    "                   'WR2',\n",
    "                   'RB1',\n",
    "                   'RB2',\n",
    "                   'TE',\n",
    "                   'W/R/T'\n",
    "                   ]\n",
    "points_columns = [ x + '_points' for x in position_columns]    "
   ]
  },
  {
   "cell_type": "code",
   "execution_count": null,
   "id": "bff04b73-ae0c-40f9-b77e-993abedf90bb",
   "metadata": {},
   "outputs": [],
   "source": []
  },
  {
   "cell_type": "code",
   "execution_count": 17,
   "id": "c50ee85e-b8b0-446d-9097-804841d1d531",
   "metadata": {},
   "outputs": [
    {
     "data": {
      "text/html": [
       "<div>\n",
       "<style scoped>\n",
       "    .dataframe tbody tr th:only-of-type {\n",
       "        vertical-align: middle;\n",
       "    }\n",
       "\n",
       "    .dataframe tbody tr th {\n",
       "        vertical-align: top;\n",
       "    }\n",
       "\n",
       "    .dataframe thead th {\n",
       "        text-align: right;\n",
       "    }\n",
       "</style>\n",
       "<table border=\"1\" class=\"dataframe\">\n",
       "  <thead>\n",
       "    <tr style=\"text-align: right;\">\n",
       "      <th></th>\n",
       "      <th>count</th>\n",
       "      <th>mean</th>\n",
       "      <th>std</th>\n",
       "      <th>min</th>\n",
       "      <th>25%</th>\n",
       "      <th>50%</th>\n",
       "      <th>75%</th>\n",
       "      <th>max</th>\n",
       "    </tr>\n",
       "    <tr>\n",
       "      <th>manager</th>\n",
       "      <th></th>\n",
       "      <th></th>\n",
       "      <th></th>\n",
       "      <th></th>\n",
       "      <th></th>\n",
       "      <th></th>\n",
       "      <th></th>\n",
       "      <th></th>\n",
       "    </tr>\n",
       "  </thead>\n",
       "  <tbody>\n",
       "    <tr>\n",
       "      <th>Buddy</th>\n",
       "      <td>15.0</td>\n",
       "      <td>19.385333</td>\n",
       "      <td>11.181902</td>\n",
       "      <td>5.92</td>\n",
       "      <td>8.41</td>\n",
       "      <td>17.62</td>\n",
       "      <td>29.71</td>\n",
       "      <td>39.54</td>\n",
       "    </tr>\n",
       "    <tr>\n",
       "      <th>Eric</th>\n",
       "      <td>15.0</td>\n",
       "      <td>16.657333</td>\n",
       "      <td>6.810210</td>\n",
       "      <td>2.10</td>\n",
       "      <td>12.96</td>\n",
       "      <td>16.36</td>\n",
       "      <td>21.04</td>\n",
       "      <td>27.54</td>\n",
       "    </tr>\n",
       "    <tr>\n",
       "      <th>Frags</th>\n",
       "      <td>15.0</td>\n",
       "      <td>19.958667</td>\n",
       "      <td>6.823658</td>\n",
       "      <td>4.74</td>\n",
       "      <td>15.34</td>\n",
       "      <td>21.30</td>\n",
       "      <td>24.72</td>\n",
       "      <td>28.60</td>\n",
       "    </tr>\n",
       "    <tr>\n",
       "      <th>Jake</th>\n",
       "      <td>15.0</td>\n",
       "      <td>20.778667</td>\n",
       "      <td>8.849518</td>\n",
       "      <td>7.64</td>\n",
       "      <td>14.07</td>\n",
       "      <td>19.48</td>\n",
       "      <td>27.75</td>\n",
       "      <td>38.16</td>\n",
       "    </tr>\n",
       "    <tr>\n",
       "      <th>Jones</th>\n",
       "      <td>15.0</td>\n",
       "      <td>18.954667</td>\n",
       "      <td>4.991063</td>\n",
       "      <td>11.92</td>\n",
       "      <td>15.18</td>\n",
       "      <td>18.16</td>\n",
       "      <td>21.12</td>\n",
       "      <td>28.40</td>\n",
       "    </tr>\n",
       "    <tr>\n",
       "      <th>Kyle</th>\n",
       "      <td>15.0</td>\n",
       "      <td>23.454667</td>\n",
       "      <td>7.694943</td>\n",
       "      <td>9.04</td>\n",
       "      <td>18.45</td>\n",
       "      <td>21.86</td>\n",
       "      <td>29.10</td>\n",
       "      <td>35.92</td>\n",
       "    </tr>\n",
       "    <tr>\n",
       "      <th>Lauren</th>\n",
       "      <td>15.0</td>\n",
       "      <td>16.804000</td>\n",
       "      <td>5.853308</td>\n",
       "      <td>0.84</td>\n",
       "      <td>13.86</td>\n",
       "      <td>17.84</td>\n",
       "      <td>20.88</td>\n",
       "      <td>23.64</td>\n",
       "    </tr>\n",
       "    <tr>\n",
       "      <th>Michael</th>\n",
       "      <td>15.0</td>\n",
       "      <td>14.322667</td>\n",
       "      <td>9.969914</td>\n",
       "      <td>-1.30</td>\n",
       "      <td>8.09</td>\n",
       "      <td>12.34</td>\n",
       "      <td>19.68</td>\n",
       "      <td>35.12</td>\n",
       "    </tr>\n",
       "    <tr>\n",
       "      <th>Nate</th>\n",
       "      <td>15.0</td>\n",
       "      <td>17.960000</td>\n",
       "      <td>12.201115</td>\n",
       "      <td>4.70</td>\n",
       "      <td>7.35</td>\n",
       "      <td>13.16</td>\n",
       "      <td>26.85</td>\n",
       "      <td>43.46</td>\n",
       "    </tr>\n",
       "    <tr>\n",
       "      <th>Nick</th>\n",
       "      <td>15.0</td>\n",
       "      <td>18.214667</td>\n",
       "      <td>6.255500</td>\n",
       "      <td>8.08</td>\n",
       "      <td>13.80</td>\n",
       "      <td>21.36</td>\n",
       "      <td>22.49</td>\n",
       "      <td>27.96</td>\n",
       "    </tr>\n",
       "    <tr>\n",
       "      <th>Pat</th>\n",
       "      <td>15.0</td>\n",
       "      <td>18.249333</td>\n",
       "      <td>5.359056</td>\n",
       "      <td>7.98</td>\n",
       "      <td>16.28</td>\n",
       "      <td>18.50</td>\n",
       "      <td>21.28</td>\n",
       "      <td>26.24</td>\n",
       "    </tr>\n",
       "    <tr>\n",
       "      <th>Peter</th>\n",
       "      <td>15.0</td>\n",
       "      <td>19.860000</td>\n",
       "      <td>8.234957</td>\n",
       "      <td>6.92</td>\n",
       "      <td>14.87</td>\n",
       "      <td>20.06</td>\n",
       "      <td>22.31</td>\n",
       "      <td>36.98</td>\n",
       "    </tr>\n",
       "    <tr>\n",
       "      <th>Ricky</th>\n",
       "      <td>15.0</td>\n",
       "      <td>17.884000</td>\n",
       "      <td>5.441487</td>\n",
       "      <td>8.04</td>\n",
       "      <td>15.12</td>\n",
       "      <td>17.52</td>\n",
       "      <td>20.72</td>\n",
       "      <td>28.70</td>\n",
       "    </tr>\n",
       "    <tr>\n",
       "      <th>Tim</th>\n",
       "      <td>15.0</td>\n",
       "      <td>18.346667</td>\n",
       "      <td>8.760550</td>\n",
       "      <td>3.28</td>\n",
       "      <td>10.95</td>\n",
       "      <td>20.00</td>\n",
       "      <td>23.68</td>\n",
       "      <td>31.10</td>\n",
       "    </tr>\n",
       "  </tbody>\n",
       "</table>\n",
       "</div>"
      ],
      "text/plain": [
       "         count       mean        std    min    25%    50%    75%    max\n",
       "manager                                                                \n",
       "Buddy     15.0  19.385333  11.181902   5.92   8.41  17.62  29.71  39.54\n",
       "Eric      15.0  16.657333   6.810210   2.10  12.96  16.36  21.04  27.54\n",
       "Frags     15.0  19.958667   6.823658   4.74  15.34  21.30  24.72  28.60\n",
       "Jake      15.0  20.778667   8.849518   7.64  14.07  19.48  27.75  38.16\n",
       "Jones     15.0  18.954667   4.991063  11.92  15.18  18.16  21.12  28.40\n",
       "Kyle      15.0  23.454667   7.694943   9.04  18.45  21.86  29.10  35.92\n",
       "Lauren    15.0  16.804000   5.853308   0.84  13.86  17.84  20.88  23.64\n",
       "Michael   15.0  14.322667   9.969914  -1.30   8.09  12.34  19.68  35.12\n",
       "Nate      15.0  17.960000  12.201115   4.70   7.35  13.16  26.85  43.46\n",
       "Nick      15.0  18.214667   6.255500   8.08  13.80  21.36  22.49  27.96\n",
       "Pat       15.0  18.249333   5.359056   7.98  16.28  18.50  21.28  26.24\n",
       "Peter     15.0  19.860000   8.234957   6.92  14.87  20.06  22.31  36.98\n",
       "Ricky     15.0  17.884000   5.441487   8.04  15.12  17.52  20.72  28.70\n",
       "Tim       15.0  18.346667   8.760550   3.28  10.95  20.00  23.68  31.10"
      ]
     },
     "execution_count": 17,
     "metadata": {},
     "output_type": "execute_result"
    }
   ],
   "source": [
    "df.groupby('manager')['QB_points'].describe()"
   ]
  },
  {
   "cell_type": "code",
   "execution_count": 20,
   "id": "2cef0b6c-b5f8-48ed-903d-e0fa45b7e0c2",
   "metadata": {},
   "outputs": [
    {
     "data": {
      "text/html": [
       "<div>\n",
       "<style scoped>\n",
       "    .dataframe tbody tr th:only-of-type {\n",
       "        vertical-align: middle;\n",
       "    }\n",
       "\n",
       "    .dataframe tbody tr th {\n",
       "        vertical-align: top;\n",
       "    }\n",
       "\n",
       "    .dataframe thead th {\n",
       "        text-align: right;\n",
       "    }\n",
       "</style>\n",
       "<table border=\"1\" class=\"dataframe\">\n",
       "  <thead>\n",
       "    <tr style=\"text-align: right;\">\n",
       "      <th></th>\n",
       "      <th>QB</th>\n",
       "      <th>QB_player_key</th>\n",
       "      <th>QB_points</th>\n",
       "      <th>WR1</th>\n",
       "      <th>WR1_player_key</th>\n",
       "      <th>WR1_points</th>\n",
       "      <th>WR2</th>\n",
       "      <th>WR2_player_key</th>\n",
       "      <th>WR2_points</th>\n",
       "      <th>RB1</th>\n",
       "      <th>...</th>\n",
       "      <th>BN5_points</th>\n",
       "      <th>BN6</th>\n",
       "      <th>BN6_points</th>\n",
       "      <th>team_name</th>\n",
       "      <th>manager</th>\n",
       "      <th>week</th>\n",
       "      <th>BN6_player_key</th>\n",
       "      <th>BN7</th>\n",
       "      <th>BN7_player_key</th>\n",
       "      <th>BN7_points</th>\n",
       "    </tr>\n",
       "  </thead>\n",
       "  <tbody>\n",
       "    <tr>\n",
       "      <th>191</th>\n",
       "      <td>Jared Goff</td>\n",
       "      <td>380.p.29235</td>\n",
       "      <td>-1.3</td>\n",
       "      <td>Julio Jones</td>\n",
       "      <td>380.p.24793</td>\n",
       "      <td>28.6</td>\n",
       "      <td>Brandin Cooks</td>\n",
       "      <td>380.p.27548</td>\n",
       "      <td>4.2</td>\n",
       "      <td>Lamar Miller</td>\n",
       "      <td>...</td>\n",
       "      <td>8.0</td>\n",
       "      <td>NaN</td>\n",
       "      <td>NaN</td>\n",
       "      <td>Thug Bungalow</td>\n",
       "      <td>Michael</td>\n",
       "      <td>14</td>\n",
       "      <td>NaN</td>\n",
       "      <td>NaN</td>\n",
       "      <td>NaN</td>\n",
       "      <td>NaN</td>\n",
       "    </tr>\n",
       "  </tbody>\n",
       "</table>\n",
       "<p>1 rows × 51 columns</p>\n",
       "</div>"
      ],
      "text/plain": [
       "             QB QB_player_key  QB_points          WR1 WR1_player_key  \\\n",
       "191  Jared Goff   380.p.29235       -1.3  Julio Jones    380.p.24793   \n",
       "\n",
       "     WR1_points            WR2 WR2_player_key  WR2_points           RB1  ...  \\\n",
       "191        28.6  Brandin Cooks    380.p.27548         4.2  Lamar Miller  ...   \n",
       "\n",
       "    BN5_points  BN6 BN6_points      team_name  manager week BN6_player_key  \\\n",
       "191        8.0  NaN        NaN  Thug Bungalow  Michael   14            NaN   \n",
       "\n",
       "     BN7 BN7_player_key BN7_points  \n",
       "191  NaN            NaN        NaN  \n",
       "\n",
       "[1 rows x 51 columns]"
      ]
     },
     "execution_count": 20,
     "metadata": {},
     "output_type": "execute_result"
    }
   ],
   "source": [
    "df[df['QB_points'] == df['QB_points'].min()]"
   ]
  },
  {
   "cell_type": "code",
   "execution_count": 20,
   "id": "f7f872a9-7cea-48a0-9d31-9a3cf2ea36fe",
   "metadata": {},
   "outputs": [],
   "source": [
    "names = ['John', 'Mike', 'Susan']\n",
    "count = [i for i,v in enumerate(names)]"
   ]
  },
  {
   "cell_type": "code",
   "execution_count": 29,
   "id": "a4ddb883-2c59-4211-b2df-6e4501d9220d",
   "metadata": {},
   "outputs": [],
   "source": [
    "test_df = df[(df['manager'] == 'Michael')][['QB', 'QB_points']]"
   ]
  },
  {
   "cell_type": "code",
   "execution_count": 30,
   "id": "95bdfc8f-5455-4b36-b2b9-2c6477ce473f",
   "metadata": {},
   "outputs": [],
   "source": [
    "test_df.reset_index(inplace=True, drop=True)"
   ]
  },
  {
   "cell_type": "code",
   "execution_count": 32,
   "id": "5e6e09bd-63b3-4230-9713-65aa3470ae64",
   "metadata": {},
   "outputs": [
    {
     "data": {
      "text/plain": [
       "Index([4, 5, 6, 7, 8, 9, 10, 12, 13, 14], dtype='int64')"
      ]
     },
     "execution_count": 32,
     "metadata": {},
     "output_type": "execute_result"
    }
   ],
   "source": [
    "test_df[test_df['QB'] == 'Jared Goff'].index"
   ]
  },
  {
   "cell_type": "code",
   "execution_count": null,
   "id": "f705bf63-1d46-4980-b030-be1423719a58",
   "metadata": {},
   "outputs": [],
   "source": [
    "test_df[test_df['']]"
   ]
  },
  {
   "cell_type": "code",
   "execution_count": 73,
   "id": "5cf56d33-c956-4a4d-b412-5fafc89df92f",
   "metadata": {},
   "outputs": [
    {
     "data": {
      "application/vnd.jupyter.widget-view+json": {
       "model_id": "e6170d06aa584be89875e97bc8fc32d0",
       "version_major": 2,
       "version_minor": 0
      },
      "text/plain": [
       "interactive(children=(Dropdown(description='manager', options=('Ricky', 'Pat', 'Tim', 'Eric', 'Jones', 'Lauren…"
      ]
     },
     "metadata": {},
     "output_type": "display_data"
    }
   ],
   "source": [
    "@interact\n",
    "\n",
    "def position_points_explorer(manager = df['manager'].unique(), pos = position_columns):\n",
    "    league_average = df[pos+'_points'].mean()\n",
    "    filtered_df = df[(df['manager'] == manager)][[pos, pos+'_points']]\n",
    "    filtered_df.reset_index(inplace=True)\n",
    "    label_colors = [(0.0, 0.286, 0.572),\n",
    "(0.0, 0.619, 0.450),\n",
    "(0.6, 0.8, 0.196),\n",
    "(1.0, 0.6, 0.6),\n",
    "(1.0, 0.8, 0.0),\n",
    "(1.0, 0.6, 0.0),\n",
    "(0.901, 0.098, 0.294),\n",
    "(0.6, 0.0, 0.6),\n",
    "(1.0, 0.4, 1.0),\n",
    "(1.0, 0.8, 0.6),\n",
    "(0.6, 0.4, 0.2),\n",
    "(0.588, 0.588, 0.588),\n",
    "(0.4, 0.6, 0.8),\n",
    "(0.6, 0.8, 1.0),\n",
    "(0.8, 0.6, 1.0)]\n",
    "    color_index = 0\n",
    "    weeks = range(1, len(filtered_df.index) + 1)\n",
    "    plt.figure(figsize=(10,8))\n",
    "    plt.hlines(league_average, 0, weeks[-1],linestyles='dotted', color='r', alpha = 0.5, label = 'League Average')\n",
    "    for player in filtered_df[pos].unique():\n",
    "        weeks_played = filtered_df[filtered_df[pos] == player].index\n",
    "        plt.scatter(x = weeks_played, y = filtered_df[filtered_df[pos] == player][pos+'_points'], label = player, color=label_colors[color_index], s=75)\n",
    "        plt.vlines(x = weeks_played,\n",
    "                   ymin = league_average,\n",
    "                   ymax= filtered_df[filtered_df[pos] == player][pos+'_points'],\n",
    "                  colors = label_colors[color_index])\n",
    "        color_index+=1\n",
    "    \n",
    "    plt.grid(visible=True, axis='y', alpha=0.3)\n",
    "    plt.title(f\"{pos} position for {manager}, 2018 Season\")\n",
    "    plt.xlabel('Week', size=12)\n",
    "    plt.ylabel('Points Scored')\n",
    "    plt.legend()\n",
    "    plt.show()"
   ]
  },
  {
   "cell_type": "code",
   "execution_count": null,
   "id": "229c37b2-00d8-4393-9a14-51545094153b",
   "metadata": {},
   "outputs": [],
   "source": []
  }
 ],
 "metadata": {
  "kernelspec": {
   "display_name": "Python 3 (ipykernel)",
   "language": "python",
   "name": "python3"
  },
  "language_info": {
   "codemirror_mode": {
    "name": "ipython",
    "version": 3
   },
   "file_extension": ".py",
   "mimetype": "text/x-python",
   "name": "python",
   "nbconvert_exporter": "python",
   "pygments_lexer": "ipython3",
   "version": "3.11.5"
  }
 },
 "nbformat": 4,
 "nbformat_minor": 5
}

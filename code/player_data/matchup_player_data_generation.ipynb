{
 "cells": [
  {
   "cell_type": "code",
   "execution_count": 1,
   "id": "db3e25bf-ed44-47e1-9370-671f6659ceba",
   "metadata": {},
   "outputs": [
    {
     "name": "stderr",
     "output_type": "stream",
     "text": [
      "[2024-01-05 09:24:14,963 INFO] [numexpr.utils.utils._init_num_threads] Note: NumExpr detected 16 cores but \"NUMEXPR_MAX_THREADS\" not set, so enforcing safe limit of 8.\n"
     ]
    }
   ],
   "source": [
    "%run common_data_setup.ipynb"
   ]
  },
  {
   "cell_type": "code",
   "execution_count": 25,
   "id": "c0128950-f71c-48e2-8004-e3e1dc4e8f32",
   "metadata": {},
   "outputs": [],
   "source": [
    "%run utils.ipynb"
   ]
  },
  {
   "cell_type": "code",
   "execution_count": 4,
   "id": "b84a6ac4-1f5a-49ac-9520-2dbeeefabced",
   "metadata": {
    "scrolled": true
   },
   "outputs": [
    {
     "name": "stderr",
     "output_type": "stream",
     "text": [
      "[2024-01-05 09:25:36,139 DEBUG] [matplotlib.__init__.wrapper] matplotlib data path: C:\\Users\\mikem\\anaconda3\\Lib\\site-packages\\matplotlib\\mpl-data\n",
      "[2024-01-05 09:25:36,147 DEBUG] [matplotlib.__init__.wrapper] CONFIGDIR=C:\\Users\\mikem\\.matplotlib\n",
      "[2024-01-05 09:25:36,149 DEBUG] [matplotlib.__init__.<module>] interactive is False\n",
      "[2024-01-05 09:25:36,150 DEBUG] [matplotlib.__init__.<module>] platform is win32\n",
      "[2024-01-05 09:25:36,328 DEBUG] [matplotlib.__init__.wrapper] CACHEDIR=C:\\Users\\mikem\\.matplotlib\n",
      "[2024-01-05 09:25:36,333 DEBUG] [matplotlib.font_manager.font_manager._load_fontmanager] Using fontManager instance from C:\\Users\\mikem\\.matplotlib\\fontlist-v330.json\n",
      "[2024-01-05 09:25:36,333 DEBUG] [matplotlib.font_manager.font_manager._load_fontmanager] Using fontManager instance from C:\\Users\\mikem\\.matplotlib\\fontlist-v330.json\n"
     ]
    }
   ],
   "source": [
    "from yfpy import Data\n",
    "from yfpy.logger import get_logger\n",
    "from yfpy.query import YahooFantasySportsQuery\n",
    "\n",
    "import pandas as pd\n",
    "import numpy as np\n",
    "import matplotlib.pyplot as plt\n",
    "\n",
    "import json"
   ]
  },
  {
   "cell_type": "code",
   "execution_count": 4,
   "id": "f25fe5dc-7a0c-4fa2-a684-79afbb1057d2",
   "metadata": {},
   "outputs": [
    {
     "data": {
      "text/plain": [
       "{'2015': 853925,\n",
       " '2016': 810238,\n",
       " '2017': 192551,\n",
       " '2018': 799346,\n",
       " '2019': 820083,\n",
       " '2020': 394682,\n",
       " '2021': 364325,\n",
       " '2022': 564704,\n",
       " '2023': 333146}"
      ]
     },
     "execution_count": 4,
     "metadata": {},
     "output_type": "execute_result"
    }
   ],
   "source": [
    "league_ids"
   ]
  },
  {
   "cell_type": "code",
   "execution_count": 5,
   "id": "b40c8597-5a59-4a9b-affc-b4006bb4f0e0",
   "metadata": {},
   "outputs": [
    {
     "data": {
      "text/html": [
       "<div>\n",
       "<style scoped>\n",
       "    .dataframe tbody tr th:only-of-type {\n",
       "        vertical-align: middle;\n",
       "    }\n",
       "\n",
       "    .dataframe tbody tr th {\n",
       "        vertical-align: top;\n",
       "    }\n",
       "\n",
       "    .dataframe thead th {\n",
       "        text-align: right;\n",
       "    }\n",
       "</style>\n",
       "<table border=\"1\" class=\"dataframe\">\n",
       "  <thead>\n",
       "    <tr style=\"text-align: right;\">\n",
       "      <th></th>\n",
       "      <th>season</th>\n",
       "      <th>code</th>\n",
       "    </tr>\n",
       "  </thead>\n",
       "  <tbody>\n",
       "    <tr>\n",
       "      <th>16</th>\n",
       "      <td>2015</td>\n",
       "      <td>348</td>\n",
       "    </tr>\n",
       "    <tr>\n",
       "      <th>17</th>\n",
       "      <td>2016</td>\n",
       "      <td>359</td>\n",
       "    </tr>\n",
       "    <tr>\n",
       "      <th>18</th>\n",
       "      <td>2017</td>\n",
       "      <td>371</td>\n",
       "    </tr>\n",
       "    <tr>\n",
       "      <th>19</th>\n",
       "      <td>2018</td>\n",
       "      <td>380</td>\n",
       "    </tr>\n",
       "    <tr>\n",
       "      <th>20</th>\n",
       "      <td>2019</td>\n",
       "      <td>390</td>\n",
       "    </tr>\n",
       "    <tr>\n",
       "      <th>21</th>\n",
       "      <td>2020</td>\n",
       "      <td>399</td>\n",
       "    </tr>\n",
       "    <tr>\n",
       "      <th>22</th>\n",
       "      <td>2021</td>\n",
       "      <td>406</td>\n",
       "    </tr>\n",
       "    <tr>\n",
       "      <th>23</th>\n",
       "      <td>2022</td>\n",
       "      <td>414</td>\n",
       "    </tr>\n",
       "    <tr>\n",
       "      <th>24</th>\n",
       "      <td>2023</td>\n",
       "      <td>423</td>\n",
       "    </tr>\n",
       "  </tbody>\n",
       "</table>\n",
       "</div>"
      ],
      "text/plain": [
       "    season  code\n",
       "16    2015   348\n",
       "17    2016   359\n",
       "18    2017   371\n",
       "19    2018   380\n",
       "20    2019   390\n",
       "21    2020   399\n",
       "22    2021   406\n",
       "23    2022   414\n",
       "24    2023   423"
      ]
     },
     "execution_count": 5,
     "metadata": {},
     "output_type": "execute_result"
    }
   ],
   "source": [
    "game_keys_df"
   ]
  },
  {
   "cell_type": "code",
   "execution_count": 56,
   "id": "512027bd-0b8f-40e8-9a93-b827a6c069bb",
   "metadata": {},
   "outputs": [],
   "source": [
    "#make initial query scoped to individual fantasy football season\n",
    "yahoo_query = YahooFantasySportsQuery(\n",
    "    auth_dir,\n",
    "    league_id=820083,\n",
    "    game_code='nfl',\n",
    "    game_id=390\n",
    ")\n",
    "\n",
    "#from the query, get teams, managers, and manger ids while cleaning residual string gunk from query\n",
    "teams = yahoo_query.get_league_teams()\n",
    "team_ids_list = []\n",
    "for team in teams:\n",
    "    team_name = str(team.name)[1:].strip(\"'\").strip('\"')\n",
    "    manager = team.managers[0].nickname\n",
    "    id = team.team_id\n",
    "    info = {'team_name': team_name, 'manager_nickname': manager, 'id': id}\n",
    "    team_ids_list.append(info)\n",
    "\n",
    "#stash team data in dataframe\n",
    "team_ids_df = pd.DataFrame(team_ids_list)"
   ]
  },
  {
   "cell_type": "code",
   "execution_count": 57,
   "id": "b2d0f925-7bbe-4f26-9e3a-b4e34eb1bea7",
   "metadata": {},
   "outputs": [
    {
     "name": "stdout",
     "output_type": "stream",
     "text": [
      "Progress through week: \n",
      "|1| |2| |3| |4| |5| |6| |7| |8| |9| |10| |11| |12| |13| |14| |15| "
     ]
    }
   ],
   "source": [
    "# establish the maximum amount of weeks the season ran (via yahoo query method)\n",
    "max_weeks = len(yahoo_query.get_game_info_by_game_id(348))\n",
    "\n",
    "# iterate through each week, then each manager by id, and generate roster points for each\n",
    "season_stats = []\n",
    "print(\"Progress through week: \")\n",
    "for week in range(1, max_weeks+1):\n",
    "    print(f\"|{week}|\", end=\" \")\n",
    "    for manager_id in team_ids_df['id']:\n",
    "        # raw player data by manager, week comes from query method\n",
    "        try: \n",
    "            week_subquery = yahoo_query.get_team_roster_player_stats_by_week(manager_id, week)\n",
    "        except:\n",
    "            print(f\"Yahoo Error occurred when making call for manager ID {manager_id}, week {week}\")\n",
    "        else:\n",
    "            # and is passed to custom method that organizes it into data we care about\n",
    "            weekly_stats = generate_roster_points_by_week(week_subquery)\n",
    "    \n",
    "            # before adding the row, add the team, manager, and week inf\n",
    "            team_name = team_ids_df.loc[team_ids_df['id'] == manager_id, 'team_name'].item()\n",
    "            weekly_stats['team_name'] = team_name\n",
    "            weekly_stats['manager'] = map_teams_to_name(team_name)\n",
    "            weekly_stats['week'] = week\n",
    "            season_stats.append(weekly_stats)\n",
    "\n",
    "#stash in a dataframe\n",
    "season_stats_df = pd.DataFrame(season_stats)"
   ]
  },
  {
   "cell_type": "code",
   "execution_count": 60,
   "id": "4b2ee99a-8c79-46af-939f-be65db034747",
   "metadata": {},
   "outputs": [
    {
     "name": "stdout",
     "output_type": "stream",
     "text": [
      "/c/Users/mikem/yahoo/yahoo-app\n"
     ]
    }
   ],
   "source": []
  },
  {
   "cell_type": "code",
   "execution_count": 61,
   "id": "bb9fa957-cabc-49e6-9bb8-2b46585baea5",
   "metadata": {},
   "outputs": [],
   "source": [
    "season_stats_df.to_csv('2019_weekly_roster_stats.csv', index=False)"
   ]
  },
  {
   "cell_type": "code",
   "execution_count": null,
   "id": "47d285ff-99b9-4682-bb9c-0fad57420cf8",
   "metadata": {},
   "outputs": [],
   "source": []
  },
  {
   "cell_type": "code",
   "execution_count": 84,
   "id": "5f9b5953-1be9-4fbc-a389-2d3f4dc3a22d",
   "metadata": {},
   "outputs": [],
   "source": []
  }
 ],
 "metadata": {
  "kernelspec": {
   "display_name": "Python 3 (ipykernel)",
   "language": "python",
   "name": "python3"
  },
  "language_info": {
   "codemirror_mode": {
    "name": "ipython",
    "version": 3
   },
   "file_extension": ".py",
   "mimetype": "text/x-python",
   "name": "python",
   "nbconvert_exporter": "python",
   "pygments_lexer": "ipython3",
   "version": "3.11.5"
  }
 },
 "nbformat": 4,
 "nbformat_minor": 5
}

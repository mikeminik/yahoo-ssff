{
 "cells": [
  {
   "cell_type": "code",
   "execution_count": 6,
   "id": "db3e25bf-ed44-47e1-9370-671f6659ceba",
   "metadata": {},
   "outputs": [
    {
     "ename": "FileNotFoundError",
     "evalue": "[Errno 2] No such file or directory: '../output/league_ids.json'",
     "output_type": "error",
     "traceback": [
      "\u001b[1;31m---------------------------------------------------------------------------\u001b[0m",
      "\u001b[1;31mFileNotFoundError\u001b[0m                         Traceback (most recent call last)",
      "File \u001b[1;32m~\\AppData\\Local\\Temp\\ipykernel_48552\\523634977.py:1\u001b[0m\n\u001b[1;32m----> 1\u001b[0m \u001b[38;5;28;01mwith\u001b[39;00m \u001b[38;5;28mopen\u001b[39m(\u001b[38;5;124mf\u001b[39m\u001b[38;5;124m'\u001b[39m\u001b[38;5;124m../output/league_ids.json\u001b[39m\u001b[38;5;124m'\u001b[39m) \u001b[38;5;28;01mas\u001b[39;00m f:\n\u001b[0;32m      2\u001b[0m     league_ids \u001b[38;5;241m=\u001b[39m json\u001b[38;5;241m.\u001b[39mload(f)\n",
      "File \u001b[1;32m~\\anaconda3\\Lib\\site-packages\\IPython\\core\\interactiveshell.py:286\u001b[0m, in \u001b[0;36m_modified_open\u001b[1;34m(file, *args, **kwargs)\u001b[0m\n\u001b[0;32m    279\u001b[0m \u001b[38;5;28;01mif\u001b[39;00m file \u001b[38;5;129;01min\u001b[39;00m {\u001b[38;5;241m0\u001b[39m, \u001b[38;5;241m1\u001b[39m, \u001b[38;5;241m2\u001b[39m}:\n\u001b[0;32m    280\u001b[0m     \u001b[38;5;28;01mraise\u001b[39;00m \u001b[38;5;167;01mValueError\u001b[39;00m(\n\u001b[0;32m    281\u001b[0m         \u001b[38;5;124mf\u001b[39m\u001b[38;5;124m\"\u001b[39m\u001b[38;5;124mIPython won\u001b[39m\u001b[38;5;124m'\u001b[39m\u001b[38;5;124mt let you open fd=\u001b[39m\u001b[38;5;132;01m{\u001b[39;00mfile\u001b[38;5;132;01m}\u001b[39;00m\u001b[38;5;124m by default \u001b[39m\u001b[38;5;124m\"\u001b[39m\n\u001b[0;32m    282\u001b[0m         \u001b[38;5;124m\"\u001b[39m\u001b[38;5;124mas it is likely to crash IPython. If you know what you are doing, \u001b[39m\u001b[38;5;124m\"\u001b[39m\n\u001b[0;32m    283\u001b[0m         \u001b[38;5;124m\"\u001b[39m\u001b[38;5;124myou can use builtins\u001b[39m\u001b[38;5;124m'\u001b[39m\u001b[38;5;124m open.\u001b[39m\u001b[38;5;124m\"\u001b[39m\n\u001b[0;32m    284\u001b[0m     )\n\u001b[1;32m--> 286\u001b[0m \u001b[38;5;28;01mreturn\u001b[39;00m io_open(file, \u001b[38;5;241m*\u001b[39margs, \u001b[38;5;241m*\u001b[39m\u001b[38;5;241m*\u001b[39mkwargs)\n",
      "\u001b[1;31mFileNotFoundError\u001b[0m: [Errno 2] No such file or directory: '../output/league_ids.json'"
     ]
    },
    {
     "ename": "FileNotFoundError",
     "evalue": "[Errno 2] No such file or directory: '../output/league_ids.json'",
     "output_type": "error",
     "traceback": [
      "\u001b[1;31m---------------------------------------------------------------------------\u001b[0m",
      "\u001b[1;31mFileNotFoundError\u001b[0m                         Traceback (most recent call last)",
      "Cell \u001b[1;32mIn[6], line 1\u001b[0m\n\u001b[1;32m----> 1\u001b[0m get_ipython()\u001b[38;5;241m.\u001b[39mrun_line_magic(\u001b[38;5;124m'\u001b[39m\u001b[38;5;124mrun\u001b[39m\u001b[38;5;124m'\u001b[39m, \u001b[38;5;124m'\u001b[39m\u001b[38;5;124m../common_data_setup.ipynb\u001b[39m\u001b[38;5;124m'\u001b[39m)\n",
      "File \u001b[1;32m~\\anaconda3\\Lib\\site-packages\\IPython\\core\\interactiveshell.py:2432\u001b[0m, in \u001b[0;36mInteractiveShell.run_line_magic\u001b[1;34m(self, magic_name, line, _stack_depth)\u001b[0m\n\u001b[0;32m   2430\u001b[0m     kwargs[\u001b[38;5;124m'\u001b[39m\u001b[38;5;124mlocal_ns\u001b[39m\u001b[38;5;124m'\u001b[39m] \u001b[38;5;241m=\u001b[39m \u001b[38;5;28mself\u001b[39m\u001b[38;5;241m.\u001b[39mget_local_scope(stack_depth)\n\u001b[0;32m   2431\u001b[0m \u001b[38;5;28;01mwith\u001b[39;00m \u001b[38;5;28mself\u001b[39m\u001b[38;5;241m.\u001b[39mbuiltin_trap:\n\u001b[1;32m-> 2432\u001b[0m     result \u001b[38;5;241m=\u001b[39m fn(\u001b[38;5;241m*\u001b[39margs, \u001b[38;5;241m*\u001b[39m\u001b[38;5;241m*\u001b[39mkwargs)\n\u001b[0;32m   2434\u001b[0m \u001b[38;5;66;03m# The code below prevents the output from being displayed\u001b[39;00m\n\u001b[0;32m   2435\u001b[0m \u001b[38;5;66;03m# when using magics with decorator @output_can_be_silenced\u001b[39;00m\n\u001b[0;32m   2436\u001b[0m \u001b[38;5;66;03m# when the last Python token in the expression is a ';'.\u001b[39;00m\n\u001b[0;32m   2437\u001b[0m \u001b[38;5;28;01mif\u001b[39;00m \u001b[38;5;28mgetattr\u001b[39m(fn, magic\u001b[38;5;241m.\u001b[39mMAGIC_OUTPUT_CAN_BE_SILENCED, \u001b[38;5;28;01mFalse\u001b[39;00m):\n",
      "File \u001b[1;32m~\\anaconda3\\Lib\\site-packages\\IPython\\core\\magics\\execution.py:737\u001b[0m, in \u001b[0;36mExecutionMagics.run\u001b[1;34m(self, parameter_s, runner, file_finder)\u001b[0m\n\u001b[0;32m    735\u001b[0m     \u001b[38;5;28;01mwith\u001b[39;00m preserve_keys(\u001b[38;5;28mself\u001b[39m\u001b[38;5;241m.\u001b[39mshell\u001b[38;5;241m.\u001b[39muser_ns, \u001b[38;5;124m'\u001b[39m\u001b[38;5;124m__file__\u001b[39m\u001b[38;5;124m'\u001b[39m):\n\u001b[0;32m    736\u001b[0m         \u001b[38;5;28mself\u001b[39m\u001b[38;5;241m.\u001b[39mshell\u001b[38;5;241m.\u001b[39muser_ns[\u001b[38;5;124m'\u001b[39m\u001b[38;5;124m__file__\u001b[39m\u001b[38;5;124m'\u001b[39m] \u001b[38;5;241m=\u001b[39m filename\n\u001b[1;32m--> 737\u001b[0m         \u001b[38;5;28mself\u001b[39m\u001b[38;5;241m.\u001b[39mshell\u001b[38;5;241m.\u001b[39msafe_execfile_ipy(filename, raise_exceptions\u001b[38;5;241m=\u001b[39m\u001b[38;5;28;01mTrue\u001b[39;00m)\n\u001b[0;32m    738\u001b[0m     \u001b[38;5;28;01mreturn\u001b[39;00m\n\u001b[0;32m    740\u001b[0m \u001b[38;5;66;03m# Control the response to exit() calls made by the script being run\u001b[39;00m\n",
      "File \u001b[1;32m~\\anaconda3\\Lib\\site-packages\\IPython\\core\\interactiveshell.py:2954\u001b[0m, in \u001b[0;36mInteractiveShell.safe_execfile_ipy\u001b[1;34m(self, fname, shell_futures, raise_exceptions)\u001b[0m\n\u001b[0;32m   2952\u001b[0m result \u001b[38;5;241m=\u001b[39m \u001b[38;5;28mself\u001b[39m\u001b[38;5;241m.\u001b[39mrun_cell(cell, silent\u001b[38;5;241m=\u001b[39m\u001b[38;5;28;01mTrue\u001b[39;00m, shell_futures\u001b[38;5;241m=\u001b[39mshell_futures)\n\u001b[0;32m   2953\u001b[0m \u001b[38;5;28;01mif\u001b[39;00m raise_exceptions:\n\u001b[1;32m-> 2954\u001b[0m     result\u001b[38;5;241m.\u001b[39mraise_error()\n\u001b[0;32m   2955\u001b[0m \u001b[38;5;28;01melif\u001b[39;00m \u001b[38;5;129;01mnot\u001b[39;00m result\u001b[38;5;241m.\u001b[39msuccess:\n\u001b[0;32m   2956\u001b[0m     \u001b[38;5;28;01mbreak\u001b[39;00m\n",
      "File \u001b[1;32m~\\anaconda3\\Lib\\site-packages\\IPython\\core\\interactiveshell.py:270\u001b[0m, in \u001b[0;36mExecutionResult.raise_error\u001b[1;34m(self)\u001b[0m\n\u001b[0;32m    268\u001b[0m     \u001b[38;5;28;01mraise\u001b[39;00m \u001b[38;5;28mself\u001b[39m\u001b[38;5;241m.\u001b[39merror_before_exec\n\u001b[0;32m    269\u001b[0m \u001b[38;5;28;01mif\u001b[39;00m \u001b[38;5;28mself\u001b[39m\u001b[38;5;241m.\u001b[39merror_in_exec \u001b[38;5;129;01mis\u001b[39;00m \u001b[38;5;129;01mnot\u001b[39;00m \u001b[38;5;28;01mNone\u001b[39;00m:\n\u001b[1;32m--> 270\u001b[0m     \u001b[38;5;28;01mraise\u001b[39;00m \u001b[38;5;28mself\u001b[39m\u001b[38;5;241m.\u001b[39merror_in_exec\n",
      "    \u001b[1;31m[... skipping hidden 1 frame]\u001b[0m\n",
      "File \u001b[1;32m~\\AppData\\Local\\Temp\\ipykernel_48552\\523634977.py:1\u001b[0m\n\u001b[1;32m----> 1\u001b[0m \u001b[38;5;28;01mwith\u001b[39;00m \u001b[38;5;28mopen\u001b[39m(\u001b[38;5;124mf\u001b[39m\u001b[38;5;124m'\u001b[39m\u001b[38;5;124m../output/league_ids.json\u001b[39m\u001b[38;5;124m'\u001b[39m) \u001b[38;5;28;01mas\u001b[39;00m f:\n\u001b[0;32m      2\u001b[0m     league_ids \u001b[38;5;241m=\u001b[39m json\u001b[38;5;241m.\u001b[39mload(f)\n",
      "File \u001b[1;32m~\\anaconda3\\Lib\\site-packages\\IPython\\core\\interactiveshell.py:286\u001b[0m, in \u001b[0;36m_modified_open\u001b[1;34m(file, *args, **kwargs)\u001b[0m\n\u001b[0;32m    279\u001b[0m \u001b[38;5;28;01mif\u001b[39;00m file \u001b[38;5;129;01min\u001b[39;00m {\u001b[38;5;241m0\u001b[39m, \u001b[38;5;241m1\u001b[39m, \u001b[38;5;241m2\u001b[39m}:\n\u001b[0;32m    280\u001b[0m     \u001b[38;5;28;01mraise\u001b[39;00m \u001b[38;5;167;01mValueError\u001b[39;00m(\n\u001b[0;32m    281\u001b[0m         \u001b[38;5;124mf\u001b[39m\u001b[38;5;124m\"\u001b[39m\u001b[38;5;124mIPython won\u001b[39m\u001b[38;5;124m'\u001b[39m\u001b[38;5;124mt let you open fd=\u001b[39m\u001b[38;5;132;01m{\u001b[39;00mfile\u001b[38;5;132;01m}\u001b[39;00m\u001b[38;5;124m by default \u001b[39m\u001b[38;5;124m\"\u001b[39m\n\u001b[0;32m    282\u001b[0m         \u001b[38;5;124m\"\u001b[39m\u001b[38;5;124mas it is likely to crash IPython. If you know what you are doing, \u001b[39m\u001b[38;5;124m\"\u001b[39m\n\u001b[0;32m    283\u001b[0m         \u001b[38;5;124m\"\u001b[39m\u001b[38;5;124myou can use builtins\u001b[39m\u001b[38;5;124m'\u001b[39m\u001b[38;5;124m open.\u001b[39m\u001b[38;5;124m\"\u001b[39m\n\u001b[0;32m    284\u001b[0m     )\n\u001b[1;32m--> 286\u001b[0m \u001b[38;5;28;01mreturn\u001b[39;00m io_open(file, \u001b[38;5;241m*\u001b[39margs, \u001b[38;5;241m*\u001b[39m\u001b[38;5;241m*\u001b[39mkwargs)\n",
      "\u001b[1;31mFileNotFoundError\u001b[0m: [Errno 2] No such file or directory: '../output/league_ids.json'"
     ]
    }
   ],
   "source": [
    "%run ../common_data_setup.ipynb"
   ]
  },
  {
   "cell_type": "code",
   "execution_count": 7,
   "id": "c0128950-f71c-48e2-8004-e3e1dc4e8f32",
   "metadata": {},
   "outputs": [],
   "source": [
    "%run ../utils.ipynb"
   ]
  },
  {
   "cell_type": "code",
   "execution_count": 11,
   "id": "b84a6ac4-1f5a-49ac-9520-2dbeeefabced",
   "metadata": {
    "scrolled": true
   },
   "outputs": [],
   "source": [
    "import os\n",
    "import sys\n",
    "\n",
    "from yfpy import Data\n",
    "from yfpy.logger import get_logger\n",
    "from yfpy.query import YahooFantasySportsQuery\n",
    "\n",
    "import pandas as pd\n",
    "import numpy as np\n",
    "import matplotlib.pyplot as plt\n",
    "\n",
    "import json"
   ]
  },
  {
   "cell_type": "markdown",
   "id": "b6a45485-beac-4649-b0ed-05a508fa0c61",
   "metadata": {},
   "source": [
    "### Environment variables"
   ]
  },
  {
   "cell_type": "code",
   "execution_count": 21,
   "id": "d4d61934-034d-4f13-aecd-27a4e0eb48c7",
   "metadata": {},
   "outputs": [],
   "source": [
    "project_dir = os.path.abspath('../..')"
   ]
  },
  {
   "cell_type": "code",
   "execution_count": 22,
   "id": "4feb4442-f63e-4774-a3c8-f609dd1d1e7d",
   "metadata": {},
   "outputs": [],
   "source": [
    "if not sys.path[0] == project_dir:\n",
    "    sys.path.insert(0, str(project_dir))"
   ]
  },
  {
   "cell_type": "code",
   "execution_count": 23,
   "id": "e9b93e13-5d4c-4723-815d-7be308a40aa1",
   "metadata": {},
   "outputs": [
    {
     "data": {
      "text/plain": [
       "True"
      ]
     },
     "execution_count": 23,
     "metadata": {},
     "output_type": "execute_result"
    }
   ],
   "source": [
    "load_dotenv(dotenv_path=f\"{project_dir}/auth/.env\")"
   ]
  },
  {
   "cell_type": "markdown",
   "id": "e0c942c3-420c-4e53-b1ea-a6e998637afe",
   "metadata": {},
   "source": [
    "### Set directories"
   ]
  },
  {
   "cell_type": "code",
   "execution_count": 24,
   "id": "0ec88f62-dee1-4577-abde-a5542415cfad",
   "metadata": {},
   "outputs": [],
   "source": [
    "auth_dir = f\"{project_dir}/auth\""
   ]
  },
  {
   "cell_type": "code",
   "execution_count": 25,
   "id": "fb5b099c-1ad4-4024-ad04-a61de3d50d39",
   "metadata": {},
   "outputs": [],
   "source": [
    "data_dir = f\"{project_dir}/data\""
   ]
  },
  {
   "cell_type": "code",
   "execution_count": 26,
   "id": "ea30941f-149b-4175-8f2a-3341483b322a",
   "metadata": {},
   "outputs": [],
   "source": [
    "yfpy_data_dir = f\"{project_dir}/output\""
   ]
  },
  {
   "cell_type": "code",
   "execution_count": 27,
   "id": "5d6966e5-ec69-45b0-841b-205a683ec646",
   "metadata": {},
   "outputs": [],
   "source": [
    "data = Data(yfpy_data_dir)"
   ]
  },
  {
   "cell_type": "code",
   "execution_count": 4,
   "id": "f25fe5dc-7a0c-4fa2-a684-79afbb1057d2",
   "metadata": {},
   "outputs": [
    {
     "data": {
      "text/plain": [
       "{'2015': 853925,\n",
       " '2016': 810238,\n",
       " '2017': 192551,\n",
       " '2018': 799346,\n",
       " '2019': 820083,\n",
       " '2020': 394682,\n",
       " '2021': 364325,\n",
       " '2022': 564704,\n",
       " '2023': 333146}"
      ]
     },
     "execution_count": 4,
     "metadata": {},
     "output_type": "execute_result"
    }
   ],
   "source": [
    "league_ids"
   ]
  },
  {
   "cell_type": "code",
   "execution_count": 5,
   "id": "b40c8597-5a59-4a9b-affc-b4006bb4f0e0",
   "metadata": {},
   "outputs": [
    {
     "data": {
      "text/html": [
       "<div>\n",
       "<style scoped>\n",
       "    .dataframe tbody tr th:only-of-type {\n",
       "        vertical-align: middle;\n",
       "    }\n",
       "\n",
       "    .dataframe tbody tr th {\n",
       "        vertical-align: top;\n",
       "    }\n",
       "\n",
       "    .dataframe thead th {\n",
       "        text-align: right;\n",
       "    }\n",
       "</style>\n",
       "<table border=\"1\" class=\"dataframe\">\n",
       "  <thead>\n",
       "    <tr style=\"text-align: right;\">\n",
       "      <th></th>\n",
       "      <th>season</th>\n",
       "      <th>code</th>\n",
       "    </tr>\n",
       "  </thead>\n",
       "  <tbody>\n",
       "    <tr>\n",
       "      <th>16</th>\n",
       "      <td>2015</td>\n",
       "      <td>348</td>\n",
       "    </tr>\n",
       "    <tr>\n",
       "      <th>17</th>\n",
       "      <td>2016</td>\n",
       "      <td>359</td>\n",
       "    </tr>\n",
       "    <tr>\n",
       "      <th>18</th>\n",
       "      <td>2017</td>\n",
       "      <td>371</td>\n",
       "    </tr>\n",
       "    <tr>\n",
       "      <th>19</th>\n",
       "      <td>2018</td>\n",
       "      <td>380</td>\n",
       "    </tr>\n",
       "    <tr>\n",
       "      <th>20</th>\n",
       "      <td>2019</td>\n",
       "      <td>390</td>\n",
       "    </tr>\n",
       "    <tr>\n",
       "      <th>21</th>\n",
       "      <td>2020</td>\n",
       "      <td>399</td>\n",
       "    </tr>\n",
       "    <tr>\n",
       "      <th>22</th>\n",
       "      <td>2021</td>\n",
       "      <td>406</td>\n",
       "    </tr>\n",
       "    <tr>\n",
       "      <th>23</th>\n",
       "      <td>2022</td>\n",
       "      <td>414</td>\n",
       "    </tr>\n",
       "    <tr>\n",
       "      <th>24</th>\n",
       "      <td>2023</td>\n",
       "      <td>423</td>\n",
       "    </tr>\n",
       "  </tbody>\n",
       "</table>\n",
       "</div>"
      ],
      "text/plain": [
       "    season  code\n",
       "16    2015   348\n",
       "17    2016   359\n",
       "18    2017   371\n",
       "19    2018   380\n",
       "20    2019   390\n",
       "21    2020   399\n",
       "22    2021   406\n",
       "23    2022   414\n",
       "24    2023   423"
      ]
     },
     "execution_count": 5,
     "metadata": {},
     "output_type": "execute_result"
    }
   ],
   "source": [
    "game_keys_df"
   ]
  },
  {
   "cell_type": "code",
   "execution_count": 34,
   "id": "512027bd-0b8f-40e8-9a93-b827a6c069bb",
   "metadata": {},
   "outputs": [
    {
     "ename": "HTTPError",
     "evalue": "Yahoo data unavailable due to rate limiting. Please try again later.",
     "output_type": "error",
     "traceback": [
      "\u001b[1;31m---------------------------------------------------------------------------\u001b[0m",
      "\u001b[1;31mHTTPError\u001b[0m                                 Traceback (most recent call last)",
      "Cell \u001b[1;32mIn[34], line 10\u001b[0m\n\u001b[0;32m      2\u001b[0m yahoo_query \u001b[38;5;241m=\u001b[39m YahooFantasySportsQuery(\n\u001b[0;32m      3\u001b[0m     auth_dir,\n\u001b[0;32m      4\u001b[0m     league_id\u001b[38;5;241m=\u001b[39m\u001b[38;5;241m364325\u001b[39m,\n\u001b[0;32m      5\u001b[0m     game_code\u001b[38;5;241m=\u001b[39m\u001b[38;5;124m'\u001b[39m\u001b[38;5;124mnfl\u001b[39m\u001b[38;5;124m'\u001b[39m,\n\u001b[0;32m      6\u001b[0m     game_id\u001b[38;5;241m=\u001b[39m\u001b[38;5;241m406\u001b[39m\n\u001b[0;32m      7\u001b[0m )\n\u001b[0;32m      9\u001b[0m \u001b[38;5;66;03m#from the query, get teams, managers, and manger ids while cleaning residual string gunk from query\u001b[39;00m\n\u001b[1;32m---> 10\u001b[0m teams \u001b[38;5;241m=\u001b[39m yahoo_query\u001b[38;5;241m.\u001b[39mget_league_teams()\n\u001b[0;32m     11\u001b[0m team_ids_list \u001b[38;5;241m=\u001b[39m []\n\u001b[0;32m     12\u001b[0m \u001b[38;5;28;01mfor\u001b[39;00m team \u001b[38;5;129;01min\u001b[39;00m teams:\n",
      "File \u001b[1;32m~\\anaconda3\\Lib\\site-packages\\yfpy\\query.py:1305\u001b[0m, in \u001b[0;36mYahooFantasySportsQuery.get_league_teams\u001b[1;34m(self)\u001b[0m\n\u001b[0;32m   1253\u001b[0m \u001b[38;5;28;01mdef\u001b[39;00m \u001b[38;5;21mget_league_teams\u001b[39m(\u001b[38;5;28mself\u001b[39m) \u001b[38;5;241m-\u001b[39m\u001b[38;5;241m>\u001b[39m List[Team]:\n\u001b[0;32m   1254\u001b[0m \u001b[38;5;250m    \u001b[39m\u001b[38;5;124;03m\"\"\"Retrieve teams for chosen league.\u001b[39;00m\n\u001b[0;32m   1255\u001b[0m \n\u001b[0;32m   1256\u001b[0m \u001b[38;5;124;03m    Examples:\u001b[39;00m\n\u001b[1;32m   (...)\u001b[0m\n\u001b[0;32m   1302\u001b[0m \n\u001b[0;32m   1303\u001b[0m \u001b[38;5;124;03m    \"\"\"\u001b[39;00m\n\u001b[0;32m   1304\u001b[0m     \u001b[38;5;28;01mreturn\u001b[39;00m \u001b[38;5;28mself\u001b[39m\u001b[38;5;241m.\u001b[39mquery(\n\u001b[1;32m-> 1305\u001b[0m         \u001b[38;5;124mf\u001b[39m\u001b[38;5;124m\"\u001b[39m\u001b[38;5;124mhttps://fantasysports.yahooapis.com/fantasy/v2/league/\u001b[39m\u001b[38;5;132;01m{\u001b[39;00m\u001b[38;5;28mself\u001b[39m\u001b[38;5;241m.\u001b[39mget_league_key()\u001b[38;5;132;01m}\u001b[39;00m\u001b[38;5;124m/teams\u001b[39m\u001b[38;5;124m\"\u001b[39m,\n\u001b[0;32m   1306\u001b[0m         [\u001b[38;5;124m\"\u001b[39m\u001b[38;5;124mleague\u001b[39m\u001b[38;5;124m\"\u001b[39m, \u001b[38;5;124m\"\u001b[39m\u001b[38;5;124mteams\u001b[39m\u001b[38;5;124m\"\u001b[39m]\n\u001b[0;32m   1307\u001b[0m     )\n",
      "File \u001b[1;32m~\\anaconda3\\Lib\\site-packages\\yfpy\\query.py:775\u001b[0m, in \u001b[0;36mYahooFantasySportsQuery.get_league_key\u001b[1;34m(self, season)\u001b[0m\n\u001b[0;32m    773\u001b[0m     \u001b[38;5;28;01mreturn\u001b[39;00m \u001b[38;5;124mf\u001b[39m\u001b[38;5;124m\"\u001b[39m\u001b[38;5;132;01m{\u001b[39;00m\u001b[38;5;28mself\u001b[39m\u001b[38;5;241m.\u001b[39mget_game_key_by_season(season)\u001b[38;5;132;01m}\u001b[39;00m\u001b[38;5;124m.l.\u001b[39m\u001b[38;5;132;01m{\u001b[39;00m\u001b[38;5;28mself\u001b[39m\u001b[38;5;241m.\u001b[39mleague_id\u001b[38;5;132;01m}\u001b[39;00m\u001b[38;5;124m\"\u001b[39m\n\u001b[0;32m    774\u001b[0m \u001b[38;5;28;01melif\u001b[39;00m \u001b[38;5;28mself\u001b[39m\u001b[38;5;241m.\u001b[39mgame_id:\n\u001b[1;32m--> 775\u001b[0m     \u001b[38;5;28;01mreturn\u001b[39;00m \u001b[38;5;124mf\u001b[39m\u001b[38;5;124m\"\u001b[39m\u001b[38;5;132;01m{\u001b[39;00m\u001b[38;5;28mself\u001b[39m\u001b[38;5;241m.\u001b[39mget_game_metadata_by_game_id(\u001b[38;5;28mself\u001b[39m\u001b[38;5;241m.\u001b[39mgame_id)\u001b[38;5;241m.\u001b[39mgame_key\u001b[38;5;132;01m}\u001b[39;00m\u001b[38;5;124m.l.\u001b[39m\u001b[38;5;132;01m{\u001b[39;00m\u001b[38;5;28mself\u001b[39m\u001b[38;5;241m.\u001b[39mleague_id\u001b[38;5;132;01m}\u001b[39;00m\u001b[38;5;124m\"\u001b[39m\n\u001b[0;32m    776\u001b[0m \u001b[38;5;28;01melse\u001b[39;00m:\n\u001b[0;32m    777\u001b[0m     logger\u001b[38;5;241m.\u001b[39mwarning(\n\u001b[0;32m    778\u001b[0m         \u001b[38;5;124m\"\u001b[39m\u001b[38;5;124mNo game id or season/year provided, defaulting to current fantasy season.\u001b[39m\u001b[38;5;124m\"\u001b[39m)\n",
      "File \u001b[1;32m~\\anaconda3\\Lib\\site-packages\\yfpy\\query.py:604\u001b[0m, in \u001b[0;36mYahooFantasySportsQuery.get_game_metadata_by_game_id\u001b[1;34m(self, game_id)\u001b[0m\n\u001b[0;32m    576\u001b[0m \u001b[38;5;28;01mdef\u001b[39;00m \u001b[38;5;21mget_game_metadata_by_game_id\u001b[39m(\u001b[38;5;28mself\u001b[39m, game_id: \u001b[38;5;28mint\u001b[39m) \u001b[38;5;241m-\u001b[39m\u001b[38;5;241m>\u001b[39m Game:\n\u001b[0;32m    577\u001b[0m \u001b[38;5;250m    \u001b[39m\u001b[38;5;124;03m\"\"\"Retrieve game metadata for specific game by ID.\u001b[39;00m\n\u001b[0;32m    578\u001b[0m \n\u001b[0;32m    579\u001b[0m \u001b[38;5;124;03m    Args:\u001b[39;00m\n\u001b[1;32m   (...)\u001b[0m\n\u001b[0;32m    602\u001b[0m \n\u001b[0;32m    603\u001b[0m \u001b[38;5;124;03m    \"\"\"\u001b[39;00m\n\u001b[1;32m--> 604\u001b[0m     \u001b[38;5;28;01mreturn\u001b[39;00m \u001b[38;5;28mself\u001b[39m\u001b[38;5;241m.\u001b[39mquery(\n\u001b[0;32m    605\u001b[0m         \u001b[38;5;124mf\u001b[39m\u001b[38;5;124m\"\u001b[39m\u001b[38;5;124mhttps://fantasysports.yahooapis.com/fantasy/v2/game/\u001b[39m\u001b[38;5;132;01m{\u001b[39;00mgame_id\u001b[38;5;132;01m}\u001b[39;00m\u001b[38;5;124m/metadata\u001b[39m\u001b[38;5;124m\"\u001b[39m,\n\u001b[0;32m    606\u001b[0m         [\u001b[38;5;124m\"\u001b[39m\u001b[38;5;124mgame\u001b[39m\u001b[38;5;124m\"\u001b[39m],\n\u001b[0;32m    607\u001b[0m         Game\n\u001b[0;32m    608\u001b[0m     )\n",
      "File \u001b[1;32m~\\anaconda3\\Lib\\site-packages\\yfpy\\query.py:263\u001b[0m, in \u001b[0;36mYahooFantasySportsQuery.query\u001b[1;34m(self, url, data_key_list, data_type_class, sort_function)\u001b[0m\n\u001b[0;32m    244\u001b[0m \u001b[38;5;250m\u001b[39m\u001b[38;5;124;03m\"\"\"Base query class to retrieve requested data from the Yahoo fantasy sports REST API.\u001b[39;00m\n\u001b[0;32m    245\u001b[0m \n\u001b[0;32m    246\u001b[0m \u001b[38;5;124;03mArgs:\u001b[39;00m\n\u001b[1;32m   (...)\u001b[0m\n\u001b[0;32m    260\u001b[0m \n\u001b[0;32m    261\u001b[0m \u001b[38;5;124;03m\"\"\"\u001b[39;00m\n\u001b[0;32m    262\u001b[0m \u001b[38;5;28;01mif\u001b[39;00m \u001b[38;5;129;01mnot\u001b[39;00m \u001b[38;5;28mself\u001b[39m\u001b[38;5;241m.\u001b[39moffline:\n\u001b[1;32m--> 263\u001b[0m     response \u001b[38;5;241m=\u001b[39m \u001b[38;5;28mself\u001b[39m\u001b[38;5;241m.\u001b[39mget_response(url)\n\u001b[0;32m    264\u001b[0m     raw_response_data \u001b[38;5;241m=\u001b[39m response\u001b[38;5;241m.\u001b[39mjson()\u001b[38;5;241m.\u001b[39mget(\u001b[38;5;28mself\u001b[39m\u001b[38;5;241m.\u001b[39mfantasy_content_data_field)\n\u001b[0;32m    266\u001b[0m     \u001b[38;5;66;03m# iterate through list of data keys and drill down to final desired data field\u001b[39;00m\n",
      "File \u001b[1;32m~\\anaconda3\\Lib\\site-packages\\yfpy\\query.py:186\u001b[0m, in \u001b[0;36mYahooFantasySportsQuery.get_response\u001b[1;34m(self, url)\u001b[0m\n\u001b[0;32m    184\u001b[0m \u001b[38;5;66;03m# when you exceed Yahoo's allowed data request limits, they throw a request status code of 999\u001b[39;00m\n\u001b[0;32m    185\u001b[0m \u001b[38;5;28;01mif\u001b[39;00m status_code \u001b[38;5;241m==\u001b[39m \u001b[38;5;241m999\u001b[39m:\n\u001b[1;32m--> 186\u001b[0m     \u001b[38;5;28;01mraise\u001b[39;00m HTTPError(\u001b[38;5;124m\"\u001b[39m\u001b[38;5;124mYahoo data unavailable due to rate limiting. Please try again later.\u001b[39m\u001b[38;5;124m\"\u001b[39m)\n\u001b[0;32m    188\u001b[0m \u001b[38;5;28;01mif\u001b[39;00m status_code \u001b[38;5;241m==\u001b[39m \u001b[38;5;241m401\u001b[39m:\n\u001b[0;32m    189\u001b[0m     \u001b[38;5;28mself\u001b[39m\u001b[38;5;241m.\u001b[39m_authenticate()\n",
      "\u001b[1;31mHTTPError\u001b[0m: Yahoo data unavailable due to rate limiting. Please try again later."
     ]
    }
   ],
   "source": [
    "#make initial query scoped to individual fantasy football season\n",
    "yahoo_query = YahooFantasySportsQuery(\n",
    "    auth_dir,\n",
    "    league_id=364325,\n",
    "    game_code='nfl',\n",
    "    game_id=406\n",
    ")\n",
    "\n",
    "#from the query, get teams, managers, and manger ids while cleaning residual string gunk from query\n",
    "teams = yahoo_query.get_league_teams()\n",
    "team_ids_list = []\n",
    "for team in teams:\n",
    "    team_name = str(team.name)[1:].strip(\"'\").strip('\"')\n",
    "    manager = team.managers[0].nickname\n",
    "    id = team.team_id\n",
    "    info = {'team_name': team_name, 'manager_nickname': manager, 'id': id}\n",
    "    team_ids_list.append(info)\n",
    "\n",
    "#stash team data in dataframe\n",
    "team_ids_df = pd.DataFrame(team_ids_list)"
   ]
  },
  {
   "cell_type": "code",
   "execution_count": 33,
   "id": "b2d0f925-7bbe-4f26-9e3a-b4e34eb1bea7",
   "metadata": {},
   "outputs": [
    {
     "name": "stdout",
     "output_type": "stream",
     "text": [
      "Progress through week: \n",
      "|1| |2| |3| |4| |5| |6| |7| |8| |9| |10| |11| |12| |13| Yahoo Error occurred when making call for manager ID 12, week 13\n",
      "Yahoo Error occurred when making call for manager ID 13, week 13\n",
      "Yahoo Error occurred when making call for manager ID 14, week 13\n",
      "|14| Yahoo Error occurred when making call for manager ID 1, week 14\n",
      "Yahoo Error occurred when making call for manager ID 2, week 14\n",
      "Yahoo Error occurred when making call for manager ID 3, week 14\n",
      "Yahoo Error occurred when making call for manager ID 4, week 14\n",
      "Yahoo Error occurred when making call for manager ID 5, week 14\n",
      "Yahoo Error occurred when making call for manager ID 6, week 14\n",
      "Yahoo Error occurred when making call for manager ID 7, week 14\n",
      "Yahoo Error occurred when making call for manager ID 8, week 14\n",
      "Yahoo Error occurred when making call for manager ID 9, week 14\n",
      "Yahoo Error occurred when making call for manager ID 10, week 14\n",
      "Yahoo Error occurred when making call for manager ID 11, week 14\n",
      "Yahoo Error occurred when making call for manager ID 12, week 14\n",
      "Yahoo Error occurred when making call for manager ID 13, week 14\n",
      "Yahoo Error occurred when making call for manager ID 14, week 14\n",
      "|15| Yahoo Error occurred when making call for manager ID 1, week 15\n",
      "Yahoo Error occurred when making call for manager ID 2, week 15\n",
      "Yahoo Error occurred when making call for manager ID 3, week 15\n",
      "Yahoo Error occurred when making call for manager ID 4, week 15\n",
      "Yahoo Error occurred when making call for manager ID 5, week 15\n",
      "Yahoo Error occurred when making call for manager ID 6, week 15\n",
      "Yahoo Error occurred when making call for manager ID 7, week 15\n",
      "Yahoo Error occurred when making call for manager ID 8, week 15\n",
      "Yahoo Error occurred when making call for manager ID 9, week 15\n",
      "Yahoo Error occurred when making call for manager ID 10, week 15\n",
      "Yahoo Error occurred when making call for manager ID 11, week 15\n",
      "Yahoo Error occurred when making call for manager ID 12, week 15\n",
      "Yahoo Error occurred when making call for manager ID 13, week 15\n",
      "Yahoo Error occurred when making call for manager ID 14, week 15\n"
     ]
    }
   ],
   "source": [
    "# establish the maximum amount of weeks the season ran (via yahoo query method)\n",
    "max_weeks = len(yahoo_query.get_game_info_by_game_id(348))\n",
    "\n",
    "# iterate through each week, then each manager by id, and generate roster points for each\n",
    "season_stats = []\n",
    "print(\"Progress through week: \")\n",
    "for week in range(1, max_weeks+1):\n",
    "    print(f\"|{week}|\", end=\" \")\n",
    "    for manager_id in team_ids_df['id']:\n",
    "        # raw player data by manager, week comes from query method\n",
    "        try: \n",
    "            week_subquery = yahoo_query.get_team_roster_player_stats_by_week(manager_id, week)\n",
    "        except:\n",
    "            print(f\"Yahoo Error occurred when making call for manager ID {manager_id}, week {week}\")\n",
    "        else:\n",
    "            # and is passed to custom method that organizes it into data we care about\n",
    "            weekly_stats = generate_roster_points_by_week(week_subquery)\n",
    "    \n",
    "            # before adding the row, add the team, manager, and week inf\n",
    "            team_name = team_ids_df.loc[team_ids_df['id'] == manager_id, 'team_name'].item()\n",
    "            weekly_stats['team_name'] = team_name\n",
    "            weekly_stats['manager'] = map_teams_to_name(team_name)\n",
    "            weekly_stats['week'] = week\n",
    "            season_stats.append(weekly_stats)\n",
    "\n",
    "#stash in a dataframe\n",
    "season_stats_df = pd.DataFrame(season_stats)"
   ]
  },
  {
   "cell_type": "code",
   "execution_count": 60,
   "id": "4b2ee99a-8c79-46af-939f-be65db034747",
   "metadata": {},
   "outputs": [
    {
     "name": "stdout",
     "output_type": "stream",
     "text": [
      "/c/Users/mikem/yahoo/yahoo-app\n"
     ]
    }
   ],
   "source": []
  },
  {
   "cell_type": "code",
   "execution_count": 31,
   "id": "bb9fa957-cabc-49e6-9bb8-2b46585baea5",
   "metadata": {},
   "outputs": [],
   "source": [
    "season_stats_df.to_csv('2020_weekly_roster_stats.csv', index=False)"
   ]
  },
  {
   "cell_type": "code",
   "execution_count": null,
   "id": "47d285ff-99b9-4682-bb9c-0fad57420cf8",
   "metadata": {},
   "outputs": [],
   "source": []
  },
  {
   "cell_type": "code",
   "execution_count": 84,
   "id": "5f9b5953-1be9-4fbc-a389-2d3f4dc3a22d",
   "metadata": {},
   "outputs": [],
   "source": []
  }
 ],
 "metadata": {
  "kernelspec": {
   "display_name": "Python 3 (ipykernel)",
   "language": "python",
   "name": "python3"
  },
  "language_info": {
   "codemirror_mode": {
    "name": "ipython",
    "version": 3
   },
   "file_extension": ".py",
   "mimetype": "text/x-python",
   "name": "python",
   "nbconvert_exporter": "python",
   "pygments_lexer": "ipython3",
   "version": "3.11.5"
  }
 },
 "nbformat": 4,
 "nbformat_minor": 5
}

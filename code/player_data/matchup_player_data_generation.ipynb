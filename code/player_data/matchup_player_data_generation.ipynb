{
 "cells": [
  {
   "cell_type": "code",
   "execution_count": 1,
   "id": "c0128950-f71c-48e2-8004-e3e1dc4e8f32",
   "metadata": {},
   "outputs": [
    {
     "name": "stderr",
     "output_type": "stream",
     "text": [
      "[2024-01-08 19:17:13,603 INFO] [numexpr.utils.utils._init_num_threads] Note: NumExpr detected 16 cores but \"NUMEXPR_MAX_THREADS\" not set, so enforcing safe limit of 8.\n"
     ]
    }
   ],
   "source": [
    "%run ../utils.ipynb"
   ]
  },
  {
   "cell_type": "code",
   "execution_count": null,
   "id": "46a74828-42ef-45ac-b5c9-6e9fa7376244",
   "metadata": {},
   "outputs": [],
   "source": []
  },
  {
   "cell_type": "code",
   "execution_count": 2,
   "id": "b84a6ac4-1f5a-49ac-9520-2dbeeefabced",
   "metadata": {
    "scrolled": true
   },
   "outputs": [
    {
     "name": "stderr",
     "output_type": "stream",
     "text": [
      "[2024-01-08 19:17:13,851 DEBUG] [matplotlib.__init__.wrapper] matplotlib data path: C:\\Users\\mikem\\anaconda3\\Lib\\site-packages\\matplotlib\\mpl-data\n",
      "[2024-01-08 19:17:13,855 DEBUG] [matplotlib.__init__.wrapper] CONFIGDIR=C:\\Users\\mikem\\.matplotlib\n",
      "[2024-01-08 19:17:13,858 DEBUG] [matplotlib.__init__.<module>] interactive is False\n",
      "[2024-01-08 19:17:13,858 DEBUG] [matplotlib.__init__.<module>] platform is win32\n",
      "[2024-01-08 19:17:13,940 DEBUG] [matplotlib.__init__.wrapper] CACHEDIR=C:\\Users\\mikem\\.matplotlib\n",
      "[2024-01-08 19:17:13,944 DEBUG] [matplotlib.font_manager.font_manager._load_fontmanager] Using fontManager instance from C:\\Users\\mikem\\.matplotlib\\fontlist-v330.json\n",
      "[2024-01-08 19:17:13,944 DEBUG] [matplotlib.font_manager.font_manager._load_fontmanager] Using fontManager instance from C:\\Users\\mikem\\.matplotlib\\fontlist-v330.json\n"
     ]
    }
   ],
   "source": [
    "import os\n",
    "import sys\n",
    "\n",
    "from dotenv import load_dotenv, find_dotenv\n",
    "\n",
    "from yfpy import Data\n",
    "from yfpy.logger import get_logger\n",
    "from yfpy.query import YahooFantasySportsQuery\n",
    "\n",
    "import pandas as pd\n",
    "import numpy as np\n",
    "import matplotlib.pyplot as plt\n",
    "\n",
    "import json"
   ]
  },
  {
   "cell_type": "markdown",
   "id": "b6a45485-beac-4649-b0ed-05a508fa0c61",
   "metadata": {},
   "source": [
    "### Environment variables"
   ]
  },
  {
   "cell_type": "code",
   "execution_count": 3,
   "id": "d4d61934-034d-4f13-aecd-27a4e0eb48c7",
   "metadata": {},
   "outputs": [],
   "source": [
    "\n",
    "project_dir = os.environ.get(\"BASE_PATH\")"
   ]
  },
  {
   "cell_type": "code",
   "execution_count": 4,
   "id": "4feb4442-f63e-4774-a3c8-f609dd1d1e7d",
   "metadata": {},
   "outputs": [],
   "source": [
    "# if not sys.path[0] == project_dir:\n",
    "    # sys.path.insert(0, str(project_dir))"
   ]
  },
  {
   "cell_type": "code",
   "execution_count": 5,
   "id": "e9b93e13-5d4c-4723-815d-7be308a40aa1",
   "metadata": {},
   "outputs": [
    {
     "data": {
      "text/plain": [
       "True"
      ]
     },
     "execution_count": 5,
     "metadata": {},
     "output_type": "execute_result"
    }
   ],
   "source": [
    "load_dotenv(dotenv_path=f\"{project_dir}/auth/.env\")"
   ]
  },
  {
   "cell_type": "markdown",
   "id": "e0c942c3-420c-4e53-b1ea-a6e998637afe",
   "metadata": {},
   "source": [
    "### Set directories"
   ]
  },
  {
   "cell_type": "code",
   "execution_count": 6,
   "id": "0ec88f62-dee1-4577-abde-a5542415cfad",
   "metadata": {},
   "outputs": [],
   "source": [
    "auth_dir = f\"{project_dir}/auth\""
   ]
  },
  {
   "cell_type": "code",
   "execution_count": 7,
   "id": "fb5b099c-1ad4-4024-ad04-a61de3d50d39",
   "metadata": {},
   "outputs": [],
   "source": [
    "data_dir = f\"{project_dir}/data\""
   ]
  },
  {
   "cell_type": "code",
   "execution_count": 8,
   "id": "ea30941f-149b-4175-8f2a-3341483b322a",
   "metadata": {},
   "outputs": [],
   "source": [
    "yfpy_data_dir = f\"{project_dir}/output\""
   ]
  },
  {
   "cell_type": "code",
   "execution_count": 9,
   "id": "5d6966e5-ec69-45b0-841b-205a683ec646",
   "metadata": {},
   "outputs": [],
   "source": [
    "data = Data(yfpy_data_dir)"
   ]
  },
  {
   "cell_type": "code",
   "execution_count": 10,
   "id": "f25fe5dc-7a0c-4fa2-a684-79afbb1057d2",
   "metadata": {},
   "outputs": [],
   "source": [
    "league_ids = get_league_ids()"
   ]
  },
  {
   "cell_type": "code",
   "execution_count": 11,
   "id": "b40c8597-5a59-4a9b-affc-b4006bb4f0e0",
   "metadata": {},
   "outputs": [],
   "source": [
    "game_keys_df = get_game_keys()"
   ]
  },
  {
   "cell_type": "code",
   "execution_count": 12,
   "id": "8ab26275-cec1-4404-89e5-e38348a92127",
   "metadata": {},
   "outputs": [
    {
     "name": "stdout",
     "output_type": "stream",
     "text": [
      "    season  code\n",
      "16    2015   348\n",
      "17    2016   359\n",
      "18    2017   371\n",
      "19    2018   380\n",
      "20    2019   390\n",
      "21    2020   399\n",
      "22    2021   406\n",
      "23    2022   414\n",
      "24    2023   423\n"
     ]
    }
   ],
   "source": [
    "\n",
    "print(game_keys_df)\n"
   ]
  },
  {
   "cell_type": "code",
   "execution_count": 13,
   "id": "f172ea9a-978e-4602-b07f-a48d8446ba18",
   "metadata": {},
   "outputs": [
    {
     "data": {
      "text/plain": [
       "{'2015': 853925,\n",
       " '2016': 810238,\n",
       " '2017': 192551,\n",
       " '2018': 799346,\n",
       " '2019': 820083,\n",
       " '2020': 394682,\n",
       " '2021': 364325,\n",
       " '2022': 564704,\n",
       " '2023': 333146}"
      ]
     },
     "execution_count": 13,
     "metadata": {},
     "output_type": "execute_result"
    }
   ],
   "source": [
    "league_ids"
   ]
  },
  {
   "cell_type": "code",
   "execution_count": 14,
   "id": "3d72bb03-f04a-457f-ae26-e95eb5503299",
   "metadata": {},
   "outputs": [],
   "source": [
    "league_id = 333146\n",
    "game_key = 423\n",
    "year = 2023"
   ]
  },
  {
   "cell_type": "code",
   "execution_count": 15,
   "id": "512027bd-0b8f-40e8-9a93-b827a6c069bb",
   "metadata": {},
   "outputs": [],
   "source": [
    "#make initial query scoped to individual fantasy football season\n",
    "yahoo_query = YahooFantasySportsQuery(\n",
    "    auth_dir,\n",
    "    league_id= league_id,\n",
    "    game_code='nfl',\n",
    "    game_id= game_key\n",
    ")\n",
    "\n",
    "#from the query, get teams, managers, and manger ids while cleaning residual string gunk from query\n",
    "teams = yahoo_query.get_league_teams()\n",
    "team_ids_list = []\n",
    "for team in teams:\n",
    "    team_name = str(team.name)[1:].strip(\"'\").strip('\"')\n",
    "    manager = team.managers[0].nickname\n",
    "    id = team.team_id\n",
    "    info = {'team_name': team_name, 'manager_nickname': manager, 'id': id}\n",
    "    team_ids_list.append(info)\n",
    "\n",
    "#stash team data in dataframe\n",
    "team_ids_df = pd.DataFrame(team_ids_list)"
   ]
  },
  {
   "cell_type": "code",
   "execution_count": 16,
   "id": "b2d0f925-7bbe-4f26-9e3a-b4e34eb1bea7",
   "metadata": {},
   "outputs": [
    {
     "name": "stdout",
     "output_type": "stream",
     "text": [
      "Progress through week: \n",
      "|1| |2| |3| |4| |5| |6| |7| |8| |9| |10| |11| |12| |13| |14| |15| |16| |17| |18| "
     ]
    },
    {
     "name": "stderr",
     "output_type": "stream",
     "text": [
      "2024-01-08 19:19:49.962 - ERROR - query.py - yfpy.query:205 - Attempt to retrieve data at URL https://fantasysports.yahooapis.com/fantasy/v2/team/423.l.333146.t.1/roster;week=18/players/stats?format=json failed with error: \"Invalid week 18 specified in the URI.\"\n"
     ]
    },
    {
     "name": "stdout",
     "output_type": "stream",
     "text": [
      "Yahoo Error occurred when making call for manager ID 1, week 18\n"
     ]
    }
   ],
   "source": [
    "# establish the maximum amount of weeks the season ran (via yahoo query method)\n",
    "max_weeks = len(yahoo_query.get_game_info_by_game_id(game_key).game_weeks)\n",
    "\n",
    "# iterate through each week, then each manager by id, and generate roster points for each\n",
    "season_stats = []\n",
    "print(\"Progress through week: \")\n",
    "for week in range(1, max_weeks+1):\n",
    "    print(f\"|{week}|\", end=\" \")\n",
    "    for manager_id in team_ids_df['id']:\n",
    "        # raw player data by manager, week comes from query method\n",
    "        try: \n",
    "            week_subquery = yahoo_query.get_team_roster_player_stats_by_week(manager_id, week)\n",
    "        except:\n",
    "            print(f\"Yahoo Error occurred when making call for manager ID {manager_id}, week {week}\")\n",
    "            break\n",
    "        else:\n",
    "            # and is passed to custom method that organizes it into data we care about\n",
    "            weekly_stats = generate_roster_points_by_week(week_subquery)\n",
    "    \n",
    "            # before adding the row, add the team, manager, and week information\n",
    "            team_name = team_ids_df.loc[team_ids_df['id'] == manager_id, 'team_name'].item()\n",
    "            weekly_stats['team_name'] = team_name\n",
    "            weekly_stats['manager'] = map_teams_to_name(team_name)\n",
    "            weekly_stats['week'] = week\n",
    "            season_stats.append(weekly_stats)\n",
    "\n",
    "#stash in a dataframe\n",
    "season_stats_df = pd.DataFrame(season_stats)"
   ]
  },
  {
   "cell_type": "code",
   "execution_count": 17,
   "id": "4b2ee99a-8c79-46af-939f-be65db034747",
   "metadata": {},
   "outputs": [],
   "source": [
    "season_stats_df.to_csv(f'{year}_weekly_roster_stats.csv', index=False)"
   ]
  },
  {
   "cell_type": "code",
   "execution_count": null,
   "id": "5f9b5953-1be9-4fbc-a389-2d3f4dc3a22d",
   "metadata": {},
   "outputs": [],
   "source": []
  },
  {
   "cell_type": "code",
   "execution_count": null,
   "id": "eb01fd12-59d2-4d5a-84e8-a2ffbb040f1c",
   "metadata": {},
   "outputs": [],
   "source": []
  }
 ],
 "metadata": {
  "kernelspec": {
   "display_name": "Python 3 (ipykernel)",
   "language": "python",
   "name": "python3"
  },
  "language_info": {
   "codemirror_mode": {
    "name": "ipython",
    "version": 3
   },
   "file_extension": ".py",
   "mimetype": "text/x-python",
   "name": "python",
   "nbconvert_exporter": "python",
   "pygments_lexer": "ipython3",
   "version": "3.11.5"
  }
 },
 "nbformat": 4,
 "nbformat_minor": 5
}

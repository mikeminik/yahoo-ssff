{
 "cells": [
  {
   "cell_type": "code",
   "execution_count": null,
   "id": "25b658b8-76a2-4306-b08c-e5d09672029d",
   "metadata": {},
   "outputs": [],
   "source": []
  },
  {
   "cell_type": "code",
   "execution_count": 1124,
   "id": "4f967a0a-b924-477a-ad68-586f0dd4051e",
   "metadata": {},
   "outputs": [],
   "source": [
    "%run ../utils.ipynb"
   ]
  },
  {
   "cell_type": "code",
   "execution_count": 1125,
   "id": "386c27a8-22fe-4f07-b17b-6347ce2919fe",
   "metadata": {},
   "outputs": [],
   "source": [
    "import pandas as pd\n",
    "import numpy as np\n",
    "\n",
    "from sklearn.linear_model import LogisticRegression, LogisticRegressionCV\n",
    "from sklearn.model_selection import cross_val_score\n",
    "from sklearn.preprocessing import StandardScaler\n",
    "import matplotlib.pyplot as plt\n",
    "import seaborn as sns\n",
    "\n",
    "from warnings import simplefilter"
   ]
  },
  {
   "cell_type": "code",
   "execution_count": 1126,
   "id": "1c362a6e-a39c-4c50-9e76-c0602fc2526d",
   "metadata": {},
   "outputs": [],
   "source": [
    "simplefilter(action='ignore', category=FutureWarning)"
   ]
  },
  {
   "cell_type": "code",
   "execution_count": 1127,
   "id": "d3b4a7aa-b348-4924-a662-1129f9952821",
   "metadata": {},
   "outputs": [],
   "source": [
    "data_dir = f\"{project_dir}data\\\\matchup_summary\\\\\""
   ]
  },
  {
   "cell_type": "code",
   "execution_count": 1128,
   "id": "4a8528a2-53f4-4699-9e79-4c439b07aab1",
   "metadata": {},
   "outputs": [],
   "source": [
    "df = pd.read_csv(data_dir + 'weekly_position_scoring_with_matchup_result.csv')"
   ]
  },
  {
   "cell_type": "markdown",
   "id": "8778e9ce-16ab-4462-8b68-da198611f9ac",
   "metadata": {},
   "source": [
    "### Select the season"
   ]
  },
  {
   "cell_type": "code",
   "execution_count": 1129,
   "id": "d85bc9fa-a3bc-480e-bd9d-55125be8acfb",
   "metadata": {},
   "outputs": [],
   "source": [
    "df = df[df['season_week'].str.contains('2023')]"
   ]
  },
  {
   "cell_type": "markdown",
   "id": "501f1d41-f1f8-4865-b09c-782de4f44c86",
   "metadata": {},
   "source": [
    "### Manufacture new columns adding the guaranteed WR and RB position points"
   ]
  },
  {
   "cell_type": "code",
   "execution_count": 1130,
   "id": "f3302cca-1230-40e9-833b-427ce4797e0a",
   "metadata": {},
   "outputs": [],
   "source": [
    "df['WR1WR2_points'] = df['WR1_points'] + df['WR2_points']"
   ]
  },
  {
   "cell_type": "code",
   "execution_count": 1131,
   "id": "40658235-e7ed-4153-a177-2b73bc9d27f0",
   "metadata": {},
   "outputs": [],
   "source": [
    "df['RB1RB2_points'] = df['RB1_points'] + df['RB2_points']"
   ]
  },
  {
   "cell_type": "markdown",
   "id": "077c1803-5619-4e41-a4e3-bebb161ed360",
   "metadata": {},
   "source": [
    "### Create W/R/T position dummies\n",
    "\n",
    "In this case, I wanted to interpret LogReg coefficients relative to starting a Tight End (TE). In order for that to happen using pd.get_dummies(dropfirst=), I had to rename TE and sort, ensuring it was dropped first. \n",
    "\n",
    "Then, after creating dummies, I set it back to \"TE\" and shuffled the dataset"
   ]
  },
  {
   "cell_type": "code",
   "execution_count": 1132,
   "id": "04df9ee7-c44a-4222-88ba-ee8cc4f75ba7",
   "metadata": {},
   "outputs": [],
   "source": [
    "df['W/R/T position'] = np.where(df['W/R/T position'] == 'TE', 'AA', df['W/R/T position'])"
   ]
  },
  {
   "cell_type": "code",
   "execution_count": 1133,
   "id": "8f87872d-a8cf-4a80-866e-2ada2f15f482",
   "metadata": {},
   "outputs": [],
   "source": [
    "df = df.sort_values(by = 'W/R/T position')\n"
   ]
  },
  {
   "cell_type": "code",
   "execution_count": 1134,
   "id": "201f01cd-fc2b-4377-9e0b-6ac15c6cf4aa",
   "metadata": {},
   "outputs": [],
   "source": [
    "flex_dummies = pd.get_dummies(df['W/R/T position'], drop_first=True)"
   ]
  },
  {
   "cell_type": "code",
   "execution_count": 1135,
   "id": "1992be3b-ab3f-40fe-942e-c4e83c270bf8",
   "metadata": {},
   "outputs": [],
   "source": [
    "df = df.join(flex_dummies)"
   ]
  },
  {
   "cell_type": "code",
   "execution_count": 1136,
   "id": "da157e5a-9ee8-4f18-bf71-714971ed326c",
   "metadata": {},
   "outputs": [],
   "source": [
    "df['W/R/T position'] = np.where(df['W/R/T position'] == 'AA', 'TE', df['W/R/T position'])"
   ]
  },
  {
   "cell_type": "code",
   "execution_count": 1137,
   "id": "d55e1013-9fc2-4875-922e-33c0f35455f0",
   "metadata": {},
   "outputs": [],
   "source": [
    "df = df.sample(X.shape[0])"
   ]
  },
  {
   "cell_type": "markdown",
   "id": "05f94f0a-d1b5-42ac-8771-26d13ac27dc5",
   "metadata": {},
   "source": [
    "### Some baseline models\n",
    "\n",
    "Without knowing anything about the data - baseline accuracy would be a coin flip (win or lose) == Accuracy 0.5"
   ]
  },
  {
   "cell_type": "code",
   "execution_count": 1138,
   "id": "4a2e2359-a4f6-4680-b196-4db8b77ef330",
   "metadata": {},
   "outputs": [],
   "source": [
    "df['score > mean'] = np.where(df['points_for'] > df['points_for'].mean(), 1, 0)"
   ]
  },
  {
   "cell_type": "code",
   "execution_count": 1139,
   "id": "c9629d06-4df7-49e8-9b7a-1dfced590889",
   "metadata": {},
   "outputs": [],
   "source": [
    "df['baseline_pred'] = df['score > mean'] == df['win']"
   ]
  },
  {
   "cell_type": "code",
   "execution_count": 1140,
   "id": "d05db6c3-5126-472d-9b63-56c28d66c0fc",
   "metadata": {},
   "outputs": [
    {
     "data": {
      "text/plain": [
       "0.780373831775701"
      ]
     },
     "execution_count": 1140,
     "metadata": {},
     "output_type": "execute_result"
    }
   ],
   "source": [
    "df['baseline_pred'].mean()"
   ]
  },
  {
   "cell_type": "code",
   "execution_count": null,
   "id": "5e8fc198-3822-47ca-8e9d-1376b6d9943e",
   "metadata": {},
   "outputs": [],
   "source": []
  },
  {
   "cell_type": "code",
   "execution_count": null,
   "id": "e3617aaf-cd58-400e-a47d-b64022b0f9c9",
   "metadata": {},
   "outputs": [],
   "source": []
  },
  {
   "cell_type": "markdown",
   "id": "a0213ed2-df1e-48ff-b6fb-943c2dbffa63",
   "metadata": {},
   "source": [
    "### Set the index and select features/label"
   ]
  },
  {
   "cell_type": "code",
   "execution_count": null,
   "id": "1b8f3592-cb3b-4ec7-9a55-741a6c8f6db2",
   "metadata": {},
   "outputs": [],
   "source": []
  },
  {
   "cell_type": "code",
   "execution_count": 1141,
   "id": "2085c93c-086a-4e1f-b85b-464341f404bd",
   "metadata": {},
   "outputs": [],
   "source": [
    "df.set_index('season_week', inplace=True)"
   ]
  },
  {
   "cell_type": "code",
   "execution_count": 1142,
   "id": "53915f5e-2126-4c60-aaa0-8ebc09e0b55c",
   "metadata": {},
   "outputs": [],
   "source": [
    "X = df[['QB_points', 'WR1WR2_points', 'RB1RB2_points', 'TE_points', 'DEF_points', 'W/R/T_points', 'RB', 'WR']]"
   ]
  },
  {
   "cell_type": "code",
   "execution_count": 1143,
   "id": "fa77a8af-fb21-4e38-a873-e35a5e1d1892",
   "metadata": {},
   "outputs": [],
   "source": [
    "y = df['win']"
   ]
  },
  {
   "cell_type": "code",
   "execution_count": 1144,
   "id": "736a50ce-6245-4817-9948-6f44c7c4045a",
   "metadata": {},
   "outputs": [
    {
     "data": {
      "text/html": [
       "<div>\n",
       "<style scoped>\n",
       "    .dataframe tbody tr th:only-of-type {\n",
       "        vertical-align: middle;\n",
       "    }\n",
       "\n",
       "    .dataframe tbody tr th {\n",
       "        vertical-align: top;\n",
       "    }\n",
       "\n",
       "    .dataframe thead th {\n",
       "        text-align: right;\n",
       "    }\n",
       "</style>\n",
       "<table border=\"1\" class=\"dataframe\">\n",
       "  <thead>\n",
       "    <tr style=\"text-align: right;\">\n",
       "      <th></th>\n",
       "      <th>QB_points</th>\n",
       "      <th>WR1WR2_points</th>\n",
       "      <th>RB1RB2_points</th>\n",
       "      <th>TE_points</th>\n",
       "      <th>DEF_points</th>\n",
       "      <th>W/R/T_points</th>\n",
       "      <th>RB</th>\n",
       "      <th>WR</th>\n",
       "    </tr>\n",
       "    <tr>\n",
       "      <th>season_week</th>\n",
       "      <th></th>\n",
       "      <th></th>\n",
       "      <th></th>\n",
       "      <th></th>\n",
       "      <th></th>\n",
       "      <th></th>\n",
       "      <th></th>\n",
       "      <th></th>\n",
       "    </tr>\n",
       "  </thead>\n",
       "  <tbody>\n",
       "    <tr>\n",
       "      <th>Buddy|2023|2</th>\n",
       "      <td>25.22</td>\n",
       "      <td>26.1</td>\n",
       "      <td>6.5</td>\n",
       "      <td>10.6</td>\n",
       "      <td>5.0</td>\n",
       "      <td>8.8</td>\n",
       "      <td>False</td>\n",
       "      <td>True</td>\n",
       "    </tr>\n",
       "    <tr>\n",
       "      <th>Tim|2023|11</th>\n",
       "      <td>16.88</td>\n",
       "      <td>26.0</td>\n",
       "      <td>26.2</td>\n",
       "      <td>4.8</td>\n",
       "      <td>17.0</td>\n",
       "      <td>12.8</td>\n",
       "      <td>False</td>\n",
       "      <td>True</td>\n",
       "    </tr>\n",
       "    <tr>\n",
       "      <th>Kyle|2023|15</th>\n",
       "      <td>25.68</td>\n",
       "      <td>10.9</td>\n",
       "      <td>29.6</td>\n",
       "      <td>4.8</td>\n",
       "      <td>34.0</td>\n",
       "      <td>10.8</td>\n",
       "      <td>True</td>\n",
       "      <td>False</td>\n",
       "    </tr>\n",
       "    <tr>\n",
       "      <th>Jake|2023|13</th>\n",
       "      <td>9.88</td>\n",
       "      <td>48.2</td>\n",
       "      <td>26.8</td>\n",
       "      <td>1.0</td>\n",
       "      <td>24.0</td>\n",
       "      <td>14.7</td>\n",
       "      <td>False</td>\n",
       "      <td>True</td>\n",
       "    </tr>\n",
       "    <tr>\n",
       "      <th>Buddy|2023|7</th>\n",
       "      <td>23.26</td>\n",
       "      <td>6.8</td>\n",
       "      <td>19.6</td>\n",
       "      <td>29.9</td>\n",
       "      <td>15.0</td>\n",
       "      <td>9.5</td>\n",
       "      <td>False</td>\n",
       "      <td>True</td>\n",
       "    </tr>\n",
       "    <tr>\n",
       "      <th>...</th>\n",
       "      <td>...</td>\n",
       "      <td>...</td>\n",
       "      <td>...</td>\n",
       "      <td>...</td>\n",
       "      <td>...</td>\n",
       "      <td>...</td>\n",
       "      <td>...</td>\n",
       "      <td>...</td>\n",
       "    </tr>\n",
       "    <tr>\n",
       "      <th>Eric|2023|3</th>\n",
       "      <td>10.66</td>\n",
       "      <td>37.2</td>\n",
       "      <td>13.1</td>\n",
       "      <td>6.2</td>\n",
       "      <td>21.0</td>\n",
       "      <td>21.6</td>\n",
       "      <td>False</td>\n",
       "      <td>True</td>\n",
       "    </tr>\n",
       "    <tr>\n",
       "      <th>Eric|2023|1</th>\n",
       "      <td>14.54</td>\n",
       "      <td>24.9</td>\n",
       "      <td>26.7</td>\n",
       "      <td>5.4</td>\n",
       "      <td>16.0</td>\n",
       "      <td>6.5</td>\n",
       "      <td>False</td>\n",
       "      <td>True</td>\n",
       "    </tr>\n",
       "    <tr>\n",
       "      <th>Kyle|2023|14</th>\n",
       "      <td>21.42</td>\n",
       "      <td>31.0</td>\n",
       "      <td>33.2</td>\n",
       "      <td>27.0</td>\n",
       "      <td>17.0</td>\n",
       "      <td>7.6</td>\n",
       "      <td>True</td>\n",
       "      <td>False</td>\n",
       "    </tr>\n",
       "    <tr>\n",
       "      <th>Nick|2023|16</th>\n",
       "      <td>23.96</td>\n",
       "      <td>7.2</td>\n",
       "      <td>36.0</td>\n",
       "      <td>4.2</td>\n",
       "      <td>8.0</td>\n",
       "      <td>7.0</td>\n",
       "      <td>True</td>\n",
       "      <td>False</td>\n",
       "    </tr>\n",
       "    <tr>\n",
       "      <th>Nick|2023|6</th>\n",
       "      <td>13.80</td>\n",
       "      <td>33.3</td>\n",
       "      <td>15.5</td>\n",
       "      <td>8.9</td>\n",
       "      <td>28.0</td>\n",
       "      <td>7.7</td>\n",
       "      <td>True</td>\n",
       "      <td>False</td>\n",
       "    </tr>\n",
       "  </tbody>\n",
       "</table>\n",
       "<p>214 rows × 8 columns</p>\n",
       "</div>"
      ],
      "text/plain": [
       "              QB_points  WR1WR2_points  RB1RB2_points  TE_points  DEF_points  \\\n",
       "season_week                                                                    \n",
       "Buddy|2023|2      25.22           26.1            6.5       10.6         5.0   \n",
       "Tim|2023|11       16.88           26.0           26.2        4.8        17.0   \n",
       "Kyle|2023|15      25.68           10.9           29.6        4.8        34.0   \n",
       "Jake|2023|13       9.88           48.2           26.8        1.0        24.0   \n",
       "Buddy|2023|7      23.26            6.8           19.6       29.9        15.0   \n",
       "...                 ...            ...            ...        ...         ...   \n",
       "Eric|2023|3       10.66           37.2           13.1        6.2        21.0   \n",
       "Eric|2023|1       14.54           24.9           26.7        5.4        16.0   \n",
       "Kyle|2023|14      21.42           31.0           33.2       27.0        17.0   \n",
       "Nick|2023|16      23.96            7.2           36.0        4.2         8.0   \n",
       "Nick|2023|6       13.80           33.3           15.5        8.9        28.0   \n",
       "\n",
       "              W/R/T_points     RB     WR  \n",
       "season_week                               \n",
       "Buddy|2023|2           8.8  False   True  \n",
       "Tim|2023|11           12.8  False   True  \n",
       "Kyle|2023|15          10.8   True  False  \n",
       "Jake|2023|13          14.7  False   True  \n",
       "Buddy|2023|7           9.5  False   True  \n",
       "...                    ...    ...    ...  \n",
       "Eric|2023|3           21.6  False   True  \n",
       "Eric|2023|1            6.5  False   True  \n",
       "Kyle|2023|14           7.6   True  False  \n",
       "Nick|2023|16           7.0   True  False  \n",
       "Nick|2023|6            7.7   True  False  \n",
       "\n",
       "[214 rows x 8 columns]"
      ]
     },
     "execution_count": 1144,
     "metadata": {},
     "output_type": "execute_result"
    }
   ],
   "source": [
    "X"
   ]
  },
  {
   "cell_type": "markdown",
   "id": "a1b63609-cc7c-43e9-98f3-e3e139122021",
   "metadata": {},
   "source": [
    "### Instantiate the Logistic Regression (with Cross Validation)"
   ]
  },
  {
   "cell_type": "code",
   "execution_count": 1145,
   "id": "0f7da93d-232a-445d-94b9-eff88ef05e24",
   "metadata": {},
   "outputs": [],
   "source": [
    "lr1 = LogisticRegressionCV(cv=5, random_state=2024)"
   ]
  },
  {
   "cell_type": "markdown",
   "id": "38cfce5d-cd48-4e45-b365-405a056cb687",
   "metadata": {},
   "source": [
    "### Fit the model, using raw scores"
   ]
  },
  {
   "cell_type": "code",
   "execution_count": 1146,
   "id": "cb9f8346-1f7f-46a6-8654-1436c4b820d0",
   "metadata": {},
   "outputs": [
    {
     "data": {
      "text/html": [
       "<style>#sk-container-id-28 {color: black;background-color: white;}#sk-container-id-28 pre{padding: 0;}#sk-container-id-28 div.sk-toggleable {background-color: white;}#sk-container-id-28 label.sk-toggleable__label {cursor: pointer;display: block;width: 100%;margin-bottom: 0;padding: 0.3em;box-sizing: border-box;text-align: center;}#sk-container-id-28 label.sk-toggleable__label-arrow:before {content: \"▸\";float: left;margin-right: 0.25em;color: #696969;}#sk-container-id-28 label.sk-toggleable__label-arrow:hover:before {color: black;}#sk-container-id-28 div.sk-estimator:hover label.sk-toggleable__label-arrow:before {color: black;}#sk-container-id-28 div.sk-toggleable__content {max-height: 0;max-width: 0;overflow: hidden;text-align: left;background-color: #f0f8ff;}#sk-container-id-28 div.sk-toggleable__content pre {margin: 0.2em;color: black;border-radius: 0.25em;background-color: #f0f8ff;}#sk-container-id-28 input.sk-toggleable__control:checked~div.sk-toggleable__content {max-height: 200px;max-width: 100%;overflow: auto;}#sk-container-id-28 input.sk-toggleable__control:checked~label.sk-toggleable__label-arrow:before {content: \"▾\";}#sk-container-id-28 div.sk-estimator input.sk-toggleable__control:checked~label.sk-toggleable__label {background-color: #d4ebff;}#sk-container-id-28 div.sk-label input.sk-toggleable__control:checked~label.sk-toggleable__label {background-color: #d4ebff;}#sk-container-id-28 input.sk-hidden--visually {border: 0;clip: rect(1px 1px 1px 1px);clip: rect(1px, 1px, 1px, 1px);height: 1px;margin: -1px;overflow: hidden;padding: 0;position: absolute;width: 1px;}#sk-container-id-28 div.sk-estimator {font-family: monospace;background-color: #f0f8ff;border: 1px dotted black;border-radius: 0.25em;box-sizing: border-box;margin-bottom: 0.5em;}#sk-container-id-28 div.sk-estimator:hover {background-color: #d4ebff;}#sk-container-id-28 div.sk-parallel-item::after {content: \"\";width: 100%;border-bottom: 1px solid gray;flex-grow: 1;}#sk-container-id-28 div.sk-label:hover label.sk-toggleable__label {background-color: #d4ebff;}#sk-container-id-28 div.sk-serial::before {content: \"\";position: absolute;border-left: 1px solid gray;box-sizing: border-box;top: 0;bottom: 0;left: 50%;z-index: 0;}#sk-container-id-28 div.sk-serial {display: flex;flex-direction: column;align-items: center;background-color: white;padding-right: 0.2em;padding-left: 0.2em;position: relative;}#sk-container-id-28 div.sk-item {position: relative;z-index: 1;}#sk-container-id-28 div.sk-parallel {display: flex;align-items: stretch;justify-content: center;background-color: white;position: relative;}#sk-container-id-28 div.sk-item::before, #sk-container-id-28 div.sk-parallel-item::before {content: \"\";position: absolute;border-left: 1px solid gray;box-sizing: border-box;top: 0;bottom: 0;left: 50%;z-index: -1;}#sk-container-id-28 div.sk-parallel-item {display: flex;flex-direction: column;z-index: 1;position: relative;background-color: white;}#sk-container-id-28 div.sk-parallel-item:first-child::after {align-self: flex-end;width: 50%;}#sk-container-id-28 div.sk-parallel-item:last-child::after {align-self: flex-start;width: 50%;}#sk-container-id-28 div.sk-parallel-item:only-child::after {width: 0;}#sk-container-id-28 div.sk-dashed-wrapped {border: 1px dashed gray;margin: 0 0.4em 0.5em 0.4em;box-sizing: border-box;padding-bottom: 0.4em;background-color: white;}#sk-container-id-28 div.sk-label label {font-family: monospace;font-weight: bold;display: inline-block;line-height: 1.2em;}#sk-container-id-28 div.sk-label-container {text-align: center;}#sk-container-id-28 div.sk-container {/* jupyter's `normalize.less` sets `[hidden] { display: none; }` but bootstrap.min.css set `[hidden] { display: none !important; }` so we also need the `!important` here to be able to override the default hidden behavior on the sphinx rendered scikit-learn.org. See: https://github.com/scikit-learn/scikit-learn/issues/21755 */display: inline-block !important;position: relative;}#sk-container-id-28 div.sk-text-repr-fallback {display: none;}</style><div id=\"sk-container-id-28\" class=\"sk-top-container\"><div class=\"sk-text-repr-fallback\"><pre>LogisticRegressionCV(cv=5, random_state=2024)</pre><b>In a Jupyter environment, please rerun this cell to show the HTML representation or trust the notebook. <br />On GitHub, the HTML representation is unable to render, please try loading this page with nbviewer.org.</b></div><div class=\"sk-container\" hidden><div class=\"sk-item\"><div class=\"sk-estimator sk-toggleable\"><input class=\"sk-toggleable__control sk-hidden--visually\" id=\"sk-estimator-id-28\" type=\"checkbox\" checked><label for=\"sk-estimator-id-28\" class=\"sk-toggleable__label sk-toggleable__label-arrow\">LogisticRegressionCV</label><div class=\"sk-toggleable__content\"><pre>LogisticRegressionCV(cv=5, random_state=2024)</pre></div></div></div></div></div>"
      ],
      "text/plain": [
       "LogisticRegressionCV(cv=5, random_state=2024)"
      ]
     },
     "execution_count": 1146,
     "metadata": {},
     "output_type": "execute_result"
    }
   ],
   "source": [
    "lr1.fit(X, y)"
   ]
  },
  {
   "cell_type": "markdown",
   "id": "d62d530a-4fa4-4a8a-93b7-acfa2642992f",
   "metadata": {},
   "source": [
    "### Evaluate the model"
   ]
  },
  {
   "cell_type": "code",
   "execution_count": 1147,
   "id": "437514be-9413-4e57-af00-396cfe55fe77",
   "metadata": {},
   "outputs": [
    {
     "data": {
      "text/plain": [
       "0.7478405315614618"
      ]
     },
     "execution_count": 1147,
     "metadata": {},
     "output_type": "execute_result"
    }
   ],
   "source": [
    "np.mean(cross_val_score(lr1, X, y))"
   ]
  },
  {
   "cell_type": "markdown",
   "id": "769f3ab8-7293-4058-b395-853ac5d95a4b",
   "metadata": {},
   "source": [
    "### Interpret coefficients"
   ]
  },
  {
   "cell_type": "code",
   "execution_count": 1148,
   "id": "abb1a254-bb5e-43a0-849d-808e66e97ca3",
   "metadata": {},
   "outputs": [],
   "source": [
    "log_odds1 = np.exp(lr1.coef_)"
   ]
  },
  {
   "cell_type": "code",
   "execution_count": 1149,
   "id": "32072792-d00e-489a-923c-991a0a504ef6",
   "metadata": {},
   "outputs": [
    {
     "data": {
      "text/html": [
       "<div>\n",
       "<style scoped>\n",
       "    .dataframe tbody tr th:only-of-type {\n",
       "        vertical-align: middle;\n",
       "    }\n",
       "\n",
       "    .dataframe tbody tr th {\n",
       "        vertical-align: top;\n",
       "    }\n",
       "\n",
       "    .dataframe thead th {\n",
       "        text-align: right;\n",
       "    }\n",
       "</style>\n",
       "<table border=\"1\" class=\"dataframe\">\n",
       "  <thead>\n",
       "    <tr style=\"text-align: right;\">\n",
       "      <th></th>\n",
       "      <th>QB_points</th>\n",
       "      <th>WR1WR2_points</th>\n",
       "      <th>RB1RB2_points</th>\n",
       "      <th>TE_points</th>\n",
       "      <th>DEF_points</th>\n",
       "      <th>W/R/T_points</th>\n",
       "      <th>RB</th>\n",
       "      <th>WR</th>\n",
       "    </tr>\n",
       "  </thead>\n",
       "  <tbody>\n",
       "    <tr>\n",
       "      <th>0</th>\n",
       "      <td>1.039857</td>\n",
       "      <td>1.051263</td>\n",
       "      <td>1.064851</td>\n",
       "      <td>1.029535</td>\n",
       "      <td>1.043304</td>\n",
       "      <td>1.059242</td>\n",
       "      <td>0.9988</td>\n",
       "      <td>1.000359</td>\n",
       "    </tr>\n",
       "  </tbody>\n",
       "</table>\n",
       "</div>"
      ],
      "text/plain": [
       "   QB_points  WR1WR2_points  RB1RB2_points  TE_points  DEF_points  \\\n",
       "0   1.039857       1.051263       1.064851   1.029535    1.043304   \n",
       "\n",
       "   W/R/T_points      RB        WR  \n",
       "0      1.059242  0.9988  1.000359  "
      ]
     },
     "execution_count": 1149,
     "metadata": {},
     "output_type": "execute_result"
    }
   ],
   "source": [
    "pd.DataFrame(log_odds1, columns=X.columns)"
   ]
  },
  {
   "cell_type": "markdown",
   "id": "7b856d1f-24ae-42be-ad47-78b7b2dd5ad1",
   "metadata": {},
   "source": [
    "### Same data, but with numeric features scaled"
   ]
  },
  {
   "cell_type": "code",
   "execution_count": 1150,
   "id": "adea7480-0d9e-432f-b603-470321074ee6",
   "metadata": {},
   "outputs": [],
   "source": [
    "sc = StandardScaler()"
   ]
  },
  {
   "cell_type": "markdown",
   "id": "196fe725-4084-45f0-86dd-0ed9a47cfc01",
   "metadata": {},
   "source": [
    "Grab only the numeric columns and scale them"
   ]
  },
  {
   "cell_type": "code",
   "execution_count": 1151,
   "id": "2ae09181-afa8-4187-8de0-1809e27381fc",
   "metadata": {},
   "outputs": [],
   "source": [
    "X_sc = sc.fit_transform(X.iloc[:, 0:6 ])"
   ]
  },
  {
   "cell_type": "code",
   "execution_count": 1152,
   "id": "47f76934-483d-4217-b118-a51a2f1b910b",
   "metadata": {},
   "outputs": [],
   "source": [
    "X_sc_df = pd.DataFrame(X_sc)"
   ]
  },
  {
   "cell_type": "code",
   "execution_count": 1153,
   "id": "8c06c0eb-ba78-4efc-bf9d-1daf02c07fb9",
   "metadata": {},
   "outputs": [
    {
     "data": {
      "text/html": [
       "<div>\n",
       "<style scoped>\n",
       "    .dataframe tbody tr th:only-of-type {\n",
       "        vertical-align: middle;\n",
       "    }\n",
       "\n",
       "    .dataframe tbody tr th {\n",
       "        vertical-align: top;\n",
       "    }\n",
       "\n",
       "    .dataframe thead th {\n",
       "        text-align: right;\n",
       "    }\n",
       "</style>\n",
       "<table border=\"1\" class=\"dataframe\">\n",
       "  <thead>\n",
       "    <tr style=\"text-align: right;\">\n",
       "      <th></th>\n",
       "      <th>0</th>\n",
       "      <th>1</th>\n",
       "      <th>2</th>\n",
       "      <th>3</th>\n",
       "      <th>4</th>\n",
       "      <th>5</th>\n",
       "    </tr>\n",
       "  </thead>\n",
       "  <tbody>\n",
       "    <tr>\n",
       "      <th>0</th>\n",
       "      <td>0.997228</td>\n",
       "      <td>0.214377</td>\n",
       "      <td>-1.678101</td>\n",
       "      <td>0.350656</td>\n",
       "      <td>-1.500558</td>\n",
       "      <td>-0.267899</td>\n",
       "    </tr>\n",
       "    <tr>\n",
       "      <th>1</th>\n",
       "      <td>-0.054944</td>\n",
       "      <td>0.205188</td>\n",
       "      <td>0.336714</td>\n",
       "      <td>-0.560677</td>\n",
       "      <td>0.155408</td>\n",
       "      <td>0.274489</td>\n",
       "    </tr>\n",
       "    <tr>\n",
       "      <th>2</th>\n",
       "      <td>1.055261</td>\n",
       "      <td>-1.182284</td>\n",
       "      <td>0.684448</td>\n",
       "      <td>-0.560677</td>\n",
       "      <td>2.501360</td>\n",
       "      <td>0.003295</td>\n",
       "    </tr>\n",
       "    <tr>\n",
       "      <th>3</th>\n",
       "      <td>-0.938062</td>\n",
       "      <td>2.245048</td>\n",
       "      <td>0.398079</td>\n",
       "      <td>-1.157757</td>\n",
       "      <td>1.121388</td>\n",
       "      <td>0.532123</td>\n",
       "    </tr>\n",
       "    <tr>\n",
       "      <th>4</th>\n",
       "      <td>0.749955</td>\n",
       "      <td>-1.559015</td>\n",
       "      <td>-0.338300</td>\n",
       "      <td>3.383195</td>\n",
       "      <td>-0.120586</td>\n",
       "      <td>-0.172981</td>\n",
       "    </tr>\n",
       "    <tr>\n",
       "      <th>...</th>\n",
       "      <td>...</td>\n",
       "      <td>...</td>\n",
       "      <td>...</td>\n",
       "      <td>...</td>\n",
       "      <td>...</td>\n",
       "      <td>...</td>\n",
       "    </tr>\n",
       "    <tr>\n",
       "      <th>209</th>\n",
       "      <td>-0.839658</td>\n",
       "      <td>1.234307</td>\n",
       "      <td>-1.003087</td>\n",
       "      <td>-0.340700</td>\n",
       "      <td>0.707397</td>\n",
       "      <td>1.467743</td>\n",
       "    </tr>\n",
       "    <tr>\n",
       "      <th>210</th>\n",
       "      <td>-0.350158</td>\n",
       "      <td>0.104114</td>\n",
       "      <td>0.387851</td>\n",
       "      <td>-0.466401</td>\n",
       "      <td>0.017411</td>\n",
       "      <td>-0.579772</td>\n",
       "    </tr>\n",
       "    <tr>\n",
       "      <th>211</th>\n",
       "      <td>0.517821</td>\n",
       "      <td>0.664616</td>\n",
       "      <td>1.052638</td>\n",
       "      <td>2.927529</td>\n",
       "      <td>0.155408</td>\n",
       "      <td>-0.430616</td>\n",
       "    </tr>\n",
       "    <tr>\n",
       "      <th>212</th>\n",
       "      <td>0.838266</td>\n",
       "      <td>-1.522261</td>\n",
       "      <td>1.339007</td>\n",
       "      <td>-0.654953</td>\n",
       "      <td>-1.086567</td>\n",
       "      <td>-0.511974</td>\n",
       "    </tr>\n",
       "    <tr>\n",
       "      <th>213</th>\n",
       "      <td>-0.443516</td>\n",
       "      <td>0.875953</td>\n",
       "      <td>-0.757627</td>\n",
       "      <td>0.083541</td>\n",
       "      <td>1.673377</td>\n",
       "      <td>-0.417056</td>\n",
       "    </tr>\n",
       "  </tbody>\n",
       "</table>\n",
       "<p>214 rows × 6 columns</p>\n",
       "</div>"
      ],
      "text/plain": [
       "            0         1         2         3         4         5\n",
       "0    0.997228  0.214377 -1.678101  0.350656 -1.500558 -0.267899\n",
       "1   -0.054944  0.205188  0.336714 -0.560677  0.155408  0.274489\n",
       "2    1.055261 -1.182284  0.684448 -0.560677  2.501360  0.003295\n",
       "3   -0.938062  2.245048  0.398079 -1.157757  1.121388  0.532123\n",
       "4    0.749955 -1.559015 -0.338300  3.383195 -0.120586 -0.172981\n",
       "..        ...       ...       ...       ...       ...       ...\n",
       "209 -0.839658  1.234307 -1.003087 -0.340700  0.707397  1.467743\n",
       "210 -0.350158  0.104114  0.387851 -0.466401  0.017411 -0.579772\n",
       "211  0.517821  0.664616  1.052638  2.927529  0.155408 -0.430616\n",
       "212  0.838266 -1.522261  1.339007 -0.654953 -1.086567 -0.511974\n",
       "213 -0.443516  0.875953 -0.757627  0.083541  1.673377 -0.417056\n",
       "\n",
       "[214 rows x 6 columns]"
      ]
     },
     "execution_count": 1153,
     "metadata": {},
     "output_type": "execute_result"
    }
   ],
   "source": [
    "X_sc_df"
   ]
  },
  {
   "cell_type": "markdown",
   "id": "68620924-08e2-4ad0-8311-9f68893a8692",
   "metadata": {},
   "source": [
    "Reset back to the common index"
   ]
  },
  {
   "cell_type": "code",
   "execution_count": 1154,
   "id": "889014c0-627f-47ba-8d01-ca335166524c",
   "metadata": {},
   "outputs": [],
   "source": [
    "X_sc_df.set_index(X.index, inplace=True)"
   ]
  },
  {
   "cell_type": "markdown",
   "id": "ff2b3d51-859f-4f80-b744-20404da607cc",
   "metadata": {},
   "source": [
    "Grab the dummied columns and join them to the end of the scaled numeric features"
   ]
  },
  {
   "cell_type": "code",
   "execution_count": 1155,
   "id": "6478c18a-5897-4ae5-aefb-547bff51d10c",
   "metadata": {},
   "outputs": [],
   "source": [
    "dummies = X.iloc[:, 6:8]"
   ]
  },
  {
   "cell_type": "code",
   "execution_count": 1156,
   "id": "74db2412-5bb5-49e5-81f4-1a9f845d95dc",
   "metadata": {},
   "outputs": [],
   "source": [
    "X_sc_df = pd.concat([X_sc_df, dummies], axis=1)"
   ]
  },
  {
   "cell_type": "markdown",
   "id": "7d64fb47-ddc8-4339-905d-15fd4ad2cdd7",
   "metadata": {},
   "source": [
    "Cast all feature names to string so the LogReg fit method doesn't complain"
   ]
  },
  {
   "cell_type": "code",
   "execution_count": 1157,
   "id": "a75ecfa9-8ff7-428d-b1e8-f96b15e426b0",
   "metadata": {},
   "outputs": [],
   "source": [
    "X_sc_df.columns = X_sc_df.columns.astype(str)"
   ]
  },
  {
   "cell_type": "markdown",
   "id": "0dba258f-8d47-4d63-95be-a57fedc38845",
   "metadata": {},
   "source": [
    "### Fit the model with the new data"
   ]
  },
  {
   "cell_type": "code",
   "execution_count": 1158,
   "id": "36ebc10c-83cd-4d19-aec0-8ce25f2c71cf",
   "metadata": {},
   "outputs": [],
   "source": [
    "lr2 = LogisticRegressionCV(cv = 5, random_state=2024)"
   ]
  },
  {
   "cell_type": "code",
   "execution_count": 1159,
   "id": "821961a7-1cbf-475d-9c1d-e02febf6bee4",
   "metadata": {},
   "outputs": [
    {
     "data": {
      "text/html": [
       "<style>#sk-container-id-29 {color: black;background-color: white;}#sk-container-id-29 pre{padding: 0;}#sk-container-id-29 div.sk-toggleable {background-color: white;}#sk-container-id-29 label.sk-toggleable__label {cursor: pointer;display: block;width: 100%;margin-bottom: 0;padding: 0.3em;box-sizing: border-box;text-align: center;}#sk-container-id-29 label.sk-toggleable__label-arrow:before {content: \"▸\";float: left;margin-right: 0.25em;color: #696969;}#sk-container-id-29 label.sk-toggleable__label-arrow:hover:before {color: black;}#sk-container-id-29 div.sk-estimator:hover label.sk-toggleable__label-arrow:before {color: black;}#sk-container-id-29 div.sk-toggleable__content {max-height: 0;max-width: 0;overflow: hidden;text-align: left;background-color: #f0f8ff;}#sk-container-id-29 div.sk-toggleable__content pre {margin: 0.2em;color: black;border-radius: 0.25em;background-color: #f0f8ff;}#sk-container-id-29 input.sk-toggleable__control:checked~div.sk-toggleable__content {max-height: 200px;max-width: 100%;overflow: auto;}#sk-container-id-29 input.sk-toggleable__control:checked~label.sk-toggleable__label-arrow:before {content: \"▾\";}#sk-container-id-29 div.sk-estimator input.sk-toggleable__control:checked~label.sk-toggleable__label {background-color: #d4ebff;}#sk-container-id-29 div.sk-label input.sk-toggleable__control:checked~label.sk-toggleable__label {background-color: #d4ebff;}#sk-container-id-29 input.sk-hidden--visually {border: 0;clip: rect(1px 1px 1px 1px);clip: rect(1px, 1px, 1px, 1px);height: 1px;margin: -1px;overflow: hidden;padding: 0;position: absolute;width: 1px;}#sk-container-id-29 div.sk-estimator {font-family: monospace;background-color: #f0f8ff;border: 1px dotted black;border-radius: 0.25em;box-sizing: border-box;margin-bottom: 0.5em;}#sk-container-id-29 div.sk-estimator:hover {background-color: #d4ebff;}#sk-container-id-29 div.sk-parallel-item::after {content: \"\";width: 100%;border-bottom: 1px solid gray;flex-grow: 1;}#sk-container-id-29 div.sk-label:hover label.sk-toggleable__label {background-color: #d4ebff;}#sk-container-id-29 div.sk-serial::before {content: \"\";position: absolute;border-left: 1px solid gray;box-sizing: border-box;top: 0;bottom: 0;left: 50%;z-index: 0;}#sk-container-id-29 div.sk-serial {display: flex;flex-direction: column;align-items: center;background-color: white;padding-right: 0.2em;padding-left: 0.2em;position: relative;}#sk-container-id-29 div.sk-item {position: relative;z-index: 1;}#sk-container-id-29 div.sk-parallel {display: flex;align-items: stretch;justify-content: center;background-color: white;position: relative;}#sk-container-id-29 div.sk-item::before, #sk-container-id-29 div.sk-parallel-item::before {content: \"\";position: absolute;border-left: 1px solid gray;box-sizing: border-box;top: 0;bottom: 0;left: 50%;z-index: -1;}#sk-container-id-29 div.sk-parallel-item {display: flex;flex-direction: column;z-index: 1;position: relative;background-color: white;}#sk-container-id-29 div.sk-parallel-item:first-child::after {align-self: flex-end;width: 50%;}#sk-container-id-29 div.sk-parallel-item:last-child::after {align-self: flex-start;width: 50%;}#sk-container-id-29 div.sk-parallel-item:only-child::after {width: 0;}#sk-container-id-29 div.sk-dashed-wrapped {border: 1px dashed gray;margin: 0 0.4em 0.5em 0.4em;box-sizing: border-box;padding-bottom: 0.4em;background-color: white;}#sk-container-id-29 div.sk-label label {font-family: monospace;font-weight: bold;display: inline-block;line-height: 1.2em;}#sk-container-id-29 div.sk-label-container {text-align: center;}#sk-container-id-29 div.sk-container {/* jupyter's `normalize.less` sets `[hidden] { display: none; }` but bootstrap.min.css set `[hidden] { display: none !important; }` so we also need the `!important` here to be able to override the default hidden behavior on the sphinx rendered scikit-learn.org. See: https://github.com/scikit-learn/scikit-learn/issues/21755 */display: inline-block !important;position: relative;}#sk-container-id-29 div.sk-text-repr-fallback {display: none;}</style><div id=\"sk-container-id-29\" class=\"sk-top-container\"><div class=\"sk-text-repr-fallback\"><pre>LogisticRegressionCV(cv=5, random_state=2024)</pre><b>In a Jupyter environment, please rerun this cell to show the HTML representation or trust the notebook. <br />On GitHub, the HTML representation is unable to render, please try loading this page with nbviewer.org.</b></div><div class=\"sk-container\" hidden><div class=\"sk-item\"><div class=\"sk-estimator sk-toggleable\"><input class=\"sk-toggleable__control sk-hidden--visually\" id=\"sk-estimator-id-29\" type=\"checkbox\" checked><label for=\"sk-estimator-id-29\" class=\"sk-toggleable__label sk-toggleable__label-arrow\">LogisticRegressionCV</label><div class=\"sk-toggleable__content\"><pre>LogisticRegressionCV(cv=5, random_state=2024)</pre></div></div></div></div></div>"
      ],
      "text/plain": [
       "LogisticRegressionCV(cv=5, random_state=2024)"
      ]
     },
     "execution_count": 1159,
     "metadata": {},
     "output_type": "execute_result"
    }
   ],
   "source": [
    "lr2.fit(X_sc_df,y)"
   ]
  },
  {
   "cell_type": "markdown",
   "id": "f1357956-ded9-45da-8173-bb5e91482034",
   "metadata": {},
   "source": [
    "### Evaluate the model"
   ]
  },
  {
   "cell_type": "code",
   "execution_count": 1160,
   "id": "55f019ff-ade5-4970-9a3e-beb02f0367a8",
   "metadata": {},
   "outputs": [
    {
     "data": {
      "text/plain": [
       "0.7620155038759691"
      ]
     },
     "execution_count": 1160,
     "metadata": {},
     "output_type": "execute_result"
    }
   ],
   "source": [
    "np.mean(cross_val_score(lr2, X_sc_df, y))"
   ]
  },
  {
   "cell_type": "code",
   "execution_count": 1161,
   "id": "e60da558-5f3f-46b7-8704-8b89569553b1",
   "metadata": {
    "scrolled": true
   },
   "outputs": [
    {
     "data": {
      "text/plain": [
       "array([0.35938137])"
      ]
     },
     "execution_count": 1161,
     "metadata": {},
     "output_type": "execute_result"
    }
   ],
   "source": [
    "lr2.C_"
   ]
  },
  {
   "cell_type": "code",
   "execution_count": 1162,
   "id": "af8efaec-e034-44d1-9495-1488d3c66d22",
   "metadata": {},
   "outputs": [
    {
     "data": {
      "text/plain": [
       "{1: array([[0.55813953, 0.60465116, 0.65116279, 0.65116279, 0.65116279,\n",
       "         0.65116279, 0.65116279, 0.65116279, 0.65116279, 0.65116279],\n",
       "        [0.51162791, 0.72093023, 0.6744186 , 0.72093023, 0.74418605,\n",
       "         0.74418605, 0.74418605, 0.74418605, 0.74418605, 0.74418605],\n",
       "        [0.53488372, 0.76744186, 0.8372093 , 0.79069767, 0.81395349,\n",
       "         0.76744186, 0.74418605, 0.74418605, 0.74418605, 0.74418605],\n",
       "        [0.48837209, 0.58139535, 0.76744186, 0.76744186, 0.79069767,\n",
       "         0.79069767, 0.79069767, 0.79069767, 0.79069767, 0.79069767],\n",
       "        [0.5       , 0.80952381, 0.78571429, 0.83333333, 0.80952381,\n",
       "         0.78571429, 0.80952381, 0.80952381, 0.80952381, 0.80952381]])}"
      ]
     },
     "execution_count": 1162,
     "metadata": {},
     "output_type": "execute_result"
    }
   ],
   "source": [
    "lr2.scores_"
   ]
  },
  {
   "cell_type": "code",
   "execution_count": 1163,
   "id": "e283d97e-2506-49a3-8a06-3d348d81759e",
   "metadata": {},
   "outputs": [],
   "source": [
    "log_odds2 = np.exp(lr2.coef_)"
   ]
  },
  {
   "cell_type": "code",
   "execution_count": 1164,
   "id": "fff58aa8-9dea-4cc7-9a49-a525ebb1d4ac",
   "metadata": {},
   "outputs": [
    {
     "data": {
      "text/html": [
       "<div>\n",
       "<style scoped>\n",
       "    .dataframe tbody tr th:only-of-type {\n",
       "        vertical-align: middle;\n",
       "    }\n",
       "\n",
       "    .dataframe tbody tr th {\n",
       "        vertical-align: top;\n",
       "    }\n",
       "\n",
       "    .dataframe thead th {\n",
       "        text-align: right;\n",
       "    }\n",
       "</style>\n",
       "<table border=\"1\" class=\"dataframe\">\n",
       "  <thead>\n",
       "    <tr style=\"text-align: right;\">\n",
       "      <th></th>\n",
       "      <th>QB_points</th>\n",
       "      <th>WR1WR2_points</th>\n",
       "      <th>RB1RB2_points</th>\n",
       "      <th>TE_points</th>\n",
       "      <th>DEF_points</th>\n",
       "      <th>W/R/T_points</th>\n",
       "      <th>RB</th>\n",
       "      <th>WR</th>\n",
       "    </tr>\n",
       "  </thead>\n",
       "  <tbody>\n",
       "    <tr>\n",
       "      <th>0</th>\n",
       "      <td>1.659347</td>\n",
       "      <td>2.079883</td>\n",
       "      <td>2.463104</td>\n",
       "      <td>1.434176</td>\n",
       "      <td>1.630769</td>\n",
       "      <td>1.99128</td>\n",
       "      <td>0.75558</td>\n",
       "      <td>0.902308</td>\n",
       "    </tr>\n",
       "  </tbody>\n",
       "</table>\n",
       "</div>"
      ],
      "text/plain": [
       "   QB_points  WR1WR2_points  RB1RB2_points  TE_points  DEF_points  \\\n",
       "0   1.659347       2.079883       2.463104   1.434176    1.630769   \n",
       "\n",
       "   W/R/T_points       RB        WR  \n",
       "0       1.99128  0.75558  0.902308  "
      ]
     },
     "execution_count": 1164,
     "metadata": {},
     "output_type": "execute_result"
    }
   ],
   "source": [
    "pd.DataFrame(log_odds2, columns=X.columns)"
   ]
  },
  {
   "cell_type": "code",
   "execution_count": null,
   "id": "c4b6542d-cfba-4801-8139-721a7b6f3b14",
   "metadata": {},
   "outputs": [],
   "source": []
  },
  {
   "cell_type": "markdown",
   "id": "07ef5a9d-3be0-498d-8956-151fbcec8e49",
   "metadata": {},
   "source": [
    "### Retry a scaled attempt with no TE in Flex position"
   ]
  },
  {
   "cell_type": "code",
   "execution_count": 1165,
   "id": "72b9c376-4d46-488a-8d8b-4aeb1ae6a09b",
   "metadata": {},
   "outputs": [],
   "source": [
    "df = pd.read_csv(data_dir + 'weekly_position_scoring_with_matchup_result.csv')"
   ]
  },
  {
   "cell_type": "code",
   "execution_count": 1166,
   "id": "67bbfb1d-23da-4ab3-b35a-84a32f6cd1d5",
   "metadata": {},
   "outputs": [],
   "source": [
    "df['WR1WR2_points'] = df['WR1_points'] + df['WR2_points']"
   ]
  },
  {
   "cell_type": "code",
   "execution_count": 1167,
   "id": "94f63365-7c29-46ec-bb64-ac2081557d5d",
   "metadata": {},
   "outputs": [],
   "source": [
    "df['RB1RB2_points'] = df['RB1_points'] + df['RB2_points']"
   ]
  },
  {
   "cell_type": "code",
   "execution_count": 1168,
   "id": "10964bf6-ac90-449b-8e3b-ba8a129ef845",
   "metadata": {},
   "outputs": [
    {
     "data": {
      "text/plain": [
       "(214, 27)"
      ]
     },
     "execution_count": 1168,
     "metadata": {},
     "output_type": "execute_result"
    }
   ],
   "source": [
    "df = df[df['season_week'].str.contains('2023')]\n",
    "df = df[df['W/R/T position'] != 'TE']\n",
    "df.shape"
   ]
  },
  {
   "cell_type": "code",
   "execution_count": 1169,
   "id": "fc0600cd-eadb-49bb-8837-23e29db503c6",
   "metadata": {},
   "outputs": [],
   "source": [
    "df['is_RB'] = np.where(df['W/R/T position'] == 'RB', 1,0)"
   ]
  },
  {
   "cell_type": "code",
   "execution_count": 1170,
   "id": "f5461e46-1f03-473f-835f-295bc3b43c25",
   "metadata": {},
   "outputs": [
    {
     "data": {
      "text/plain": [
       "0.34579439252336447"
      ]
     },
     "execution_count": 1170,
     "metadata": {},
     "output_type": "execute_result"
    }
   ],
   "source": [
    "df['is_RB'].mean()"
   ]
  },
  {
   "cell_type": "code",
   "execution_count": 1171,
   "id": "d04516e0-a9cb-4cd1-ab16-e0518db1d08e",
   "metadata": {},
   "outputs": [],
   "source": [
    "df.set_index('season_week', inplace = True)"
   ]
  },
  {
   "cell_type": "code",
   "execution_count": 1172,
   "id": "6933d0d5-beb1-4828-8ead-5021037f3fb7",
   "metadata": {},
   "outputs": [],
   "source": [
    "X = df[['QB_points', 'WR1WR2_points', 'RB1RB2_points', 'TE_points', 'DEF_points', 'W/R/T_points', 'is_RB']]"
   ]
  },
  {
   "cell_type": "code",
   "execution_count": 1173,
   "id": "1f14b4b7-4d06-4ae0-a6db-8423586c9584",
   "metadata": {},
   "outputs": [],
   "source": [
    "y = df['win']"
   ]
  },
  {
   "cell_type": "code",
   "execution_count": 1174,
   "id": "de6685fa-6caa-4de7-b4c3-593a9bd79374",
   "metadata": {},
   "outputs": [
    {
     "data": {
      "text/plain": [
       "array([[ 0.99722755,  0.2143768 , -1.67810112,  0.35065615, -1.50055818,\n",
       "        -0.26789925],\n",
       "       [-0.05494432,  0.20518824,  0.3367137 , -0.56067684,  0.15540805,\n",
       "         0.27448901],\n",
       "       [ 1.05526101, -1.18228412,  0.68444824, -0.56067684,  2.5013602 ,\n",
       "         0.00329488],\n",
       "       ...,\n",
       "       [ 0.51782071,  0.66461618,  1.05263775,  2.92752874,  0.15540805,\n",
       "        -0.43061573],\n",
       "       [ 0.83826633, -1.52226079,  1.33900737, -0.65495267, -1.08656662,\n",
       "        -0.51197397],\n",
       "       [-0.44351618,  0.87595303, -0.75762734,  0.0835413 ,  1.67337708,\n",
       "        -0.41705602]])"
      ]
     },
     "execution_count": 1174,
     "metadata": {},
     "output_type": "execute_result"
    }
   ],
   "source": [
    "X_sc"
   ]
  },
  {
   "cell_type": "code",
   "execution_count": 1175,
   "id": "bc2d1437-134f-4561-8566-a36658a8077d",
   "metadata": {},
   "outputs": [],
   "source": [
    "X_sc = sc.fit_transform(X.drop('is_RB', axis=1))"
   ]
  },
  {
   "cell_type": "code",
   "execution_count": 1176,
   "id": "bfc2df2d-901c-400b-9239-4d9aeaaa2de5",
   "metadata": {},
   "outputs": [],
   "source": [
    "X_sc_df = pd.DataFrame(X_sc)\n",
    "X_sc_df.set_index(X.index, inplace=True)"
   ]
  },
  {
   "cell_type": "code",
   "execution_count": 1177,
   "id": "cb22a1ac-18e2-4491-9789-7d2607bada73",
   "metadata": {},
   "outputs": [],
   "source": [
    "X_sc_df = X_sc_df.join(X['is_RB'])"
   ]
  },
  {
   "cell_type": "code",
   "execution_count": 1178,
   "id": "50f1feb4-4a72-447b-8054-1ed6c7bc3c4a",
   "metadata": {},
   "outputs": [],
   "source": [
    "X_sc_df.columns = X_sc_df.columns.astype(str)"
   ]
  },
  {
   "cell_type": "code",
   "execution_count": 1179,
   "id": "c9c2612d-edb8-471a-bea3-b155e5e873dc",
   "metadata": {},
   "outputs": [],
   "source": [
    "lr3 = LogisticRegressionCV(cv=5, random_state=2024)"
   ]
  },
  {
   "cell_type": "code",
   "execution_count": 1180,
   "id": "f91be491-1593-43a4-9294-e119ed549b77",
   "metadata": {},
   "outputs": [
    {
     "data": {
      "text/html": [
       "<style>#sk-container-id-30 {color: black;background-color: white;}#sk-container-id-30 pre{padding: 0;}#sk-container-id-30 div.sk-toggleable {background-color: white;}#sk-container-id-30 label.sk-toggleable__label {cursor: pointer;display: block;width: 100%;margin-bottom: 0;padding: 0.3em;box-sizing: border-box;text-align: center;}#sk-container-id-30 label.sk-toggleable__label-arrow:before {content: \"▸\";float: left;margin-right: 0.25em;color: #696969;}#sk-container-id-30 label.sk-toggleable__label-arrow:hover:before {color: black;}#sk-container-id-30 div.sk-estimator:hover label.sk-toggleable__label-arrow:before {color: black;}#sk-container-id-30 div.sk-toggleable__content {max-height: 0;max-width: 0;overflow: hidden;text-align: left;background-color: #f0f8ff;}#sk-container-id-30 div.sk-toggleable__content pre {margin: 0.2em;color: black;border-radius: 0.25em;background-color: #f0f8ff;}#sk-container-id-30 input.sk-toggleable__control:checked~div.sk-toggleable__content {max-height: 200px;max-width: 100%;overflow: auto;}#sk-container-id-30 input.sk-toggleable__control:checked~label.sk-toggleable__label-arrow:before {content: \"▾\";}#sk-container-id-30 div.sk-estimator input.sk-toggleable__control:checked~label.sk-toggleable__label {background-color: #d4ebff;}#sk-container-id-30 div.sk-label input.sk-toggleable__control:checked~label.sk-toggleable__label {background-color: #d4ebff;}#sk-container-id-30 input.sk-hidden--visually {border: 0;clip: rect(1px 1px 1px 1px);clip: rect(1px, 1px, 1px, 1px);height: 1px;margin: -1px;overflow: hidden;padding: 0;position: absolute;width: 1px;}#sk-container-id-30 div.sk-estimator {font-family: monospace;background-color: #f0f8ff;border: 1px dotted black;border-radius: 0.25em;box-sizing: border-box;margin-bottom: 0.5em;}#sk-container-id-30 div.sk-estimator:hover {background-color: #d4ebff;}#sk-container-id-30 div.sk-parallel-item::after {content: \"\";width: 100%;border-bottom: 1px solid gray;flex-grow: 1;}#sk-container-id-30 div.sk-label:hover label.sk-toggleable__label {background-color: #d4ebff;}#sk-container-id-30 div.sk-serial::before {content: \"\";position: absolute;border-left: 1px solid gray;box-sizing: border-box;top: 0;bottom: 0;left: 50%;z-index: 0;}#sk-container-id-30 div.sk-serial {display: flex;flex-direction: column;align-items: center;background-color: white;padding-right: 0.2em;padding-left: 0.2em;position: relative;}#sk-container-id-30 div.sk-item {position: relative;z-index: 1;}#sk-container-id-30 div.sk-parallel {display: flex;align-items: stretch;justify-content: center;background-color: white;position: relative;}#sk-container-id-30 div.sk-item::before, #sk-container-id-30 div.sk-parallel-item::before {content: \"\";position: absolute;border-left: 1px solid gray;box-sizing: border-box;top: 0;bottom: 0;left: 50%;z-index: -1;}#sk-container-id-30 div.sk-parallel-item {display: flex;flex-direction: column;z-index: 1;position: relative;background-color: white;}#sk-container-id-30 div.sk-parallel-item:first-child::after {align-self: flex-end;width: 50%;}#sk-container-id-30 div.sk-parallel-item:last-child::after {align-self: flex-start;width: 50%;}#sk-container-id-30 div.sk-parallel-item:only-child::after {width: 0;}#sk-container-id-30 div.sk-dashed-wrapped {border: 1px dashed gray;margin: 0 0.4em 0.5em 0.4em;box-sizing: border-box;padding-bottom: 0.4em;background-color: white;}#sk-container-id-30 div.sk-label label {font-family: monospace;font-weight: bold;display: inline-block;line-height: 1.2em;}#sk-container-id-30 div.sk-label-container {text-align: center;}#sk-container-id-30 div.sk-container {/* jupyter's `normalize.less` sets `[hidden] { display: none; }` but bootstrap.min.css set `[hidden] { display: none !important; }` so we also need the `!important` here to be able to override the default hidden behavior on the sphinx rendered scikit-learn.org. See: https://github.com/scikit-learn/scikit-learn/issues/21755 */display: inline-block !important;position: relative;}#sk-container-id-30 div.sk-text-repr-fallback {display: none;}</style><div id=\"sk-container-id-30\" class=\"sk-top-container\"><div class=\"sk-text-repr-fallback\"><pre>LogisticRegressionCV(cv=5, random_state=2024)</pre><b>In a Jupyter environment, please rerun this cell to show the HTML representation or trust the notebook. <br />On GitHub, the HTML representation is unable to render, please try loading this page with nbviewer.org.</b></div><div class=\"sk-container\" hidden><div class=\"sk-item\"><div class=\"sk-estimator sk-toggleable\"><input class=\"sk-toggleable__control sk-hidden--visually\" id=\"sk-estimator-id-30\" type=\"checkbox\" checked><label for=\"sk-estimator-id-30\" class=\"sk-toggleable__label sk-toggleable__label-arrow\">LogisticRegressionCV</label><div class=\"sk-toggleable__content\"><pre>LogisticRegressionCV(cv=5, random_state=2024)</pre></div></div></div></div></div>"
      ],
      "text/plain": [
       "LogisticRegressionCV(cv=5, random_state=2024)"
      ]
     },
     "execution_count": 1180,
     "metadata": {},
     "output_type": "execute_result"
    }
   ],
   "source": [
    "lr3.fit(X_sc_df, y)"
   ]
  },
  {
   "cell_type": "code",
   "execution_count": 1181,
   "id": "d90a888e-26f5-4f2e-b9d8-41e98571e45b",
   "metadata": {},
   "outputs": [
    {
     "data": {
      "text/plain": [
       "0.7572535991140643"
      ]
     },
     "execution_count": 1181,
     "metadata": {},
     "output_type": "execute_result"
    }
   ],
   "source": [
    "np.mean(cross_val_score(lr3, X_sc_df, y))"
   ]
  },
  {
   "cell_type": "code",
   "execution_count": 1182,
   "id": "6d1680f7-e203-4dd0-b00c-44350848bf87",
   "metadata": {},
   "outputs": [],
   "source": [
    "log_odds3 = np.exp(lr3.coef_)"
   ]
  },
  {
   "cell_type": "code",
   "execution_count": 1183,
   "id": "366621e6-9e6a-4127-a076-9b2d7bf7230c",
   "metadata": {},
   "outputs": [
    {
     "data": {
      "text/html": [
       "<div>\n",
       "<style scoped>\n",
       "    .dataframe tbody tr th:only-of-type {\n",
       "        vertical-align: middle;\n",
       "    }\n",
       "\n",
       "    .dataframe tbody tr th {\n",
       "        vertical-align: top;\n",
       "    }\n",
       "\n",
       "    .dataframe thead th {\n",
       "        text-align: right;\n",
       "    }\n",
       "</style>\n",
       "<table border=\"1\" class=\"dataframe\">\n",
       "  <thead>\n",
       "    <tr style=\"text-align: right;\">\n",
       "      <th></th>\n",
       "      <th>QB_points</th>\n",
       "      <th>WR1WR2_points</th>\n",
       "      <th>RB1RB2_points</th>\n",
       "      <th>TE_points</th>\n",
       "      <th>DEF_points</th>\n",
       "      <th>W/R/T_points</th>\n",
       "      <th>is_RB</th>\n",
       "    </tr>\n",
       "  </thead>\n",
       "  <tbody>\n",
       "    <tr>\n",
       "      <th>Std</th>\n",
       "      <td>8.062564</td>\n",
       "      <td>11.018079</td>\n",
       "      <td>9.927320</td>\n",
       "      <td>6.186331</td>\n",
       "      <td>7.450537</td>\n",
       "      <td>7.602550</td>\n",
       "      <td>0.476742</td>\n",
       "    </tr>\n",
       "    <tr>\n",
       "      <th>Log Odds</th>\n",
       "      <td>1.372124</td>\n",
       "      <td>1.605067</td>\n",
       "      <td>1.691854</td>\n",
       "      <td>1.277638</td>\n",
       "      <td>1.419977</td>\n",
       "      <td>1.547093</td>\n",
       "      <td>0.950726</td>\n",
       "    </tr>\n",
       "  </tbody>\n",
       "</table>\n",
       "</div>"
      ],
      "text/plain": [
       "          QB_points  WR1WR2_points  RB1RB2_points  TE_points  DEF_points  \\\n",
       "Std        8.062564      11.018079       9.927320   6.186331    7.450537   \n",
       "Log Odds   1.372124       1.605067       1.691854   1.277638    1.419977   \n",
       "\n",
       "          W/R/T_points     is_RB  \n",
       "Std           7.602550  0.476742  \n",
       "Log Odds      1.547093  0.950726  "
      ]
     },
     "execution_count": 1183,
     "metadata": {},
     "output_type": "execute_result"
    }
   ],
   "source": [
    "data = [[val for val in X.std()], log_odds3[0].tolist()]\n",
    "\n",
    "pd.DataFrame(data, columns=X.columns, index = ['Std', 'Log Odds'])"
   ]
  },
  {
   "cell_type": "code",
   "execution_count": null,
   "id": "09572d47-8942-423a-bf49-0895fe47852f",
   "metadata": {},
   "outputs": [],
   "source": []
  }
 ],
 "metadata": {
  "kernelspec": {
   "display_name": "Python 3 (ipykernel)",
   "language": "python",
   "name": "python3"
  },
  "language_info": {
   "codemirror_mode": {
    "name": "ipython",
    "version": 3
   },
   "file_extension": ".py",
   "mimetype": "text/x-python",
   "name": "python",
   "nbconvert_exporter": "python",
   "pygments_lexer": "ipython3",
   "version": "3.11.5"
  }
 },
 "nbformat": 4,
 "nbformat_minor": 5
}

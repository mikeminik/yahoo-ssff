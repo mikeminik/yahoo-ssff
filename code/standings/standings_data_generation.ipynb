{
 "cells": [
  {
   "cell_type": "code",
   "execution_count": 28,
   "id": "242193b0-b663-4457-9a0a-d4cdbdcdb3da",
   "metadata": {},
   "outputs": [],
   "source": [
    "%run ../utils.ipynb"
   ]
  },
  {
   "cell_type": "code",
   "execution_count": 3,
   "id": "fbb0aee6-fcdf-4157-bddc-471827cfe5e5",
   "metadata": {},
   "outputs": [
    {
     "name": "stderr",
     "output_type": "stream",
     "text": [
      "[2024-01-10 14:36:52,645 DEBUG] [matplotlib.__init__.wrapper] matplotlib data path: C:\\Users\\mikem\\anaconda3\\Lib\\site-packages\\matplotlib\\mpl-data\n",
      "[2024-01-10 14:36:52,649 DEBUG] [matplotlib.__init__.wrapper] CONFIGDIR=C:\\Users\\mikem\\.matplotlib\n",
      "[2024-01-10 14:36:52,651 DEBUG] [matplotlib.__init__.<module>] interactive is False\n",
      "[2024-01-10 14:36:52,651 DEBUG] [matplotlib.__init__.<module>] platform is win32\n",
      "[2024-01-10 14:36:52,699 DEBUG] [matplotlib.__init__.wrapper] CACHEDIR=C:\\Users\\mikem\\.matplotlib\n",
      "[2024-01-10 14:36:52,702 DEBUG] [matplotlib.font_manager.font_manager._load_fontmanager] Using fontManager instance from C:\\Users\\mikem\\.matplotlib\\fontlist-v330.json\n",
      "[2024-01-10 14:36:52,702 DEBUG] [matplotlib.font_manager.font_manager._load_fontmanager] Using fontManager instance from C:\\Users\\mikem\\.matplotlib\\fontlist-v330.json\n"
     ]
    }
   ],
   "source": [
    "import os\n",
    "import sys\n",
    "from logging import DEBUG\n",
    "from pathlib import Path\n",
    "\n",
    "from dotenv import load_dotenv\n",
    "\n",
    "from yfpy import Data\n",
    "from yfpy.logger import get_logger\n",
    "from yfpy.query import YahooFantasySportsQuery\n",
    "\n",
    "import pandas as pd\n",
    "import numpy as np\n",
    "import matplotlib.pyplot as plt\n",
    "\n",
    "import json"
   ]
  },
  {
   "cell_type": "markdown",
   "id": "1d8cfaf4-3de9-4123-9d58-1b618f9afc56",
   "metadata": {},
   "source": [
    "### Setup"
   ]
  },
  {
   "cell_type": "code",
   "execution_count": 4,
   "id": "547c61d6-5a90-4465-83d2-dab34a7ba5ff",
   "metadata": {},
   "outputs": [],
   "source": [
    "auth_dir = f\"{project_dir}/auth\""
   ]
  },
  {
   "cell_type": "code",
   "execution_count": 5,
   "id": "ab51eaa8-2e69-4ba7-a21c-29caae728d73",
   "metadata": {},
   "outputs": [],
   "source": [
    "data_dir = f\"{project_dir}/output\""
   ]
  },
  {
   "cell_type": "code",
   "execution_count": 26,
   "id": "8d020a29-0921-4177-89ce-40579bef8d21",
   "metadata": {},
   "outputs": [],
   "source": [
    "data = Data(data_dir)"
   ]
  },
  {
   "cell_type": "markdown",
   "id": "eaefb1d5-0e5a-4bab-8a4e-d466fa7ced89",
   "metadata": {},
   "source": [
    "### Regenerate functions (infrequent use)"
   ]
  },
  {
   "cell_type": "code",
   "execution_count": 30,
   "id": "995a9acf-c08b-448a-a610-c300038385f6",
   "metadata": {},
   "outputs": [],
   "source": [
    "def write_league_standings(game_keys = Game_Keys, league_ids = League_Ids):\n",
    "    \"\"\"\n",
    "    Generates JSON files containing YFPY Team objects that can represent the current or past standings, among other information\n",
    "\n",
    "    By default will use the Game_Keys and League_Ids global variables from utils.ipynb, and attempt to generate standings for all seasons within those.\n",
    "\n",
    "    Can be filtered by passing an specific seasons in game_keys\n",
    "    \"\"\"\n",
    "    #TO DO: write this to be less specific in its arguments so it can be incorporated into a weekly pipeline\n",
    "    \n",
    "    for year, id in zip(game_keys['season'], game_keys['code']):\n",
    "        print(f\"Attempting to write year {year}\")\n",
    "\n",
    "        #make query representing a year of fantasy league\n",
    "        yahoo_query = YahooFantasySportsQuery(\n",
    "                auth_dir,\n",
    "                league_id=league_ids[str(year)],\n",
    "                game_code='nfl',\n",
    "                game_id=id\n",
    "            )\n",
    "        try:\n",
    "            data.save(file_name=f\"standings_year_{year}\", yf_query=yahoo_query.get_league_standings)\n",
    "        except:\n",
    "            print(f\"Could not save data for year: {year}, code: {id}\")\n",
    "        else:\n",
    "            pass"
   ]
  },
  {
   "cell_type": "markdown",
   "id": "56324345-f804-45e0-93bf-5609690b4786",
   "metadata": {},
   "source": [
    "### Output data"
   ]
  },
  {
   "cell_type": "code",
   "execution_count": 27,
   "id": "abcd69bc-23b2-45f9-9e80-6fc9c70e5f83",
   "metadata": {},
   "outputs": [
    {
     "name": "stdout",
     "output_type": "stream",
     "text": [
      "Attempting to write year 2023\n"
     ]
    }
   ],
   "source": [
    "# Uncomment to regenerate standings per modern era year if needed\n",
    "# write_league_standings(game_keys[game_keys['season'] == 2023], league_ids)"
   ]
  },
  {
   "cell_type": "markdown",
   "id": "44323595-1d0b-414f-8dd5-d5ae89b3d14e",
   "metadata": {},
   "source": [
    "### Generate fresh standings dataframe"
   ]
  },
  {
   "cell_type": "code",
   "execution_count": 47,
   "id": "a9a2303e-2a9d-4940-ba39-8f5fcacbfdd6",
   "metadata": {},
   "outputs": [],
   "source": [
    "# Prepare a list of filenames only (no extensions) for use with the YFPY Data.load method\n",
    "standings_filenames = [filename.replace('.json','') for filename in os.listdir(f\"{project_dir}\\\\output\\\\standings_by_season\\\\\") if '.json' in filename]"
   ]
  },
  {
   "cell_type": "code",
   "execution_count": 48,
   "id": "08fd98eb-056b-4fb8-a8f5-85a47d0683eb",
   "metadata": {},
   "outputs": [],
   "source": [
    "all_team_stats = []\n",
    "\n",
    "# load each file (season) by name, results in a \"Teams\" object\n",
    "for file in standings_filenames:\n",
    "    working_file = data.load(f'standings_by_season/{file}')\n",
    "\n",
    "    # loop through each Team object in Teams and serialize it so it can be appended as a dict \n",
    "    for i in working_file['teams']:\n",
    "        team_info = i['team'].serialized()\n",
    "\n",
    "        # add an dditional key for the year so it is there for reference\n",
    "        team_info['season'] = file.replace('standings_year_','')\n",
    "\n",
    "        # add to master record\n",
    "        all_team_stats.append(team_info)"
   ]
  },
  {
   "cell_type": "code",
   "execution_count": 49,
   "id": "3cd22797-6d5c-42a3-bcc8-8d6c45db5cbc",
   "metadata": {},
   "outputs": [],
   "source": [
    "# create a dataframe and raise all nested json objects to a single row\n",
    "standings_to_date_df = pd.json_normalize(all_team_stats)"
   ]
  },
  {
   "cell_type": "code",
   "execution_count": 62,
   "id": "82c2bf7d-2812-4f08-801f-8d2616f57b54",
   "metadata": {},
   "outputs": [],
   "source": [
    "# export result\n",
    "standings_to_date_df.to_csv(f\"{project_dir}\\\\data\\\\standings\\\\standings_to_date.csv\", index=False)"
   ]
  },
  {
   "cell_type": "code",
   "execution_count": null,
   "id": "dd40d979-9a85-419d-a6fd-01e4fa00138a",
   "metadata": {},
   "outputs": [],
   "source": []
  }
 ],
 "metadata": {
  "kernelspec": {
   "display_name": "Python 3 (ipykernel)",
   "language": "python",
   "name": "python3"
  },
  "language_info": {
   "codemirror_mode": {
    "name": "ipython",
    "version": 3
   },
   "file_extension": ".py",
   "mimetype": "text/x-python",
   "name": "python",
   "nbconvert_exporter": "python",
   "pygments_lexer": "ipython3",
   "version": "3.11.5"
  }
 },
 "nbformat": 4,
 "nbformat_minor": 5
}

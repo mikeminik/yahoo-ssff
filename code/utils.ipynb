{
 "cells": [
  {
   "cell_type": "code",
   "execution_count": 5,
   "id": "90cba240-d9d9-4014-bee2-06ccdd9a444e",
   "metadata": {},
   "outputs": [
    {
     "name": "stderr",
     "output_type": "stream",
     "text": [
      "[2024-01-10 16:53:48,393 INFO] [numexpr.utils.utils._init_num_threads] Note: NumExpr detected 16 cores but \"NUMEXPR_MAX_THREADS\" not set, so enforcing safe limit of 8.\n"
     ]
    }
   ],
   "source": [
    "from yfpy import Data\n",
    "import pandas as pd\n",
    "import os\n",
    "import json"
   ]
  },
  {
   "cell_type": "code",
   "execution_count": 6,
   "id": "b0a30e31-4d2e-48ea-aec9-c4a4836ab8e0",
   "metadata": {},
   "outputs": [],
   "source": [
    "os.environ[\"BASE_PATH\"] = \"C:\\\\users\\\\mikem\\\\yahoo\\\\yahoo-app\\\\\""
   ]
  },
  {
   "cell_type": "code",
   "execution_count": 7,
   "id": "e6adc163-1b3b-4dd6-8f98-fa7b1bae022d",
   "metadata": {},
   "outputs": [],
   "source": [
    "project_dir = os.environ.get(\"BASE_PATH\")"
   ]
  },
  {
   "cell_type": "code",
   "execution_count": 8,
   "id": "d554c95e-3b19-4c43-ac25-8918ab3e0272",
   "metadata": {},
   "outputs": [],
   "source": [
    "yfpy_data_dir = f\"{project_dir}/output\""
   ]
  },
  {
   "cell_type": "code",
   "execution_count": 9,
   "id": "c23e1666-2415-4eda-a986-73f3559aca64",
   "metadata": {},
   "outputs": [],
   "source": [
    "def get_manager_nickname(string):\n",
    "    '''\n",
    "    Returns the nickname (human name) of the manager listed in the manager section of the YFPY Team object\n",
    "    if it is read in as a string.\n",
    "\n",
    "    Useful if the manager information has been read in from a CSV, for example.\n",
    "    '''\n",
    "    #TODO: redo this using regex or isalnum\n",
    "    manager_info = string.split('\"manager_id\"')[1]\n",
    "    manager_info_halves = manager_info.strip(\"})']\").replace(\"\\n\",\"\").replace(' ','').replace(':','').replace(',','').strip().split('\"nickname\"')\n",
    "    nickname = manager_info_halves[1].replace('\"','')\n",
    "    nickname = nickname.capitalize()\n",
    "    return nickname\n",
    "    "
   ]
  },
  {
   "cell_type": "code",
   "execution_count": 10,
   "id": "327cb9e2-13b7-4e80-bf49-1054a0ca59df",
   "metadata": {},
   "outputs": [],
   "source": [
    "def get_manager_id(string):\n",
    "    '''\n",
    "    Returns the ID of the manager listed in the manager section of the YFPY Team object\n",
    "    if it is read in as a string.\n",
    "\n",
    "    Useful if the manager information has been read in from a CSV, for example.\n",
    "    '''\n",
    "    manager_info = string.split('\"manager_id\"')[1]\n",
    "    manager_info_halves = manager_info.strip(\"})']\").replace(\"\\n\",\"\").replace(' ','').replace(':','').replace(',','').strip().split('\"nickname\"')\n",
    "    id = manager_info_halves[0]\n",
    "    return id"
   ]
  },
  {
   "cell_type": "code",
   "execution_count": 11,
   "id": "cbd6131f-2b90-4639-a4d0-70725433cb9b",
   "metadata": {},
   "outputs": [],
   "source": [
    "def rename_standings_raw_data(dataframe):\n",
    "    '''\n",
    "    Rename commonly used features from standings data\n",
    "    '''\n",
    "    df = dataframe.rename({\n",
    "                    'name': 'team_name',\n",
    "                    'team_standings.rank' : 'standings_position',\n",
    "                    'team_standings.outcome_totals.wins' : 'wins',\n",
    "                    'team_standings.outcome_totals.losses' : 'losses',\n",
    "                    'team_standings.outcome_totals.ties' : 'ties',\n",
    "                    'team_standings.outcome_totals.percentage' : 'win_percentage',\n",
    "                    'team_standings.points_for': 'points_for',\n",
    "                    'team_standings.points_against' : 'points_against',\n",
    "                    'team_standings.playoff_seed' : 'playoff_seed'\n",
    "                }, axis = 1)\n",
    "    return df"
   ]
  },
  {
   "cell_type": "code",
   "execution_count": 12,
   "id": "c388a9f5-8aed-4959-b9d8-b3e9e0b8bf11",
   "metadata": {},
   "outputs": [],
   "source": [
    "def map_teams_to_name(team_name):\n",
    "    map = {\n",
    "        'starr is born': 'Nick',\n",
    "        '#1 patriots fan': 'Nick',\n",
    "        'thug bungalow': 'Michael',\n",
    "        'the ice cold bruschi' : 'Ricky',\n",
    "        'who invited canada' : 'Peter',\n",
    "        'the fishingtons' : 'Buddy',\n",
    "        'the scientist' : 'Kyle',\n",
    "        'gibbs me a break': 'Kyle',\n",
    "        \"victor cruisin\": 'Frags',\n",
    "        'big blue': 'Frags',\n",
    "        'saquon these nuts' : 'Frags',\n",
    "        \"jadeveon's hit men\" : 'Tim',\n",
    "        'immortal duffmen': 'Pat',\n",
    "        'thunder crotches': 'Jake',\n",
    "        \"kurtz' horror\": 'Jones',\n",
    "        'the twelve apostles': 'Jones',\n",
    "        \"lauren's legit team\": 'Lauren',\n",
    "        'supercam that ho': 'Lauren',\n",
    "        \"john brown's army\": 'Eric',\n",
    "        \"we're back\": 'Nate',\n",
    "        'wereback': 'Nate',\n",
    "        'the dirty diapers': 'Big Rick'\n",
    "    }\n",
    "    if team_name.lower() in map.keys():\n",
    "        return map[team_name.lower()]\n",
    "    else:\n",
    "        return 'unknown'"
   ]
  },
  {
   "cell_type": "code",
   "execution_count": 13,
   "id": "c3503518-df81-46a9-8d36-066d4570ff3b",
   "metadata": {},
   "outputs": [],
   "source": [
    "# def generate_season_matchup_data(yahoo_query, team_ids):\n",
    "#     '''\n",
    "#     Returns a ready-made dataframe containing information on each individual matchup for the season.\n",
    "\n",
    "#     Required parameters:\n",
    "#     --------------------\n",
    "#     - yahoo_query: YFPY yahoo query object that has been scoped to a specific season.\n",
    "#     - team_ids: (list) IDs assigned to each team by Yahoo, can be obtained from YFPY or Yahoo Fantasy API directly\n",
    "    \n",
    "#     '''\n",
    "#     all_season_results = []\n",
    "#     for id in team_ids:\n",
    "#         print(f\"Generating season matchup data for team ID {id}\")\n",
    "#         for matchup in yahoo_query.get_team_matchups(id):\n",
    "#             #create and append a result for each matchup for a team before moving to the next\n",
    "#             result = {\n",
    "#                 'week' : matchup.teams[0].team_points.week,\n",
    "#                 'team_name' : matchup.teams[0].name,\n",
    "#                 'season_id' : matchup.teams[0].managers[0].manager_id,\n",
    "#                 'manager_name' : matchup.teams[0].managers[0].nickname,\n",
    "#                 'opponent_team_name' : matchup.teams[1].name,\n",
    "#                 'opponent_season_id' : matchup.teams[1].managers[0].manager_id,\n",
    "#                 'opponent_name' : matchup.teams[1].managers[0].nickname,\n",
    "#                 'projected_points_for' : matchup.teams[0].team_projected_points.total,\n",
    "#                 'points_for' : matchup.teams[0].team_points.total,\n",
    "#                 'projected_points_against' : matchup.teams[1].team_projected_points.total,\n",
    "#                 'points_against' : matchup.teams[1].team_points.total\n",
    "#                 }\n",
    "#             all_season_results.append(result)\n",
    "#     return pd.DataFrame(all_season_results)"
   ]
  },
  {
   "cell_type": "code",
   "execution_count": 4,
   "id": "83761e25-4281-48b5-b8c7-1ae9fb52164c",
   "metadata": {},
   "outputs": [],
   "source": [
    "def generate_weekly_matchup_data(yahoo_query, weeks):\n",
    "    '''\n",
    "    Returns a dataframe containing information on each individual matchup for the season from the perspective of each manager, each week\n",
    "\n",
    "    Required parameters:\n",
    "    --------------------\n",
    "    - yahoo_query: YFPY yahoo query object that has been scoped to a specific season.\n",
    "    - weeks: array-like : eligible weeks for retrieve matchups for\n",
    "    \n",
    "    '''\n",
    "    \n",
    "    all_results = []\n",
    "    for week in weeks:\n",
    "        print(f\"Generating season matchup data for week {week}\")\n",
    "        for matchup in yahoo_query.get_league_matchups_by_week(week):\n",
    "            #create and append a result for each matchup for a team before moving to the next\n",
    "            result = {\n",
    "                'week' : week,\n",
    "                'team_name' : matchup.teams[0].name,\n",
    "                'season_id' : matchup.teams[0].managers[0].manager_id,\n",
    "                'manager_name' : matchup.teams[0].managers[0].nickname,\n",
    "                'opponent_team_name' : matchup.teams[1].name,\n",
    "                'opponent_season_id' : matchup.teams[1].managers[0].manager_id,\n",
    "                'opponent_name' : matchup.teams[1].managers[0].nickname,\n",
    "                'projected_points_for' : matchup.teams[0].team_projected_points.total,\n",
    "                'points_for' : matchup.teams[0].team_points.total,\n",
    "                'projected_points_against' : matchup.teams[1].team_projected_points.total,\n",
    "                'points_against' : matchup.teams[1].team_points.total,\n",
    "                'inverse_matchup' : 0\n",
    "                }\n",
    "            result_inverse = {\n",
    "                'week' : week,\n",
    "                'team_name' : matchup.teams[1].name,\n",
    "                'season_id' : matchup.teams[1].managers[0].manager_id,\n",
    "                'manager_name' : matchup.teams[1].managers[0].nickname,\n",
    "                'opponent_team_name' : matchup.teams[0].name,\n",
    "                'opponent_season_id' : matchup.teams[0].managers[0].manager_id,\n",
    "                'opponent_name' : matchup.teams[0].managers[0].nickname,\n",
    "                'projected_points_for' : matchup.teams[1].team_projected_points.total,\n",
    "                'points_for' : matchup.teams[1].team_points.total,\n",
    "                'projected_points_against' : matchup.teams[0].team_projected_points.total,\n",
    "                'points_against' : matchup.teams[0].team_points.total,\n",
    "                'inverse_matchup' : 1\n",
    "            }\n",
    "            all_results.append(result)\n",
    "            all_results.append(result_inverse)\n",
    "    return pd.DataFrame(all_results)"
   ]
  },
  {
   "cell_type": "code",
   "execution_count": 14,
   "id": "a6343f81-4a14-48fb-9114-15f7bdfb3572",
   "metadata": {},
   "outputs": [],
   "source": [
    "def generate_roster_points_by_week(yfpy_yahoo_query):\n",
    "    \"\"\"\n",
    "    Takes yfpy get_team_roster_player_stats_by_week output and returns a simplified dict containing each position's name, key, and points.\n",
    "\n",
    "    Parameters:\n",
    "    --------------------\n",
    "    - yfpy_yahoo_query, YFPY Players object: Typically the output of get_team_roster_player_stats_by_week Yahoo Fantasy Query method\n",
    "\n",
    "    \"\"\"\n",
    "    weekly_stats = {}\n",
    "    position_counter = {\n",
    "        'BN' : 0,\n",
    "        'WR' : 0,\n",
    "        'RB' : 0\n",
    "    }\n",
    "    for player in yfpy_yahoo_query:\n",
    "        position = player.selected_position.position\n",
    "    \n",
    "        if position in position_counter.keys():\n",
    "            position_counter[position]+=1\n",
    "            position = position + str(position_counter[position])\n",
    "            \n",
    "        weekly_stats[position] = player.name.full\n",
    "        weekly_stats[f\"{position}_player_key\"] = player.player_key\n",
    "        weekly_stats[f\"{position}_points\"] = player.player_points.total\n",
    "            \n",
    "    for i in range(position_counter['BN']+1, 7):\n",
    "        weekly_stats[f\"BN{i}\"] = None\n",
    "        weekly_stats[f\"BN{i}_points\"] = None\n",
    "    return weekly_stats\n"
   ]
  },
  {
   "cell_type": "code",
   "execution_count": 15,
   "id": "a6a6c657-ecb7-47a8-ba72-dfbdc1a6861f",
   "metadata": {},
   "outputs": [],
   "source": [
    "def get_game_keys(modern_era=True):\n",
    "    \"\"\"\n",
    "    Returns a Pandas dataframe showing the Yahoo-assigned game keys for fantasy football seasons.\n",
    "\n",
    "    Parameters:\n",
    "    --------------------\n",
    "    - modern_era, bool: when True, returns keys from the year 2015 on\n",
    "\n",
    "    \"\"\"\n",
    "    data = Data(yfpy_data_dir)\n",
    "    game_keys = data.load('game_keys')\n",
    "    game_keys_list = []\n",
    "    for game in game_keys:\n",
    "        entry = {'season': game.season, 'code': game.game_id}\n",
    "        game_keys_list.append(entry)\n",
    "    game_keys_df = pd.DataFrame(game_keys_list)\n",
    "    if modern_era:\n",
    "        return game_keys_df[game_keys_df['season'] >= 2015]\n",
    "    else:\n",
    "        return game_keys_df"
   ]
  },
  {
   "cell_type": "code",
   "execution_count": 16,
   "id": "d002847d-62a7-44c7-98fd-6b39abeaa689",
   "metadata": {},
   "outputs": [],
   "source": [
    "def get_league_ids():\n",
    "    \"\"\"\n",
    "    Returns a dict containing league_ids as derived from the league_ids.json contained in the output Data directory\n",
    "\n",
    "    Parameters:\n",
    "    --------------------\n",
    "    (None)\n",
    "\n",
    "    \"\"\"\n",
    "    with open(os.path.join(project_dir + \"\\\\output\\\\league_ids.json\")) as f:\n",
    "        league_ids = json.load(f)\n",
    "    return league_ids\n"
   ]
  },
  {
   "cell_type": "code",
   "execution_count": 17,
   "id": "20505cc2-c6bb-4708-b409-df4c4f2798d4",
   "metadata": {},
   "outputs": [],
   "source": [
    "Game_Keys = get_game_keys()"
   ]
  },
  {
   "cell_type": "code",
   "execution_count": 18,
   "id": "de7193b6-1899-42b2-9e4a-32bd37f34f4a",
   "metadata": {},
   "outputs": [],
   "source": [
    "League_Ids = get_league_ids()"
   ]
  },
  {
   "cell_type": "code",
   "execution_count": 21,
   "id": "3649234a-7996-456d-a764-3a41d8059fe8",
   "metadata": {},
   "outputs": [],
   "source": [
    "def get_query_auth_ids():\n",
    "    ids = {}\n",
    "    for y, gk, l in zip(League_Ids.keys(), Game_Keys['code'], League_Ids.values()):\n",
    "        ids[y] = [l, gk]\n",
    "    return ids"
   ]
  },
  {
   "cell_type": "code",
   "execution_count": 23,
   "id": "d2dfc5fd-420e-48c5-8b27-ad8b246f20bd",
   "metadata": {},
   "outputs": [],
   "source": [
    "Query_Auth_Ids = get_query_auth_ids()"
   ]
  },
  {
   "cell_type": "code",
   "execution_count": null,
   "id": "2edfd721-9025-4b61-a97b-403183145fdd",
   "metadata": {},
   "outputs": [],
   "source": []
  }
 ],
 "metadata": {
  "kernelspec": {
   "display_name": "Python 3 (ipykernel)",
   "language": "python",
   "name": "python3"
  },
  "language_info": {
   "codemirror_mode": {
    "name": "ipython",
    "version": 3
   },
   "file_extension": ".py",
   "mimetype": "text/x-python",
   "name": "python",
   "nbconvert_exporter": "python",
   "pygments_lexer": "ipython3",
   "version": "3.11.5"
  }
 },
 "nbformat": 4,
 "nbformat_minor": 5
}

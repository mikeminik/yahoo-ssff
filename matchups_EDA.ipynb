{
 "cells": [
  {
   "cell_type": "code",
   "execution_count": 24,
   "id": "db355542-4c4e-4c44-bf8d-81c318a78952",
   "metadata": {},
   "outputs": [],
   "source": [
    "%run utils.ipynb"
   ]
  },
  {
   "cell_type": "code",
   "execution_count": 25,
   "id": "fc809fd7-bbce-4182-81f6-357ce56a284c",
   "metadata": {},
   "outputs": [],
   "source": [
    "import numpy as np\n",
    "import pandas as pd\n",
    "import matplotlib.pyplot as plt\n",
    "\n",
    "from ipywidgets import interact\n"
   ]
  },
  {
   "cell_type": "code",
   "execution_count": 26,
   "id": "798b596d-3370-4295-8530-84f9c99e02ad",
   "metadata": {},
   "outputs": [],
   "source": [
    "df = pd.read_csv('to_date_seasons_raw.csv')"
   ]
  },
  {
   "cell_type": "code",
   "execution_count": 27,
   "id": "4c922d94-513d-427b-b615-cfe11232780b",
   "metadata": {},
   "outputs": [],
   "source": [
    "df['team_name'] = df['team_name'].apply(lambda name: name[1:])\n",
    "df['opponent_team_name'] = df['opponent_team_name'].apply(lambda name: name[1:])"
   ]
  },
  {
   "cell_type": "code",
   "execution_count": 28,
   "id": "3ed97752-e067-43ed-9271-43ffe2ec1b28",
   "metadata": {},
   "outputs": [],
   "source": [
    "df['team_name'] = df['team_name'].apply(lambda x: x.strip('\"').strip(\"'\"))\n",
    "df['opponent_team_name'] = df['opponent_team_name'].apply(lambda x: x.strip('\"').strip(\"'\"))"
   ]
  },
  {
   "cell_type": "code",
   "execution_count": 29,
   "id": "7ff51d6e-4cc0-46f7-be79-686e60150b9e",
   "metadata": {},
   "outputs": [],
   "source": [
    "df['manager_name'] = df['team_name'].apply(map_teams_to_name)\n",
    "df['opponent_name'] = df['opponent_team_name'].apply(map_teams_to_name)"
   ]
  },
  {
   "cell_type": "code",
   "execution_count": 33,
   "id": "c8b74208-6d8f-4318-bf87-0466a0c51d8b",
   "metadata": {},
   "outputs": [],
   "source": [
    "df.rename({'season_id': 'in_season_manager_id'}, axis=1, inplace=True)"
   ]
  },
  {
   "cell_type": "code",
   "execution_count": 35,
   "id": "bf233105-d57e-4377-a9a5-0204339674a6",
   "metadata": {},
   "outputs": [],
   "source": [
    "df.rename({'opponent_season_id': 'in_season_opponent_manager_id'}, axis=1, inplace=True)"
   ]
  },
  {
   "cell_type": "code",
   "execution_count": 38,
   "id": "c1926c84-18a5-49f8-9ae2-491ee64892fa",
   "metadata": {},
   "outputs": [],
   "source": [
    "df['win'] = np.where(df['points_for'] > df['points_against'], 1, 0)"
   ]
  },
  {
   "cell_type": "code",
   "execution_count": 42,
   "id": "8f8395c9-3569-4a5c-a428-7cee1252b537",
   "metadata": {},
   "outputs": [],
   "source": [
    "df.to_csv('to_date_data_tidy.csv', index=False)"
   ]
  },
  {
   "cell_type": "code",
   "execution_count": null,
   "id": "c8186294-4101-424f-875a-8220b284f504",
   "metadata": {},
   "outputs": [],
   "source": []
  }
 ],
 "metadata": {
  "kernelspec": {
   "display_name": "Python 3 (ipykernel)",
   "language": "python",
   "name": "python3"
  },
  "language_info": {
   "codemirror_mode": {
    "name": "ipython",
    "version": 3
   },
   "file_extension": ".py",
   "mimetype": "text/x-python",
   "name": "python",
   "nbconvert_exporter": "python",
   "pygments_lexer": "ipython3",
   "version": "3.11.5"
  }
 },
 "nbformat": 4,
 "nbformat_minor": 5
}

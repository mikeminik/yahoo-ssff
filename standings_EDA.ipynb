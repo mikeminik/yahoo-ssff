{
 "cells": [
  {
   "cell_type": "code",
   "execution_count": 49,
   "id": "041d028d-81b9-46ac-a571-b98f102e80c9",
   "metadata": {},
   "outputs": [],
   "source": [
    "%run utils.ipynb"
   ]
  },
  {
   "cell_type": "code",
   "execution_count": 50,
   "id": "d26644f6-8364-40fc-b844-3268d2cd2bad",
   "metadata": {},
   "outputs": [],
   "source": [
    "import numpy as np\n",
    "import pandas as pd\n",
    "import matplotlib.pyplot as plt\n",
    "\n",
    "from ipywidgets import interact\n",
    "\n"
   ]
  },
  {
   "cell_type": "code",
   "execution_count": 31,
   "id": "63687fc4-2562-4c33-98b0-48814bf2db3f",
   "metadata": {},
   "outputs": [],
   "source": [
    "df = pd.read_csv('./output/standings_to_date.csv')"
   ]
  },
  {
   "cell_type": "code",
   "execution_count": 51,
   "id": "bc7ef4ac-c5b7-47fd-8ca0-c111b29d436c",
   "metadata": {},
   "outputs": [],
   "source": [
    "df = rename_standings_raw_data(df)"
   ]
  },
  {
   "cell_type": "code",
   "execution_count": 34,
   "id": "b20bf3d1-165e-43ce-a655-3422df20c5a4",
   "metadata": {},
   "outputs": [],
   "source": [
    "df['manager_nickname'] = df['managers.manager'].apply(get_manager_nickname)\n",
    "df['manager_id'] = df['managers.manager'].apply(get_manager_id)\n"
   ]
  },
  {
   "cell_type": "code",
   "execution_count": 35,
   "id": "51fd3607-2c14-4a7d-a34f-1bdca2c554d8",
   "metadata": {},
   "outputs": [],
   "source": [
    "df['name'] = df['name'].apply(lambda x: x[1:])"
   ]
  },
  {
   "cell_type": "code",
   "execution_count": 36,
   "id": "0781bbec-9d6d-420c-9436-518e7c654ab4",
   "metadata": {},
   "outputs": [],
   "source": [
    "df.loc[df['name'] == \"'Thug Bungalow'\", 'manager_nickname'] = 'Michael'"
   ]
  },
  {
   "cell_type": "code",
   "execution_count": 37,
   "id": "ab132993-8d1c-4704-a750-0b4e10edec69",
   "metadata": {},
   "outputs": [],
   "source": [
    "df.loc[df['name'] == \"'The fishingtons'\", 'manager_nickname'] = 'Buddy'"
   ]
  },
  {
   "cell_type": "code",
   "execution_count": 38,
   "id": "43333165-bb9c-4a90-9a79-0da6e95b33ef",
   "metadata": {},
   "outputs": [],
   "source": [
    "df.loc[df['manager_nickname'] == 'Mattjones', 'manager_nickname'] = 'Jones'"
   ]
  },
  {
   "cell_type": "code",
   "execution_count": 57,
   "id": "00ec64ac-c9bc-4337-95bb-843a325d6c40",
   "metadata": {},
   "outputs": [],
   "source": [
    "df.loc[df['manager_nickname'] == 'Matt', 'manager_nickname'] = 'Matt Frags'"
   ]
  },
  {
   "cell_type": "code",
   "execution_count": 39,
   "id": "12391841-339d-4a4f-98b7-3854be00b9fc",
   "metadata": {},
   "outputs": [],
   "source": [
    "df.loc[df['manager_nickname'] == 'Pd', 'manager_nickname'] = 'Pat'"
   ]
  },
  {
   "cell_type": "code",
   "execution_count": 123,
   "id": "5300c1d0-73e6-4094-935e-73428201a71b",
   "metadata": {},
   "outputs": [
    {
     "data": {
      "application/vnd.jupyter.widget-view+json": {
       "model_id": "0b457fd3f290443db7a5547bacacc2fd",
       "version_major": 2,
       "version_minor": 0
      },
      "text/plain": [
       "interactive(children=(Dropdown(description='team', options=('Nick', 'Michael', 'Ricky', 'Peter', 'Buddy', 'Kyl…"
      ]
     },
     "metadata": {},
     "output_type": "display_data"
    }
   ],
   "source": [
    "@interact\n",
    "\n",
    "def win_percentage_by_season(team = list(df['manager_nickname'].unique())):\n",
    "\n",
    "    filtered_df = df[df['manager_nickname'] == team][['season','team_name', 'win_percentage', 'standings_position']]\n",
    "\n",
    "    colors = np.where(filtered_df['win_percentage'] >= 0.5, 'navy', 'orange')\n",
    "    plt.figure(figsize=(12,8))\n",
    "    xmin = filtered_df.season.iloc[0]\n",
    "    xmax = filtered_df.season.iloc[-1]\n",
    "    plt.vlines(filtered_df['season'], ymin=0.5, ymax=filtered_df['win_percentage'], color=colors, alpha=.3)\n",
    "    plt.scatter(filtered_df['season'], y=filtered_df['win_percentage'], color=colors, s=50)\n",
    "    plt.ylim(0,1)\n",
    "    plt.hlines(0.5,xmin, xmax,linestyles='dotted', color='grey', alpha = 0.2)\n",
    "    plt.title(f\"Win Percentage: {team}\", size = 16)\n",
    "    plt.ylabel('Win Percentage', size = 14)\n",
    "    plt.xlabel('Season', size = 14)\n",
    "    \n",
    "    \n",
    "    plt.show()"
   ]
  },
  {
   "cell_type": "markdown",
   "id": "d252cd38-e969-4fef-acfc-5c6c52d785b2",
   "metadata": {},
   "source": [
    "Questions to ask:\n",
    "\n",
    "How much of an impact has defense had on winning?\n",
    "What is everyone's head to head records against other teams? "
   ]
  }
 ],
 "metadata": {
  "kernelspec": {
   "display_name": "Python 3 (ipykernel)",
   "language": "python",
   "name": "python3"
  },
  "language_info": {
   "codemirror_mode": {
    "name": "ipython",
    "version": 3
   },
   "file_extension": ".py",
   "mimetype": "text/x-python",
   "name": "python",
   "nbconvert_exporter": "python",
   "pygments_lexer": "ipython3",
   "version": "3.11.5"
  }
 },
 "nbformat": 4,
 "nbformat_minor": 5
}

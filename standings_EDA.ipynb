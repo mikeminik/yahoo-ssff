{
 "cells": [
  {
   "cell_type": "code",
   "execution_count": 1,
   "id": "041d028d-81b9-46ac-a571-b98f102e80c9",
   "metadata": {},
   "outputs": [],
   "source": [
    "%run utils.ipynb"
   ]
  },
  {
   "cell_type": "code",
   "execution_count": 2,
   "id": "d26644f6-8364-40fc-b844-3268d2cd2bad",
   "metadata": {},
   "outputs": [],
   "source": [
    "import numpy as np\n",
    "import pandas as pd\n",
    "import matplotlib.pyplot as plt\n",
    "\n",
    "from ipywidgets import interact\n",
    "\n"
   ]
  },
  {
   "cell_type": "code",
   "execution_count": 3,
   "id": "63687fc4-2562-4c33-98b0-48814bf2db3f",
   "metadata": {},
   "outputs": [],
   "source": [
    "df = pd.read_csv('./output/standings_to_date.csv')"
   ]
  },
  {
   "cell_type": "code",
   "execution_count": 4,
   "id": "bc7ef4ac-c5b7-47fd-8ca0-c111b29d436c",
   "metadata": {},
   "outputs": [],
   "source": [
    "df = rename_standings_raw_data(df)"
   ]
  },
  {
   "cell_type": "code",
   "execution_count": 5,
   "id": "b20bf3d1-165e-43ce-a655-3422df20c5a4",
   "metadata": {},
   "outputs": [],
   "source": [
    "df['manager_nickname'] = df['managers.manager'].apply(get_manager_nickname)\n",
    "df['manager_id'] = df['managers.manager'].apply(get_manager_id)\n"
   ]
  },
  {
   "cell_type": "code",
   "execution_count": 7,
   "id": "3310ea36-50cb-4cc9-b050-3193da760c7c",
   "metadata": {},
   "outputs": [
    {
     "data": {
      "text/plain": [
       "Index(['clinched_playoffs', 'division_id', 'draft_grade', 'draft_position',\n",
       "       'draft_recap_url', 'faab_balance', 'has_draft_grade',\n",
       "       'league_scoring_type', 'team_name', 'number_of_moves',\n",
       "       'number_of_trades', 'team_id', 'team_key', 'url', 'waiver_priority',\n",
       "       'season', 'managers.manager', 'roster_adds.coverage_type',\n",
       "       'roster_adds.coverage_value', 'roster_adds.value',\n",
       "       'team_logos.team_logo', 'team_points.coverage_type',\n",
       "       'team_points.season', 'team_points.total',\n",
       "       'team_standings.divisional_outcome_totals.losses',\n",
       "       'team_standings.divisional_outcome_totals.ties',\n",
       "       'team_standings.divisional_outcome_totals.wins', 'losses',\n",
       "       'win_percentage', 'ties', 'wins', 'playoff_seed', 'points_against',\n",
       "       'points_for', 'standings_position', 'team_standings.streak.type',\n",
       "       'team_standings.streak.value', 'is_owned_by_current_login',\n",
       "       'manager_nickname', 'manager_id'],\n",
       "      dtype='object')"
      ]
     },
     "execution_count": 7,
     "metadata": {},
     "output_type": "execute_result"
    }
   ],
   "source": [
    "df.columns"
   ]
  },
  {
   "cell_type": "code",
   "execution_count": 8,
   "id": "51fd3607-2c14-4a7d-a34f-1bdca2c554d8",
   "metadata": {},
   "outputs": [],
   "source": [
    "df['team_name'] = df['team_name'].apply(lambda x: x[1:])"
   ]
  },
  {
   "cell_type": "code",
   "execution_count": 11,
   "id": "0781bbec-9d6d-420c-9436-518e7c654ab4",
   "metadata": {},
   "outputs": [],
   "source": [
    "df.loc[df['team_name'] == \"'Thug Bungalow'\", 'manager_nickname'] = 'Michael'"
   ]
  },
  {
   "cell_type": "code",
   "execution_count": 12,
   "id": "ab132993-8d1c-4704-a750-0b4e10edec69",
   "metadata": {},
   "outputs": [],
   "source": [
    "df.loc[df['team_name'] == \"'The fishingtons'\", 'manager_nickname'] = 'Buddy'"
   ]
  },
  {
   "cell_type": "code",
   "execution_count": 13,
   "id": "43333165-bb9c-4a90-9a79-0da6e95b33ef",
   "metadata": {},
   "outputs": [],
   "source": [
    "df.loc[df['manager_nickname'] == 'Mattjones', 'manager_nickname'] = 'Jones'"
   ]
  },
  {
   "cell_type": "code",
   "execution_count": 14,
   "id": "00ec64ac-c9bc-4337-95bb-843a325d6c40",
   "metadata": {},
   "outputs": [],
   "source": [
    "df.loc[df['manager_nickname'] == 'Matt', 'manager_nickname'] = 'Matt Frags'"
   ]
  },
  {
   "cell_type": "code",
   "execution_count": 15,
   "id": "12391841-339d-4a4f-98b7-3854be00b9fc",
   "metadata": {},
   "outputs": [],
   "source": [
    "df.loc[df['manager_nickname'] == 'Pd', 'manager_nickname'] = 'Pat'"
   ]
  },
  {
   "cell_type": "code",
   "execution_count": 18,
   "id": "7a7ee45a-ce3d-4df2-99bb-a18bd237c914",
   "metadata": {},
   "outputs": [
    {
     "data": {
      "application/vnd.jupyter.widget-view+json": {
       "model_id": "2b6469b06b0547c19263ca920f26b26e",
       "version_major": 2,
       "version_minor": 0
      },
      "text/plain": [
       "interactive(children=(Dropdown(description='manager', options=('Nick', 'Michael', 'Ricky', 'Peter', 'Buddy', '…"
      ]
     },
     "metadata": {},
     "output_type": "display_data"
    }
   ],
   "source": [
    "@interact\n",
    "\n",
    "def filter_df(manager = list(df['manager_nickname'].unique())):\n",
    "    filtered_df = df[df['manager_nickname'] == manager][['season','team_name', 'win_percentage', 'standings_position']]\n",
    "\n",
    "    return filtered_df"
   ]
  },
  {
   "cell_type": "code",
   "execution_count": 16,
   "id": "5300c1d0-73e6-4094-935e-73428201a71b",
   "metadata": {},
   "outputs": [
    {
     "data": {
      "application/vnd.jupyter.widget-view+json": {
       "model_id": "18083347aecd42d48df1b3b0eccbad64",
       "version_major": 2,
       "version_minor": 0
      },
      "text/plain": [
       "interactive(children=(Dropdown(description='team', options=('Nick', 'Michael', 'Ricky', 'Peter', 'Buddy', 'Kyl…"
      ]
     },
     "metadata": {},
     "output_type": "display_data"
    }
   ],
   "source": [
    "@interact\n",
    "\n",
    "def win_percentage_by_season(team = list(df['manager_nickname'].unique())):\n",
    "\n",
    "    filtered_df = df[df['manager_nickname'] == team][['season','team_name', 'win_percentage', 'standings_position']]\n",
    "\n",
    "    colors = np.where(filtered_df['win_percentage'] >= 0.5, 'navy', 'orange')\n",
    "    plt.figure(figsize=(12,8))\n",
    "    xmin = filtered_df.season.iloc[0]\n",
    "    xmax = filtered_df.season.iloc[-1]\n",
    "    plt.vlines(filtered_df['season'], ymin=0.5, ymax=filtered_df['win_percentage'], color=colors, alpha=.3)\n",
    "    plt.scatter(filtered_df['season'], y=filtered_df['win_percentage'], color=colors, s=50)\n",
    "    plt.ylim(0,1)\n",
    "    plt.hlines(0.5,xmin, xmax,linestyles='dotted', color='grey', alpha = 0.2)\n",
    "    plt.title(f\"Win Percentage: {team}\", size = 16)\n",
    "    plt.ylabel('Win Percentage', size = 14)\n",
    "    plt.xlabel('Season', size = 14)\n",
    "    \n",
    "    \n",
    "    plt.show()"
   ]
  },
  {
   "cell_type": "markdown",
   "id": "d252cd38-e969-4fef-acfc-5c6c52d785b2",
   "metadata": {},
   "source": [
    "Questions to ask:\n",
    "\n",
    "How much of an impact has defense had on winning?\n",
    "What is everyone's head to head records against other teams? "
   ]
  }
 ],
 "metadata": {
  "kernelspec": {
   "display_name": "Python 3 (ipykernel)",
   "language": "python",
   "name": "python3"
  },
  "language_info": {
   "codemirror_mode": {
    "name": "ipython",
    "version": 3
   },
   "file_extension": ".py",
   "mimetype": "text/x-python",
   "name": "python",
   "nbconvert_exporter": "python",
   "pygments_lexer": "ipython3",
   "version": "3.11.5"
  }
 },
 "nbformat": 4,
 "nbformat_minor": 5
}

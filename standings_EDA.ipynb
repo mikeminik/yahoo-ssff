{
 "cells": [
  {
   "cell_type": "code",
   "execution_count": 1,
   "id": "d26644f6-8364-40fc-b844-3268d2cd2bad",
   "metadata": {},
   "outputs": [],
   "source": [
    "import numpy as np\n",
    "import pandas as pd\n",
    "import matplotlib.pyplot as plt"
   ]
  },
  {
   "cell_type": "code",
   "execution_count": 100,
   "id": "cc79155f-e991-4f55-8c09-956b843cd5fa",
   "metadata": {},
   "outputs": [],
   "source": [
    "def get_manager_nickname(string):\n",
    "    manager_info = string.split('\"manager_id\"')[1]\n",
    "    manager_info_halves = manager_info.strip(\"})']\").replace(\"\\n\",\"\").replace(' ','').replace(':','').replace(',','').strip().split('\"nickname\"')\n",
    "    nickname = manager_info_halves[1].replace('\"','')\n",
    "    nickname = nickname.capitalize()\n",
    "    return nickname\n",
    "    "
   ]
  },
  {
   "cell_type": "code",
   "execution_count": 101,
   "id": "edbd928d-2d5f-4074-b416-2285e9d60971",
   "metadata": {},
   "outputs": [],
   "source": [
    "def get_manager_id(string):\n",
    "    manager_info = string.split('\"manager_id\"')[1]\n",
    "    manager_info_halves = manager_info.strip(\"})']\").replace(\"\\n\",\"\").replace(' ','').replace(':','').replace(',','').strip().split('\"nickname\"')\n",
    "    id = manager_info_halves[0]\n",
    "    return id"
   ]
  },
  {
   "cell_type": "code",
   "execution_count": 302,
   "id": "d74c3e62-29ce-4849-83e9-4c76713dd0fa",
   "metadata": {},
   "outputs": [],
   "source": [
    "class ssf_season:\n",
    "    \"\"\"Creates an object representing a single season from a larger dataset.\n",
    "    Convenient statistics about the season can then be easily accessed as properties.\n",
    "    \n",
    "    Parameters:\n",
    "    year : int\n",
    "        Year the season began\n",
    "    standings_data : Pandas dataframe\n",
    "        Dataframe containing league standings information\n",
    "    \n",
    "    \"\"\"\n",
    "    masks = {\n",
    "    '2015': df['season'] == 2015,\n",
    "    '2016': df['season'] == 2016,\n",
    "    '2017': df['season'] == 2017,\n",
    "    '2018': df['season'] == 2018,\n",
    "    '2019': df['season'] == 2019,\n",
    "    '2020': df['season'] == 2020,\n",
    "    '2021': df['season'] == 2021,\n",
    "    '2022': df['season'] == 2022,\n",
    "    '2023': df['season'] == 2023\n",
    "    }\n",
    "    def __init__(self, year, standings_data, raw_weekly_info = None):\n",
    "        self.year = year\n",
    "        self.raw_standings_data = standings_data[masks[str(year)]]\n",
    "        _df = self.raw_standings_data.copy()\n",
    "        _df = _df.rename({\n",
    "                            'name': 'team_name',\n",
    "                            'team_standings.rank' : 'standings_position',\n",
    "                            'team_standings.outcome_totals.wins' : 'wins',\n",
    "                            'team_standings.outcome_totals.losses' : 'losses',\n",
    "                            'team_standings.outcome_totals.percentage' : 'win_percentage',\n",
    "                            'team_standings.points_for': 'points_for',\n",
    "                            'team_standings.points_against' : 'points_against'\n",
    "                        }, axis = 1)\n",
    "        # _df['manager_nickname'] = _df['managers.manager'].apply(get_manager_nickname)\n",
    "        # _df['manager_id'] = _df['managers.manager'].apply(get_manager_id)\n",
    "        self._season_champion = _df.loc[_df['standings_position']==1, ('team_name','manager_nickname')]\n",
    "        self._standings_data = _df[['standings_position',\n",
    "                                    'team_name',\n",
    "                                    'wins',\n",
    "                                    'losses',\n",
    "                                    'win_percentage',\n",
    "                                    'manager_nickname',\n",
    "                                    'manager_id']]\n",
    "\n",
    "        self._pf_pa = _df[['standings_position',\n",
    "                           'team_name',\n",
    "                           'manager_nickname',\n",
    "                           'points_for',\n",
    "                           'points_against']].copy()\n",
    "        self._pf_pa['point_differential'] = self._pf_pa['points_for'] - self._pf_pa['points_against']\n",
    "    @property\n",
    "    def season_champion(self):\n",
    "        return [self._season_champion['team_name'][0], self._season_champion['manager_nickname'][0]]\n",
    "\n",
    "    @property\n",
    "    def season_champion_manager(self):\n",
    "        return self._season_champion['manager_nickname'][0]\n",
    "\n",
    "    @property\n",
    "    def standings_data(self):\n",
    "        \"\"\"\n",
    "        Simplified standings data for the season object\n",
    "        \"\"\"\n",
    "        return self._standings_data.set_index('standings_position')\n",
    "\n",
    "    @property\n",
    "    def standings_data_by_win_percentage(self):\n",
    "        \"\"\"\n",
    "        Standings sorted by win percentage descending\n",
    "        \"\"\"\n",
    "        return self._standings_data.sort_values(by='win_percentage', ascending=False).set_index('standings_position')\n",
    "\n",
    "    @property\n",
    "    def pf_pa(self):\n",
    "        return self._pf_pa.set_index('standings_position')\n",
    "        "
   ]
  },
  {
   "cell_type": "code",
   "execution_count": null,
   "id": "e2929541-fa9a-48f5-be1c-6e330a3cbf05",
   "metadata": {},
   "outputs": [],
   "source": []
  },
  {
   "cell_type": "code",
   "execution_count": 270,
   "id": "bc7ef4ac-c5b7-47fd-8ca0-c111b29d436c",
   "metadata": {},
   "outputs": [
    {
     "data": {
      "text/plain": [
       "Index(['clinched_playoffs', 'division_id', 'draft_grade', 'draft_position',\n",
       "       'draft_recap_url', 'faab_balance', 'has_draft_grade',\n",
       "       'league_scoring_type', 'name', 'number_of_moves', 'number_of_trades',\n",
       "       'team_id', 'team_key', 'url', 'waiver_priority', 'season',\n",
       "       'managers.manager', 'roster_adds.coverage_type',\n",
       "       'roster_adds.coverage_value', 'roster_adds.value',\n",
       "       'team_logos.team_logo', 'team_points.coverage_type',\n",
       "       'team_points.season', 'team_points.total',\n",
       "       'team_standings.divisional_outcome_totals.losses',\n",
       "       'team_standings.divisional_outcome_totals.ties',\n",
       "       'team_standings.divisional_outcome_totals.wins',\n",
       "       'team_standings.outcome_totals.losses',\n",
       "       'team_standings.outcome_totals.percentage',\n",
       "       'team_standings.outcome_totals.ties',\n",
       "       'team_standings.outcome_totals.wins', 'team_standings.playoff_seed',\n",
       "       'team_standings.points_against', 'team_standings.points_for',\n",
       "       'team_standings.rank', 'team_standings.streak.type',\n",
       "       'team_standings.streak.value', 'is_owned_by_current_login',\n",
       "       'manager_id', 'manager_nickname'],\n",
       "      dtype='object')"
      ]
     },
     "execution_count": 270,
     "metadata": {},
     "output_type": "execute_result"
    }
   ],
   "source": [
    "df.columns"
   ]
  },
  {
   "cell_type": "code",
   "execution_count": null,
   "id": "40a41cbb-4eef-482a-8b4b-8904adcf8914",
   "metadata": {},
   "outputs": [],
   "source": [
    "class ssf_combined_seasons:\n",
    "    def __init__(self, standings_data, raw_weekly_info = None):\n",
    "        "
   ]
  },
  {
   "cell_type": "code",
   "execution_count": 112,
   "id": "9f8d58f8-ee9b-48b4-bdbf-398522b5e9e2",
   "metadata": {},
   "outputs": [],
   "source": []
  },
  {
   "cell_type": "code",
   "execution_count": 2,
   "id": "63687fc4-2562-4c33-98b0-48814bf2db3f",
   "metadata": {},
   "outputs": [],
   "source": [
    "df = pd.read_csv('./output/standings_to_date.csv')"
   ]
  },
  {
   "cell_type": "code",
   "execution_count": 3,
   "id": "669618a9-cfd5-4591-bf5c-4e643f942223",
   "metadata": {},
   "outputs": [
    {
     "data": {
      "text/plain": [
       "(126, 38)"
      ]
     },
     "execution_count": 3,
     "metadata": {},
     "output_type": "execute_result"
    }
   ],
   "source": [
    "df.shape"
   ]
  },
  {
   "cell_type": "code",
   "execution_count": 245,
   "id": "b20bf3d1-165e-43ce-a655-3422df20c5a4",
   "metadata": {},
   "outputs": [],
   "source": [
    "df['manager_nickname'] = df['managers.manager'].apply(get_manager_nickname)\n",
    "df['manager_id'] = df['managers.manager'].apply(get_manager_id)\n"
   ]
  },
  {
   "cell_type": "code",
   "execution_count": null,
   "id": "51fd3607-2c14-4a7d-a34f-1bdca2c554d8",
   "metadata": {},
   "outputs": [],
   "source": [
    "df['name'] = df['name'].apply(lambda x: x[1:])"
   ]
  },
  {
   "cell_type": "code",
   "execution_count": 252,
   "id": "0781bbec-9d6d-420c-9436-518e7c654ab4",
   "metadata": {},
   "outputs": [],
   "source": [
    "df.loc[df['name'] == \"'Thug Bungalow'\", 'manager_nickname'] = 'Michael'"
   ]
  },
  {
   "cell_type": "code",
   "execution_count": 255,
   "id": "ab132993-8d1c-4704-a750-0b4e10edec69",
   "metadata": {},
   "outputs": [],
   "source": [
    "df.loc[df['name'] == \"'The fishingtons'\", 'manager_nickname'] = 'Buddy'"
   ]
  },
  {
   "cell_type": "code",
   "execution_count": 262,
   "id": "43333165-bb9c-4a90-9a79-0da6e95b33ef",
   "metadata": {},
   "outputs": [],
   "source": [
    "df.loc[df['manager_nickname'] == 'Mattjones', 'manager_nickname'] = 'Jones'"
   ]
  },
  {
   "cell_type": "code",
   "execution_count": 263,
   "id": "12391841-339d-4a4f-98b7-3854be00b9fc",
   "metadata": {},
   "outputs": [],
   "source": [
    "df.loc[df['manager_nickname'] == 'Pd', 'manager_nickname'] = 'Pat'"
   ]
  },
  {
   "cell_type": "code",
   "execution_count": 303,
   "id": "a1c11028-fdd5-4d5c-9833-b89bb3be2794",
   "metadata": {},
   "outputs": [],
   "source": [
    "ssf_15 = ssf_season(2015, df)"
   ]
  },
  {
   "cell_type": "code",
   "execution_count": 304,
   "id": "ce9f50ec-c548-49d8-89f8-14236648b953",
   "metadata": {},
   "outputs": [
    {
     "data": {
      "text/plain": [
       "'Nick'"
      ]
     },
     "execution_count": 304,
     "metadata": {},
     "output_type": "execute_result"
    }
   ],
   "source": [
    "ssf_15.season_champion_manager"
   ]
  },
  {
   "cell_type": "code",
   "execution_count": 300,
   "id": "f12f1d8c-0f4d-4041-85f5-21d65d551875",
   "metadata": {},
   "outputs": [],
   "source": [
    "ssf_16 = ssf_season(2016, df)"
   ]
  },
  {
   "cell_type": "code",
   "execution_count": 301,
   "id": "0b0c9c00-3909-4a1b-bd95-c627ee618877",
   "metadata": {},
   "outputs": [
    {
     "data": {
      "text/html": [
       "<div>\n",
       "<style scoped>\n",
       "    .dataframe tbody tr th:only-of-type {\n",
       "        vertical-align: middle;\n",
       "    }\n",
       "\n",
       "    .dataframe tbody tr th {\n",
       "        vertical-align: top;\n",
       "    }\n",
       "\n",
       "    .dataframe thead th {\n",
       "        text-align: right;\n",
       "    }\n",
       "</style>\n",
       "<table border=\"1\" class=\"dataframe\">\n",
       "  <thead>\n",
       "    <tr style=\"text-align: right;\">\n",
       "      <th></th>\n",
       "      <th>team_name</th>\n",
       "      <th>manager_nickname</th>\n",
       "      <th>points_for</th>\n",
       "      <th>points_against</th>\n",
       "      <th>point_differential</th>\n",
       "    </tr>\n",
       "    <tr>\n",
       "      <th>standings_position</th>\n",
       "      <th></th>\n",
       "      <th></th>\n",
       "      <th></th>\n",
       "      <th></th>\n",
       "      <th></th>\n",
       "    </tr>\n",
       "  </thead>\n",
       "  <tbody>\n",
       "    <tr>\n",
       "      <th>1</th>\n",
       "      <td>'The fishingtons'</td>\n",
       "      <td>Buddy</td>\n",
       "      <td>1318.91</td>\n",
       "      <td>1158.34</td>\n",
       "      <td>160.57</td>\n",
       "    </tr>\n",
       "    <tr>\n",
       "      <th>2</th>\n",
       "      <td>'SuperCam That Ho'</td>\n",
       "      <td>Lauren</td>\n",
       "      <td>1240.91</td>\n",
       "      <td>1179.19</td>\n",
       "      <td>61.72</td>\n",
       "    </tr>\n",
       "    <tr>\n",
       "      <th>3</th>\n",
       "      <td>'The Scientist'</td>\n",
       "      <td>Kyle</td>\n",
       "      <td>1317.24</td>\n",
       "      <td>1267.61</td>\n",
       "      <td>49.63</td>\n",
       "    </tr>\n",
       "    <tr>\n",
       "      <th>4</th>\n",
       "      <td>\"We're Back\"</td>\n",
       "      <td>Nate</td>\n",
       "      <td>1198.14</td>\n",
       "      <td>1208.51</td>\n",
       "      <td>-10.37</td>\n",
       "    </tr>\n",
       "    <tr>\n",
       "      <th>5</th>\n",
       "      <td>'who invited canada'</td>\n",
       "      <td>Peter</td>\n",
       "      <td>1368.50</td>\n",
       "      <td>1341.00</td>\n",
       "      <td>27.50</td>\n",
       "    </tr>\n",
       "    <tr>\n",
       "      <th>6</th>\n",
       "      <td>'The Ice Cold Bruschi'</td>\n",
       "      <td>Ricky</td>\n",
       "      <td>1507.68</td>\n",
       "      <td>1257.05</td>\n",
       "      <td>250.63</td>\n",
       "    </tr>\n",
       "    <tr>\n",
       "      <th>7</th>\n",
       "      <td>'Thug Bungalow'</td>\n",
       "      <td>Michael</td>\n",
       "      <td>1273.57</td>\n",
       "      <td>1262.41</td>\n",
       "      <td>11.16</td>\n",
       "    </tr>\n",
       "    <tr>\n",
       "      <th>8</th>\n",
       "      <td>'Victor Cruisin'</td>\n",
       "      <td>Matt</td>\n",
       "      <td>1338.66</td>\n",
       "      <td>1306.68</td>\n",
       "      <td>31.98</td>\n",
       "    </tr>\n",
       "    <tr>\n",
       "      <th>9</th>\n",
       "      <td>'Immortal Duffmen'</td>\n",
       "      <td>Pat</td>\n",
       "      <td>1292.90</td>\n",
       "      <td>1284.79</td>\n",
       "      <td>8.11</td>\n",
       "    </tr>\n",
       "    <tr>\n",
       "      <th>10</th>\n",
       "      <td>'Thunder Crotches'</td>\n",
       "      <td>Jake</td>\n",
       "      <td>1238.49</td>\n",
       "      <td>1304.52</td>\n",
       "      <td>-66.03</td>\n",
       "    </tr>\n",
       "    <tr>\n",
       "      <th>11</th>\n",
       "      <td>'Starr is Born'</td>\n",
       "      <td>Nick</td>\n",
       "      <td>1250.76</td>\n",
       "      <td>1187.17</td>\n",
       "      <td>63.59</td>\n",
       "    </tr>\n",
       "    <tr>\n",
       "      <th>12</th>\n",
       "      <td>'The Twelve Apostles'</td>\n",
       "      <td>Jones</td>\n",
       "      <td>1341.19</td>\n",
       "      <td>1248.40</td>\n",
       "      <td>92.79</td>\n",
       "    </tr>\n",
       "    <tr>\n",
       "      <th>13</th>\n",
       "      <td>\"Jadeveon's Hit Men\"</td>\n",
       "      <td>Tim</td>\n",
       "      <td>1125.47</td>\n",
       "      <td>1256.76</td>\n",
       "      <td>-131.29</td>\n",
       "    </tr>\n",
       "    <tr>\n",
       "      <th>14</th>\n",
       "      <td>\"John Brown's Army\"</td>\n",
       "      <td>Eric</td>\n",
       "      <td>709.39</td>\n",
       "      <td>1259.38</td>\n",
       "      <td>-549.99</td>\n",
       "    </tr>\n",
       "  </tbody>\n",
       "</table>\n",
       "</div>"
      ],
      "text/plain": [
       "                                 team_name manager_nickname  points_for  \\\n",
       "standings_position                                                        \n",
       "1                        'The fishingtons'            Buddy     1318.91   \n",
       "2                       'SuperCam That Ho'           Lauren     1240.91   \n",
       "3                          'The Scientist'             Kyle     1317.24   \n",
       "4                             \"We're Back\"             Nate     1198.14   \n",
       "5                     'who invited canada'            Peter     1368.50   \n",
       "6                   'The Ice Cold Bruschi'            Ricky     1507.68   \n",
       "7                          'Thug Bungalow'          Michael     1273.57   \n",
       "8                         'Victor Cruisin'             Matt     1338.66   \n",
       "9                       'Immortal Duffmen'              Pat     1292.90   \n",
       "10                      'Thunder Crotches'             Jake     1238.49   \n",
       "11                         'Starr is Born'             Nick     1250.76   \n",
       "12                   'The Twelve Apostles'            Jones     1341.19   \n",
       "13                    \"Jadeveon's Hit Men\"              Tim     1125.47   \n",
       "14                     \"John Brown's Army\"             Eric      709.39   \n",
       "\n",
       "                    points_against  point_differential  \n",
       "standings_position                                      \n",
       "1                          1158.34              160.57  \n",
       "2                          1179.19               61.72  \n",
       "3                          1267.61               49.63  \n",
       "4                          1208.51              -10.37  \n",
       "5                          1341.00               27.50  \n",
       "6                          1257.05              250.63  \n",
       "7                          1262.41               11.16  \n",
       "8                          1306.68               31.98  \n",
       "9                          1284.79                8.11  \n",
       "10                         1304.52              -66.03  \n",
       "11                         1187.17               63.59  \n",
       "12                         1248.40               92.79  \n",
       "13                         1256.76             -131.29  \n",
       "14                         1259.38             -549.99  "
      ]
     },
     "execution_count": 301,
     "metadata": {},
     "output_type": "execute_result"
    }
   ],
   "source": [
    "ssf_16.pf_pa"
   ]
  },
  {
   "cell_type": "code",
   "execution_count": null,
   "id": "5300c1d0-73e6-4094-935e-73428201a71b",
   "metadata": {},
   "outputs": [],
   "source": []
  }
 ],
 "metadata": {
  "kernelspec": {
   "display_name": "Python 3 (ipykernel)",
   "language": "python",
   "name": "python3"
  },
  "language_info": {
   "codemirror_mode": {
    "name": "ipython",
    "version": 3
   },
   "file_extension": ".py",
   "mimetype": "text/x-python",
   "name": "python",
   "nbconvert_exporter": "python",
   "pygments_lexer": "ipython3",
   "version": "3.11.5"
  }
 },
 "nbformat": 4,
 "nbformat_minor": 5
}

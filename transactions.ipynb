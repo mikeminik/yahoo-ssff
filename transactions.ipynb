{
 "cells": [
  {
   "cell_type": "code",
   "execution_count": null,
   "id": "c32cbd96-af46-4c16-8107-0fa5a7e7ba1f",
   "metadata": {},
   "outputs": [],
   "source": []
  },
  {
   "cell_type": "code",
   "execution_count": 45,
   "id": "70517031-e5aa-47e3-9af7-695eb3b15623",
   "metadata": {},
   "outputs": [],
   "source": [
    "season_2023 = YahooFantasySportsQuery(\n",
    "    auth_dir,\n",
    "    league_id='333146',\n",
    "    game_code='nfl',\n",
    "    game_id='423'\n",
    "    \n",
    ")"
   ]
  },
  {
   "cell_type": "code",
   "execution_count": 48,
   "id": "0a63be68-993f-4e70-ab83-50fbb403085e",
   "metadata": {},
   "outputs": [],
   "source": [
    "transactions_2023 = season_2023.get_league_transactions()"
   ]
  },
  {
   "cell_type": "code",
   "execution_count": null,
   "id": "22c2e6fd-a58f-472d-a899-af8f655b911c",
   "metadata": {},
   "outputs": [],
   "source": []
  },
  {
   "cell_type": "code",
   "execution_count": 70,
   "id": "fa089965-3f30-43ac-830b-aeb74bcf8cfc",
   "metadata": {},
   "outputs": [
    {
     "data": {
      "text/plain": [
       "TransactionData({\n",
       "  \"destination_type\": \"waivers\",\n",
       "  \"source_team_key\": \"423.l.333146.t.1\",\n",
       "  \"source_team_name\": \"The Ice Cold Bruschi\",\n",
       "  \"source_type\": \"team\",\n",
       "  \"type\": \"drop\"\n",
       "})"
      ]
     },
     "execution_count": 70,
     "metadata": {},
     "output_type": "execute_result"
    }
   ],
   "source": [
    "transactions_2023[0].players[1].transaction_data"
   ]
  },
  {
   "cell_type": "code",
   "execution_count": null,
   "id": "407dc855-655f-4b6c-9c63-a6624318dd7b",
   "metadata": {},
   "outputs": [],
   "source": [
    "\n",
    "for transaction in transactions_2023:\n",
    "    for player in transaction.players:\n",
    "        "
   ]
  }
 ],
 "metadata": {
  "kernelspec": {
   "display_name": "Python 3 (ipykernel)",
   "language": "python",
   "name": "python3"
  },
  "language_info": {
   "codemirror_mode": {
    "name": "ipython",
    "version": 3
   },
   "file_extension": ".py",
   "mimetype": "text/x-python",
   "name": "python",
   "nbconvert_exporter": "python",
   "pygments_lexer": "ipython3",
   "version": "3.11.5"
  }
 },
 "nbformat": 4,
 "nbformat_minor": 5
}

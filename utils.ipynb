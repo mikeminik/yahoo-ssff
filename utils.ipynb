{
 "cells": [
  {
   "cell_type": "code",
   "execution_count": 28,
   "id": "c23e1666-2415-4eda-a986-73f3559aca64",
   "metadata": {},
   "outputs": [],
   "source": [
    "def get_manager_nickname(string):\n",
    "    manager_info = string.split('\"manager_id\"')[1]\n",
    "    manager_info_halves = manager_info.strip(\"})']\").replace(\"\\n\",\"\").replace(' ','').replace(':','').replace(',','').strip().split('\"nickname\"')\n",
    "    nickname = manager_info_halves[1].replace('\"','')\n",
    "    nickname = nickname.capitalize()\n",
    "    return nickname\n",
    "    "
   ]
  },
  {
   "cell_type": "code",
   "execution_count": 29,
   "id": "327cb9e2-13b7-4e80-bf49-1054a0ca59df",
   "metadata": {},
   "outputs": [],
   "source": [
    "def get_manager_id(string):\n",
    "    manager_info = string.split('\"manager_id\"')[1]\n",
    "    manager_info_halves = manager_info.strip(\"})']\").replace(\"\\n\",\"\").replace(' ','').replace(':','').replace(',','').strip().split('\"nickname\"')\n",
    "    id = manager_info_halves[0]\n",
    "    return id"
   ]
  },
  {
   "cell_type": "code",
   "execution_count": 1,
   "id": "cbd6131f-2b90-4639-a4d0-70725433cb9b",
   "metadata": {},
   "outputs": [],
   "source": [
    "def rename_standings_raw_data(dataframe):\n",
    "    df = dataframe.rename({\n",
    "                    'name': 'team_name',\n",
    "                    'team_standings.rank' : 'standings_position',\n",
    "                    'team_standings.outcome_totals.wins' : 'wins',\n",
    "                    'team_standings.outcome_totals.losses' : 'losses',\n",
    "                    'team_standings.outcome_totals.ties' : 'ties',\n",
    "                    'team_standings.outcome_totals.percentage' : 'win_percentage',\n",
    "                    'team_standings.points_for': 'points_for',\n",
    "                    'team_standings.points_against' : 'points_against',\n",
    "                    'team_standings.playoff_seed' : 'playoff_seed'\n",
    "                }, axis = 1)\n",
    "    return df"
   ]
  },
  {
   "cell_type": "code",
   "execution_count": 2,
   "id": "c388a9f5-8aed-4959-b9d8-b3e9e0b8bf11",
   "metadata": {},
   "outputs": [],
   "source": [
    "def map_teams_to_name(team_name):\n",
    "    map = {\n",
    "        'starr is born': 'Nick',\n",
    "        '#1 patriots fan': 'Nick',\n",
    "        'thug bungalow': 'Michael',\n",
    "        'the ice cold bruschi' : 'Ricky',\n",
    "        'who invited canada' : 'Peter',\n",
    "        'the fishingtons' : 'Buddy',\n",
    "        'the scientist' : 'Kyle',\n",
    "        'gibbs me a break': 'Kyle',\n",
    "        \"victor cruisin\": 'Frags',\n",
    "        'big blue': 'Frags',\n",
    "        'saquon these nuts' : 'Frags',\n",
    "        \"jadeveon's hit men\" : 'Tim',\n",
    "        'immortal duffmen': 'Pat',\n",
    "        'thunder crotches': 'Jake',\n",
    "        \"kurtz' horror\": 'Jones',\n",
    "        'the twelve apostles': 'Jones',\n",
    "        \"lauren's legit team\": 'Lauren',\n",
    "        'supercam that ho': 'Lauren',\n",
    "        \"john brown's army\": 'Eric',\n",
    "        \"we're back\": 'Nate',\n",
    "        'wereback': 'Nate'\n",
    "    }\n",
    "    if team_name.lower() in map.keys():\n",
    "        return map[team_name.lower()]\n",
    "    else:\n",
    "        return 'unknown'"
   ]
  },
  {
   "cell_type": "code",
   "execution_count": 62,
   "id": "c3503518-df81-46a9-8d36-066d4570ff3b",
   "metadata": {},
   "outputs": [],
   "source": [
    "def generate_season_matchup_data(yahoo_query, team_ids):\n",
    "    all_season_results = []\n",
    "    for id in team_ids:\n",
    "        print(f\"Generating season matchup data for team ID {id}\")\n",
    "        for matchup in yahoo_query.get_team_matchups(id):\n",
    "            #create and append a result for each matchup for a team before moving to the next\n",
    "            result = {\n",
    "                'week' : matchup.teams[0].team_points.week,\n",
    "                'team_name' : matchup.teams[0].name,\n",
    "                'season_id' : matchup.teams[0].managers[0].manager_id,\n",
    "                'manager_name' : matchup.teams[0].managers[0].nickname,\n",
    "                'opponent_team_name' : matchup.teams[1].name,\n",
    "                'opponent_season_id' : matchup.teams[1].managers[0].manager_id,\n",
    "                'opponent_name' : matchup.teams[1].managers[0].nickname,\n",
    "                'projected_points_for' : matchup.teams[0].team_projected_points.total,\n",
    "                'points_for' : matchup.teams[0].team_points.total,\n",
    "                'projected_points_against' : matchup.teams[1].team_projected_points.total,\n",
    "                'points_against' : matchup.teams[1].team_points.total\n",
    "                }\n",
    "            all_season_results.append(result)\n",
    "    return pd.DataFrame(all_season_results)"
   ]
  },
  {
   "cell_type": "code",
   "execution_count": null,
   "id": "ff59f7f5-d79a-4e61-88f9-6edaf43084df",
   "metadata": {},
   "outputs": [],
   "source": []
  }
 ],
 "metadata": {
  "kernelspec": {
   "display_name": "Python 3 (ipykernel)",
   "language": "python",
   "name": "python3"
  },
  "language_info": {
   "codemirror_mode": {
    "name": "ipython",
    "version": 3
   },
   "file_extension": ".py",
   "mimetype": "text/x-python",
   "name": "python",
   "nbconvert_exporter": "python",
   "pygments_lexer": "ipython3",
   "version": "3.11.5"
  }
 },
 "nbformat": 4,
 "nbformat_minor": 5
}

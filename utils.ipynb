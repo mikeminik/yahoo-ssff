{
 "cells": [
  {
   "cell_type": "code",
   "execution_count": 28,
   "id": "c23e1666-2415-4eda-a986-73f3559aca64",
   "metadata": {},
   "outputs": [],
   "source": [
    "def get_manager_nickname(string):\n",
    "    manager_info = string.split('\"manager_id\"')[1]\n",
    "    manager_info_halves = manager_info.strip(\"})']\").replace(\"\\n\",\"\").replace(' ','').replace(':','').replace(',','').strip().split('\"nickname\"')\n",
    "    nickname = manager_info_halves[1].replace('\"','')\n",
    "    nickname = nickname.capitalize()\n",
    "    return nickname\n",
    "    "
   ]
  },
  {
   "cell_type": "code",
   "execution_count": 29,
   "id": "327cb9e2-13b7-4e80-bf49-1054a0ca59df",
   "metadata": {},
   "outputs": [],
   "source": [
    "def get_manager_id(string):\n",
    "    manager_info = string.split('\"manager_id\"')[1]\n",
    "    manager_info_halves = manager_info.strip(\"})']\").replace(\"\\n\",\"\").replace(' ','').replace(':','').replace(',','').strip().split('\"nickname\"')\n",
    "    id = manager_info_halves[0]\n",
    "    return id"
   ]
  },
  {
   "cell_type": "code",
   "execution_count": 5,
   "id": "cbd6131f-2b90-4639-a4d0-70725433cb9b",
   "metadata": {},
   "outputs": [],
   "source": [
    "def rename_standings_raw_data(dataframe):\n",
    "    df = dataframe.rename({\n",
    "                    'name': 'team_name',\n",
    "                    'team_standings.rank' : 'standings_position',\n",
    "                    'team_standings.outcome_totals.wins' : 'wins',\n",
    "                    'team_standings.outcome_totals.losses' : 'losses',\n",
    "                    'team_standings.outcome_totals.ties' : 'ties',\n",
    "                    'team_standings.outcome_totals.percentage' : 'win_percentage',\n",
    "                    'team_standings.points_for': 'points_for',\n",
    "                    'team_standings.points_against' : 'points_against',\n",
    "                    'team_standings.playoff_seed' : 'playoff_seed'\n",
    "                }, axis = 1)\n",
    "    return df"
   ]
  }
 ],
 "metadata": {
  "kernelspec": {
   "display_name": "Python 3 (ipykernel)",
   "language": "python",
   "name": "python3"
  },
  "language_info": {
   "codemirror_mode": {
    "name": "ipython",
    "version": 3
   },
   "file_extension": ".py",
   "mimetype": "text/x-python",
   "name": "python",
   "nbconvert_exporter": "python",
   "pygments_lexer": "ipython3",
   "version": "3.11.5"
  }
 },
 "nbformat": 4,
 "nbformat_minor": 5
}
